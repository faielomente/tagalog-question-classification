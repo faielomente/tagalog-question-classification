{
 "cells": [
  {
   "cell_type": "code",
   "execution_count": 42,
   "metadata": {
    "collapsed": false,
    "deletable": true,
    "editable": true
   },
   "outputs": [],
   "source": [
    "from preprocessing import preprocessing_csr\n",
    "import collections\n",
    "import math"
   ]
  },
  {
   "cell_type": "code",
   "execution_count": 43,
   "metadata": {
    "collapsed": false,
    "deletable": true,
    "editable": true
   },
   "outputs": [],
   "source": [
    "class treeNode:\n",
    "    \"\"\"variables:\n",
    "    name of the node, a count\n",
    "    nodelink used to link similar items\n",
    "    parent vaiable used to refer to the parent of the node in the tree\n",
    "    node contains an empty dictionary for the children in the node\"\"\"\n",
    "    \n",
    "    def __init__(self, nameValue, numOccur, parentNode):\n",
    "        self.name = nameValue\n",
    "        self.count = numOccur\n",
    "        self.nodeLink = None\n",
    "        self.parent = parentNode      #needs to be updated\n",
    "        self.children = []\n",
    "\n",
    "# get the child of this node with the name 'name'\n",
    "    def get_child(self, name):\n",
    "        for c in self.children:\n",
    "            if c.name == name:\n",
    "                return c\n",
    "        \n",
    "        return None\n",
    "            \n",
    "#increments the count variable with a given amount    \n",
    "    def inc(self, numOccur):\n",
    "        self.count += numOccur\n",
    "\n",
    "#display tree in text. Useful for debugging        \n",
    "    def disp(self, ind=1):\n",
    "        print ('  '*ind, self.name, self.count)\n",
    "        \n",
    "        for child in self.children:\n",
    "            child.disp(ind+1)"
   ]
  },
  {
   "cell_type": "markdown",
   "metadata": {},
   "source": [
    "### Testin the Tree Structure"
   ]
  },
  {
   "cell_type": "code",
   "execution_count": 44,
   "metadata": {
    "collapsed": false,
    "deletable": true,
    "editable": true
   },
   "outputs": [],
   "source": [
    "# testing the tree\n",
    "# rootNode = treeNode('pyramid',9,None)\n",
    "# rootNode.children.append(treeNode('eye',13,None))\n",
    "# rootNode.disp()"
   ]
  },
  {
   "cell_type": "markdown",
   "metadata": {},
   "source": [
    "## -----------------------"
   ]
  },
  {
   "cell_type": "markdown",
   "metadata": {},
   "source": [
    "### Building the FP-tree"
   ]
  },
  {
   "cell_type": "code",
   "execution_count": 45,
   "metadata": {
    "collapsed": true,
    "deletable": true,
    "editable": true
   },
   "outputs": [],
   "source": [
    "def updateHeader(nodeToTest, targetNode): \n",
    "    \"\"\"This version does not use recursion.\"\"\"\n",
    "    \n",
    "    # Do not use recursion to traverse a linked list!\n",
    "    while (nodeToTest.nodeLink != None): \n",
    "        nodeToTest = nodeToTest.nodeLink\n",
    "    \n",
    "    nodeToTest.nodeLink = targetNode"
   ]
  },
  {
   "cell_type": "code",
   "execution_count": 46,
   "metadata": {
    "collapsed": false,
    "deletable": true,
    "editable": true
   },
   "outputs": [],
   "source": [
    "def updateTree(items, inTree, headerTable, count):\n",
    "    \"\"\"grow the Fp-tree with an itemset\"\"\"\n",
    "    \n",
    "    # check if items[0] in retTree.children\n",
    "    if inTree.get_child(items[0]) != None: \n",
    "        inTree.get_child(items[0]).inc(count)\n",
    "    \n",
    "    else:   #add items[0] to inTree.children\n",
    "        inTree.children.append(treeNode(items[0], count, inTree))\n",
    "        \n",
    "        if headerTable[items[0]] == None: #update header table \n",
    "            #W A R N I N G!\n",
    "            headerTable[items[0]] = inTree.children[\n",
    "                len(inTree.children)-1] \n",
    "        else:\n",
    "            updateHeader(headerTable[items[0]], \n",
    "                         inTree.children[len(inTree.children)-1])\n",
    "    \n",
    "    if len(items) > 1: #call updateTree() with remaining ordered items\n",
    "        updateTree(items[1::], inTree.get_child(items[0]), \n",
    "                   headerTable, count)"
   ]
  },
  {
   "cell_type": "code",
   "execution_count": 47,
   "metadata": {
    "collapsed": false,
    "deletable": true,
    "editable": true
   },
   "outputs": [],
   "source": [
    "def createTree(dataSet): #create FP-tree from dataset but don't mine\n",
    "    \"\"\"takes the dataset and the minimum support as arguments and \n",
    "    builds the FP-tree. This makes two passes through the dataset. \n",
    "    The first pass goes through everything in the dataset and counts \n",
    "    the frequency of each term. These are stored in the header table.\"\"\"\n",
    "    \n",
    "    headerTable = {}   \n",
    "#     print 'dataset: ',len(dataSet)\n",
    "    \n",
    "    #go over dataSet twice\n",
    "    for trans in dataSet:   #first pass counts frequency of occurance\n",
    "        for item in trans:\n",
    "            headerTable[item] = None\n",
    "    \n",
    "#     print 'headerTable: ',headerTable\n",
    "\n",
    "    itemSet = list(headerTable.keys())\n",
    "#     print 'itemSet: ',itemSet\n",
    "    \n",
    "    for k in headerTable: # reformat headerTable to use Node link \n",
    "        headerTable[k] = None\n",
    "    \n",
    "#     print 'headerTable: ',headerTable\n",
    "\n",
    "    retTree = treeNode('Null Set', 1, None) #create tree\n",
    "    \n",
    "    # dataSet.items() returns key-value tuple\n",
    "    for tranSet, count in dataSet.items():  #go through dataset 2nd time\n",
    "            items = list(tranSet)\n",
    "            # populate tree with ordered freq itemset\n",
    "            updateTree(items, retTree, headerTable, count)\n",
    "            \n",
    "#     print 'headerTable: ',headerTable\n",
    "\n",
    "    return retTree, headerTable"
   ]
  },
  {
   "cell_type": "code",
   "execution_count": 48,
   "metadata": {
    "collapsed": true,
    "deletable": true,
    "editable": true
   },
   "outputs": [],
   "source": [
    "def loadSimpDat():\n",
    "    \"\"\"Get the data from preprocessing.\"\"\"\n",
    "    \n",
    "    training, testing = preprocessing_csr.format(1)\n",
    "#     simpDat = [['saan', 'pr', 'vb', 'abbreviation'], \n",
    "#                ['paano', 'pr', 'vb', 'dt', 'dt', 'nn', 'cc', 'pr', 'abbreviation'], \n",
    "#                ['ano', 'dt', 'nn', 'vb', 'cc', 'nn', 'pr', 'vb', 'nn', 'abbreviation'],\n",
    "#                ['ano', 'pr', 'description'], \n",
    "#                ['anong', 'nn', 'pr', 'description'], \n",
    "#                ['bakit', 'dt', 'nn', 'pr', 'description'],\n",
    "#                ['sino', 'rb', 'pr', 'entity'], \n",
    "#                ['alin', 'cc', 'cd', 'dt', 'vb', 'pr', 'entity'], \n",
    "#                ['alin', 'rb', 'pr', 'dt', 'nn', 'pr', 'entity'],\n",
    "#                ['alin', 'dt', 'vb', 'entity'], \n",
    "#                ['sino', 'dt', 'nn', 'cc', 'nn', 'pr', 'human'], \n",
    "#                ['sino', 'rb', 'pr', 'human'], \n",
    "#                ['alin', 'cc', 'nn', 'dt', 'vb', 'pr', 'human'],\n",
    "#                ['saan', 'rb', 'pr', 'rb', 'location'], \n",
    "#                ['saan', 'pr', 'rb', 'location'], \n",
    "#                ['nasaan', 'pr', 'rb', 'rb', 'location'],\n",
    "#                ['kailan', 'rb', 'pr', 'vb', 'numeric'], \n",
    "#                ['kailan', 'pr', 'nn', 'cc', 'vb', 'vb', 'nn', 'numeric'], \n",
    "#                ['kailan', 'pr', 'vb', 'vb', 'numeric'], \n",
    "#                ['alin', 'cc', 'pr', 'cc', 'vb', 'cc', 'nn', 'dt', 'nn', 'pr', 'numeric'], \n",
    "#                ['ano', 'dt', 'nn', 'pr', 'vb', 'numeric'], \n",
    "#                ['paano', 'pr', 'vb', 'dt', 'dt', 'nn', 'cc', 'pr', 'abbreviation'], \n",
    "#                ['ano', 'dt', 'nn', 'vb', 'cc', 'nn', 'pr', 'vb', 'nn', 'abbreviation'],\n",
    "#                ['ano', 'pr', 'description'], \n",
    "#                ['anong', 'nn', 'pr', 'description'], \n",
    "#                ['bakit', 'dt', 'nn', 'pr', 'description'],\n",
    "#                ['sino', 'rb', 'pr', 'entity'], \n",
    "#                ['alin', 'cc', 'cd', 'dt', 'vb', 'pr', 'entity'], \n",
    "#                ['alin', 'rb', 'pr', 'dt', 'nn', 'pr', 'entity'],\n",
    "#     ]\n",
    "    return training, testing"
   ]
  },
  {
   "cell_type": "code",
   "execution_count": 49,
   "metadata": {
    "collapsed": true,
    "deletable": true,
    "editable": true
   },
   "outputs": [],
   "source": [
    "def createInitSet(dataSet):\n",
    "    \"\"\"the createTree() function doesnt take the input data as lists. \n",
    "    It expectsa a dictionary with the itemsets as the dictionary keys \n",
    "    and the frequency as the value. A createInitSet() function does \n",
    "    this conversion for you.\"\"\"\n",
    "\n",
    "    retDict = collections.OrderedDict()\n",
    "\n",
    "    for trans in dataSet:\n",
    "        if tuple(trans) in retDict:\n",
    "            retDict[tuple(trans)] += 1\n",
    "        else:\n",
    "            retDict[tuple(trans)] = 1\n",
    "\n",
    "    return retDict"
   ]
  },
  {
   "cell_type": "markdown",
   "metadata": {},
   "source": [
    "## -----------------------"
   ]
  },
  {
   "cell_type": "markdown",
   "metadata": {},
   "source": [
    "### Testing the FP-tree"
   ]
  },
  {
   "cell_type": "code",
   "execution_count": 50,
   "metadata": {
    "collapsed": false,
    "deletable": true,
    "editable": true
   },
   "outputs": [
    {
     "name": "stdout",
     "output_type": "stream",
     "text": [
      "2462\n",
      "616\n"
     ]
    }
   ],
   "source": [
    "#testing the sample data\n",
    "training, testing = loadSimpDat()\n",
    "# print 'Training Data for Fp-growth algoithm:\\n',training\n",
    "print len(training)\n",
    "# print '\\nTesting Data: ',testing\n",
    "print len(testing)"
   ]
  },
  {
   "cell_type": "code",
   "execution_count": 51,
   "metadata": {
    "collapsed": false,
    "deletable": true,
    "editable": true
   },
   "outputs": [
    {
     "name": "stdout",
     "output_type": "stream",
     "text": [
      "OrderedDict([(('anong', 'jj', 'pr', 'vb', 'cc', 'vb', 'pr', 'cc', 'pr', 'dt', 'vb', 'pr', 'description'), 1), (('anong', 'vb', 'pr', 'description'), 1), (('anong', 'rb', 'pr', 'cc', 'rb', 'pr', 'description'), 1), (('bakit', 'rb', 'vb', 'pr', 'rb', 'description'), 1), (('bakit', 'pr', 'vb', 'rb', 'cc', 'pr', 'pr', 'vb', 'description'), 1), (('bakit', 'rb', 'rb', 'pr', 'cc', 'pr', 'description'), 2), (('paano', 'rb', 'rb', 'rb', 'pr', 'description'), 1), (('paano', 'rb', 'pr', 'vb', 'description'), 6), (('paano', 'rb', 'dt', 'nn', 'pr', 'vb', 'pr', 'description'), 1), (('kailan', 'pr', 'rb', 'vb', 'dt', 'vb', 'nn', 'numeric'), 3), (('kailan', 'rb', 'vb', 'dt', 'nn', 'nn', 'vb', 'cc', 'vb', 'numeric'), 1), (('kailan', 'rb', 'pr', 'nn', 'numeric'), 4), (('sino', 'dt', 'nn', 'cc', 'nn', 'pr', 'human'), 4), (('sino', 'rb', 'pr', 'human'), 4), (('sino', 'rb', 'pr', 'entity'), 3), (('alin', 'pr', 'dt', 'vb', 'pr', 'entity'), 13), (('alin', 'cc', 'nn', 'dt', 'vb', 'pr', 'human'), 2), (('alin', 'rb', 'pr', 'entity'), 1), (('saan', 'pr', 'vb', 'numeric'), 2), (('saan', 'vb', 'dt', 'nn', 'pr', 'numeric'), 1), (('saan', 'pr', 'vb', 'location'), 59), (('ano', 'pr', 'description'), 1), (('anong', 'nn', 'pr', 'description'), 1), (('ano', 'rb', 'pr', 'nn', 'human'), 1), (('bakit', 'rb', 'pr', 'rb', 'numeric'), 5), (('bakit', 'dt', 'nn', 'pr', 'description'), 5), (('bakit', 'jj', 'pr', 'vb', 'nn', 'description'), 2), (('paano', 'rb', 'dt', 'nn', 'pr', 'vb', 'human'), 1), (('paano', 'rb', 'rb', 'location'), 1), (('paano', 'pr', 'vb', 'dt', 'vb', 'pr', 'description'), 3), (('kailan', 'rb', 'pr', 'vb', 'vb', 'numeric'), 1), (('kailan', 'pr', 'rb', 'vb', 'dt', 'nn', 'pr', 'numeric'), 1), (('kailan', 'rb', 'pr', 'vb', 'numeric'), 4), (('sino', 'pr', 'human'), 6), (('sino', 'pr', 'rb', 'human'), 5), (('alin', 'cc', 'cd', 'dt', 'vb', 'pr', 'entity'), 2), (('alin', 'rb', 'pr', 'dt', 'nn', 'pr', 'entity'), 1), (('alin', 'rb', 'pr', 'dt', 'nn', 'pr', 'location'), 1), (('saan', 'pr', 'pr', 'vb', 'location'), 6), (('saan', 'pr', 'dt', 'vb', 'cc', 'nn', 'location'), 1), (('ano', 'dt', 'nn', 'pr', 'nn', 'description'), 3), (('bakit', 'rb', 'rb', 'description'), 2), (('paano', 'vb', 'cc', 'nn', 'description'), 2), (('kailan', 'vb', 'dt', 'nn', 'numeric'), 6), (('sino', 'dt', 'vb', 'cc', 'nn', 'human'), 11), (('alin', 'cc', 'dt', 'nn', 'dt', 'jj', 'location'), 1), (('saan', 'nn', 'dt', 'vb', 'nn', 'location'), 1), (('ano', 'dt', 'vb', 'pr', 'vb', 'description'), 9), (('ano', 'dt', 'nn', 'pr', 'description'), 7), (('ano', 'rb', 'dt', 'nn', 'pr', 'cc', 'rb', 'pr', 'description'), 2), (('bakit', 'jj', 'pr', 'vb', 'description'), 1), (('bakit', 'rb', 'pr', 'rb', 'description'), 3), (('bakit', 'pr', 'rb', 'nn', 'description'), 1), (('paano', 'rb', 'vb', 'dt', 'nn', 'location'), 1), (('paano', 'pr', 'vb', 'description'), 14), (('paano', 'rb', 'dt', 'nn', 'description'), 31), (('kailan', 'pr', 'vb', 'numeric'), 25), (('kailan', 'pr', 'rb', 'vb', 'numeric'), 7), (('kailan', 'dt', 'nn', 'pr', 'numeric'), 10), (('sino', 'dt', 'nn', 'pr', 'entity'), 2), (('sino', 'dt', 'vb', 'cc', 'nn', 'cc', 'nn', 'human'), 4), (('alin', 'dt', 'jj', 'jj', 'description'), 1), (('alin', 'dt', 'jj', 'vb', 'location'), 1), (('alin', 'pr', 'dt', 'nn', 'entity'), 5), (('saan', 'pr', 'jj', 'location'), 5), (('saan', 'pr', 'rb', 'location'), 11), (('saan', 'pr', 'vb', 'dt', 'nn', 'location'), 2), (('ano', 'dt', 'nn', 'pr', 'human'), 10), (('ano', 'dt', 'nn', 'pr', 'nn', 'human'), 1), (('ano', 'dt', 'nn', 'cc', 'nn', 'vb', 'pr', 'description'), 1), (('ano', 'dt', 'nn', 'cc', 'nn', 'pr', 'description'), 2), (('ano', 'dt', 'nn', 'cc', 'nn', 'vb', 'vb', 'human'), 1), (('bakit', 'jj', 'pr', 'vb', 'dt', 'pr', 'cc', 'pr', 'description'), 1), (('bakit', 'nn', 'jj', 'jj', 'pr', 'nn', 'rb', 'numeric'), 1), (('bakit', 'rb', 'vb', 'pr', 'cc', 'nn', 'description'), 1), (('bakit', 'rb', 'pr', 'dt', 'nn', 'vb', 'description'), 1), (('bakit', 'pr', 'rb', 'pr', 'vb', 'dt', 'nn', 'pr', 'description'), 1), (('paano', 'rb', 'pr', 'description'), 1), (('paano', 'pr', 'rb', 'pr', 'nn', 'cc', 'pr', 'description'), 1), (('paano', 'pr', 'vb', 'cc', 'nn', 'description'), 1), (('kailan', 'pr', 'pr', 'vb', 'numeric'), 12), (('kailan', 'rb', 'vb', 'dt', 'dt', 'nn', 'numeric'), 1), (('kailan', 'pr', 'vb', 'vb', 'pr', 'cc', 'description'), 1), (('sino', 'dt', 'vb', 'pr', 'human'), 37), (('sino', 'pr', 'dt', 'nn', 'cc', 'nn', 'human'), 1), (('sino', 'dt', 'vb', 'cc', 'nn', 'dt', 'nn', 'human'), 1), (('sino', 'dt', 'nn', 'rb', 'rb', 'rb', 'cc', 'vb', 'nn', 'human'), 1), (('alin', 'pr', 'dt', 'rb', 'entity'), 1), (('alin', 'cc', 'dt', 'nn', 'dt', 'nn', 'rb', 'entity'), 1), (('alin', 'cc', 'dt', 'nn', 'dt', 'vb', 'pr', 'rb', 'location'), 1), (('alin', 'cc', 'dt', 'nn', 'dt', 'description'), 1), (('aling', 'nn', 'dt', 'vb', 'pr', 'vb', 'human'), 1), (('saang', 'nn', 'cc', 'nn', 'pr', 'vb', 'location'), 1), (('nasaan', 'rb', 'dt', 'pr', 'cc', 'dt', 'vb', 'pr', 'description'), 1), (('saan', 'pr', 'vb', 'dt', 'nn', 'cc', 'nn', 'pr', 'location'), 1), (('nasaan', 'rb', 'dt', 'vb', 'vb', 'cc', 'dt', 'nn', 'location'), 1), (('ano', 'dt', 'nn', 'pr', 'vb', 'description'), 7), (('ano', 'rb', 'rb', 'pr', 'cc', 'nn', 'pr', 'human'), 2), (('bakit', 'pr', 'dt', 'vb', 'pr', 'cc', 'vb', 'pr', 'description'), 4), (('bakit', 'vb', 'pr', 'pr', 'vb', 'vb', 'description'), 1), (('paano', 'rb', 'pr', 'nn', 'description'), 4), (('paano', 'pr', 'rb', 'pr', 'vb', 'human'), 1), (('kailan', 'rb', 'rb', 'vb', 'dt', 'vb', 'nn', 'numeric'), 1), (('kailan', 'rb', 'vb', 'dt', 'nn', 'numeric'), 5), (('sino', 'rb', 'rb', 'dt', 'nn', 'pr', 'human'), 1), (('sino', 'rb', 'rb', 'pr', 'cc', 'nn', 'pr', 'human'), 2), (('alin', 'cc', 'vb', 'cd', 'dt', 'nn', 'pr', 'entity'), 1), (('alin', 'rb', 'dt', 'jj', 'jj', 'entity'), 4), (('alin', 'cc', 'dt', 'pr', 'dt', 'nn', 'pr', 'entity'), 1), (('saan', 'rb', 'pr', 'cd', 'nn', 'pr', 'location'), 1), (('saan', 'pr', 'rb', 'pr', 'vb', 'location'), 2), (('ano', 'rb', 'rb', 'dt', 'nn', 'cc', 'nn', 'description'), 1), (('ano', 'rb', 'rb', 'dt', 'nn', 'pr', 'vb', 'description'), 1), (('bakit', 'rb', 'rb', 'vb', 'vb', 'nn', 'dt', 'nn', 'description'), 1), (('kailan', 'jj', 'cc', 'nn', 'cc', 'pr', 'vb', 'cc', 'description'), 1), (('bakit', 'rb', 'pr', 'rb', 'cc', 'pr', 'human'), 1), (('paano', 'rb', 'dt', 'pr', 'nn', 'cc', 'vb', 'pr', 'vb', 'description'), 1), (('paano', 'rb', 'dt', 'vb', 'vb', 'rb', 'jj', 'cc', 'nn', 'pr', 'jj', 'pr', 'description'), 1), (('paano', 'rb', 'dt', 'nn', 'rb', 'cc', 'pr', 'nn', 'description'), 1), (('kailan', 'rb', 'rb', 'pr', 'nn', 'numeric'), 2), (('kailan', 'rb', 'pr', 'vb', 'cc', 'nn', 'numeric'), 4), (('kailan', 'pr', 'rb', 'rb', 'rb', 'rb', 'rb', 'rb', 'pr', 'dt', 'vb', 'pr', 'numeric'), 1), (('sino', 'rb', 'nn', 'dt', 'nn', 'vb', 'cc', 'vb', 'vb', 'human'), 1), (('sino', 'dt', 'vb', 'cc', 'vb', 'pr', 'cc', 'nn', 'cc', 'vb', 'human'), 1), (('sino', 'rb', 'vb', 'cc', 'dt', 'vb', 'nn', 'pr', 'pr', 'cc', 'dt', 'nn', 'pr', 'human'), 1), (('saan', 'pr', 'vb', 'description'), 17), (('saan', 'rb', 'pr', 'rb', 'location'), 3), (('saan', 'rb', 'pr', 'vb', 'location'), 7), (('ano', 'dt', 'nn', 'cc', 'nn', 'pr', 'entity'), 4), (('ano', 'dt', 'vb', 'cc', 'vb', 'pr', 'description'), 1), (('ano', 'dt', 'nn', 'cc', 'nn', 'pr', 'cc', 'pr', 'description'), 1), (('bakit', 'pr', 'pr', 'vb', 'description'), 19), (('bakit', 'pr', 'vb', 'description'), 17), (('bakit', 'pr', 'vb', 'dt', 'nn', 'pr', 'description'), 1), (('paano', 'pr', 'vb', 'dt', 'nn', 'pr', 'description'), 5), (('paano', 'pr', 'vb', 'cc', 'rb', 'dt', 'vb', 'pr', 'description'), 1), (('kailan', 'pr', 'vb', 'rb', 'numeric'), 2), (('sino', 'pr', 'cc', 'vb', 'pr', 'pr', 'description'), 1), (('sino', 'pr', 'cc', 'vb', 'pr', 'description'), 2), (('sino', 'dt', 'vb', 'nn', 'pr', 'human'), 2), (('alin', 'cc', 'dt', 'nn', 'dt', 'vb', 'pr', 'entity'), 4), (('alin', 'cc', 'dt', 'pr', 'dt', 'vb', 'pr', 'cc', 'pr', 'human'), 1), (('alin', 'rb', 'rb', 'cc', 'dt', 'vb', 'pr', 'dt', 'vb', 'pr', 'vb', 'description'), 1), (('saang', 'vb', 'pr', 'vb', 'dt', 'jj', 'cc', 'nn', 'cc', 'jj', 'nn', 'location'), 1), (('nasaan', 'pr', 'rb', 'vb', 'dt', 'nn', 'location'), 1), (('ano', 'dt', 'rb', 'rb', 'cc', 'nn', 'pr', 'numeric'), 1), (('ano', 'rb', 'dt', 'vb', 'vb', 'cc', 'nn', 'numeric'), 1), (('anong', 'rb', 'rb', 'dt', 'vb', 'description'), 1), (('ano', 'cc', 'vb', 'dt', 'nn', 'description'), 1), (('bakit', 'rb', 'rb', 'cc', 'nn', 'description'), 1), (('bakit', 'pr', 'rb', 'rb', 'description'), 1), (('bakit', 'dt', 'nn', 'cc', 'dt', 'vb', 'pr', 'cc', 'vb', 'description'), 1), (('bakit', 'nn', 'jj', 'dt', 'nn', 'description'), 2), (('paano', 'rb', 'cc', 'nn', 'description'), 7), (('paano', 'rb', 'rb', 'rb', 'description'), 4), (('paano', 'rb', 'dt', 'rb', 'rb', 'rb', 'cc', 'nn', 'human'), 1), (('paano', 'pr', 'vb', 'cc', 'nn', 'pr', 'cc', 'nn', 'pr', 'description'), 1), (('kailan', 'pr', 'rb', 'rb', 'rb', 'numeric'), 3), (('kailan', 'pr', 'vb', 'cc', 'vb', 'numeric'), 4), (('kailan', 'vb', 'dt', 'nn', 'vb', 'cc', 'vb', 'numeric'), 1), (('kailan', 'pr', 'vb', 'vb', 'nn', 'cc', 'pr', 'numeric'), 1), (('sino', 'dt', 'vb', 'cc', 'vb', 'nn', 'human'), 1), (('sino', 'cc', 'pr', 'dt', 'vb', 'jj', 'nn', 'entity'), 1), (('sino', 'dt', 'jj', 'vb', 'cc', 'nn', 'cd', 'human'), 1), (('sino', 'dt', 'vb', 'cc', 'nn', 'cc', 'nn', 'pr', 'vb', 'human'), 1), (('alin', 'pr', 'dt', 'jj', 'vb', 'entity'), 1), (('alin', 'dt', 'jj', 'jj', 'cc', 'nn', 'cd', 'human'), 1), (('alin', 'rb', 'dt', 'jj', 'jj', 'cc', 'nn', 'pr', 'rb', 'entity'), 1), (('saan', 'rb', 'dt', 'nn', 'nn', 'pr', 'description'), 1), (('saan', 'pr', 'vb', 'cc', 'nn', 'cc', 'pr', 'location'), 1), (('saan', 'pr', 'vb', 'dt', 'pr', 'nn', 'location'), 1), (('saan', 'rb', 'pr', 'vb', 'cc', 'nn', 'location'), 1), (('ano', 'dt', 'pr', 'nn', 'human'), 3), (('ano', 'dt', 'nn', 'pr', 'cc', 'vb', 'description'), 1), (('bakit', 'rb', 'pr', 'cc', 'nn', 'location'), 1), (('bakit', 'pr', 'jj', 'description'), 3), (('bakit', 'pr', 'vb', 'numeric'), 1), (('paano', 'rb', 'vb', 'cc', 'nn', 'description'), 5), (('paano', 'pr', 'nn', 'cc', 'pr', 'description'), 1), (('kailan', 'rb', 'pr', 'vb', 'cc', 'pr', 'numeric'), 1), (('sino', 'rb', 'pr', 'cc', 'nn', 'pr', 'human'), 1), (('sino', 'pr', 'cc', 'vb', 'pr', 'human'), 2), (('sino', 'dt', 'vb', 'nn', 'cc', 'nn', 'entity'), 2), (('alin', 'vb', 'dt', 'jj', 'vb', 'entity'), 1), (('alin', 'dt', 'nn', 'rb', 'rb', 'rb', 'entity'), 1), (('alin', 'rb', 'dt', 'nn', 'vb', 'pr', 'entity'), 1), (('ano', 'rb', 'dt', 'vb', 'pr', 'cc', 'rb', 'cc', 'pr', 'description'), 1), (('ano', 'dt', 'nn', 'cc', 'nn', 'pr', 'rb', 'human'), 1), (('anong', 'nn', 'pr', 'nn', 'numeric'), 1), (('bakit', 'rb', 'rb', 'vb', 'pr', 'description'), 4), (('paano', 'rb', 'rb', 'dt', 'nn', 'description'), 7), (('paano', 'rb', 'vb', 'description'), 7), (('paano', 'rb', 'vb', 'jj', 'cc', 'pr', 'pr', 'human'), 1), (('kailan', 'rb', 'vb', 'dt', 'vb', 'nn', 'numeric'), 2), (('kailan', 'vb', 'dt', 'vb', 'pr', 'nn', 'human'), 1), (('kailan', 'rb', 'rb', 'pr', 'vb', 'cc', 'nn', 'numeric'), 1), (('sino', 'rb', 'rb', 'pr', 'cc', 'nn', 'pr', 'cc', 'human'), 1), (('sinong', 'jj', 'vb', 'pr', 'pr', 'human'), 1), (('sino', 'dt', 'jj', 'jj', 'entity'), 1), (('alin', 'cc', 'dt', 'nn', 'pr', 'dt', 'nn', 'pr', 'entity'), 1), (('alin', 'rb', 'dt', 'nn', 'nn', 'entity'), 2), (('saan', 'rb', 'pr', 'vb', 'cc', 'vb', 'dt', 'nn', 'description'), 1), (('saan', 'pr', 'vb', 'nn', 'location'), 1), (('saan', 'rb', 'dt', 'nn', 'nn', 'location'), 1), (('ano', 'dt', 'nn', 'cc', 'nn', 'description'), 3), (('ano', 'dt', 'vb', 'pr', 'nn', 'description'), 1), (('bakit', 'rb', 'pr', 'pr', 'nn', 'entity'), 1), (('bakit', 'pr', 'rb', 'description'), 3), (('paano', 'pr', 'vb', 'dt', 'pr', 'nn', 'description'), 2), (('paano', 'pr', 'nn', 'dt', 'pr', 'entity'), 1), (('paano', 'pr', 'rb', 'vb', 'dt', 'pr', 'description'), 1), (('kailan', 'vb', 'dt', 'nn', 'nn', 'numeric'), 2), (('kailan', 'rb', 'pr', 'vb', 'human'), 1), (('kailan', 'rb', 'rb', 'pr', 'vb', 'numeric'), 3), (('sino', 'dt', 'nn', 'human'), 6), (('sino', 'dt', 'vb', 'cc', 'nn', 'pr', 'human'), 6), (('alin', 'cc', 'dt', 'pr', 'dt', 'vb', 'pr', 'entity'), 4), (('alin', 'nn', 'dt', 'vb', 'cc', 'vb', 'pr', 'human'), 1), (('alin', 'dt', 'nn', 'entity'), 11), (('saan', 'pr', 'pr', 'vb', 'vb', 'location'), 1), (('saang', 'rb', 'pr', 'jj', 'location'), 1), (('saan', 'pr', 'rb', 'vb', 'location'), 5), (('ano', 'dt', 'vb', 'pr', 'nn', 'cc', 'nn', 'entity'), 1), (('ano', 'dt', 'nn', 'nn', 'pr', 'description'), 1), (('ano', 'pr', 'human'), 2), (('bakit', 'pr', 'rb', 'rb', 'pr', 'jj', 'vb', 'pr', 'pr', 'vb', 'description'), 1), (('bakit', 'vb', 'pr', 'vb', 'dt', 'vb', 'pr', 'description'), 1), (('bakit', 'pr', 'pr', 'vb', 'human'), 2), (('paano', 'rb', 'rb', 'description'), 12), (('paano', 'pr', 'vb', 'human'), 1), (('kailan', 'nn', 'pr', 'numeric'), 3), (('kailan', 'rb', 'pr', 'vb', 'pr', 'numeric'), 1), (('sino', 'dt', 'jj', 'nn', 'nn', 'human'), 1), (('sino', 'dt', 'nn', 'pr', 'human'), 5), (('alin', 'dt', 'vb', 'pr', 'nn', 'entity'), 1), (('alin', 'dt', 'vb', 'nn', 'nn', 'entity'), 2), (('alin', 'dt', 'nn', 'pr', 'vb', 'entity'), 1), (('ano', 'dt', 'jj', 'jj', 'nn', 'nn', 'entity'), 1), (('ano', 'dt', 'jj', 'jj', 'cc', 'nn', 'dt', 'nn', 'entity'), 1), (('ano', 'dt', 'vb', 'vb', 'description'), 1), (('kailan', 'pr', 'pr', 'nn', 'nn', 'description'), 1), (('bakit', 'nn', 'pr', 'pr', 'jj', 'nn', 'description'), 1), (('bakit', 'vb', 'pr', 'nn', 'dt', 'dt', 'nn', 'cc', 'pr', 'nn', 'description'), 1), (('paano', 'pr', 'vb', 'dt', 'nn', 'cc', 'nn', 'cc', 'nn', 'entity'), 1), (('paano', 'pr', 'vb', 'dt', 'nn', 'nn', 'cc', 'pr', 'lm', 'entity'), 1), (('paano', 'pr', 'rb', 'dt', 'nn', 'dt', 'nn', 'cc', 'vb', 'dt', 'nn', 'description'), 1), (('kailan', 'pr', 'vb', 'cc', 'nn', 'nn', 'numeric'), 1), (('kailan', 'pr', 'nn', 'dt', 'nn', 'pr', 'numeric'), 1), (('sino', 'dt', 'nn', 'pr', 'nn', 'cc', 'nn', 'nn', 'nn', 'human'), 1), (('alin', 'dt', 'jj', 'jj', 'nn', 'entity'), 12), (('alin', 'cc', 'cd', 'dt', 'nn', 'dt', 'jj', 'pr', 'human'), 1), (('alin', 'dt', 'rb', 'rb', 'rb', 'dt', 'nn', 'vb', 'entity'), 1), (('saan', 'dt', 'nn', 'nn', 'location'), 2), (('saan', 'vb', 'dt', 'dt', 'nn', 'cc', 'nn', 'location'), 1), (('saan', 'dt', 'jj', 'vb', 'rb', 'jj', 'location'), 1), (('ano', 'dt', 'nn', 'cc', 'dt', 'nn', 'cc', 'nn', 'human'), 1), (('ano', 'dt', 'nn', 'pr', 'cc', 'nn', 'cc', 'pr', 'nn', 'human'), 1), (('bakit', 'cc', 'nn', 'pr', 'vb', 'entity'), 1), (('paano', 'rb', 'cc', 'nn', 'nn', 'location'), 1), (('paano', 'pr', 'vb', 'dt', 'nn', 'description'), 5), (('kailan', 'dt', 'pr', 'nn', 'numeric'), 4), (('kailan', 'pr', 'vb', 'cc', 'pr', 'nn', 'numeric'), 1), (('kailan', 'pr', 'vb', 'dt', 'nn', 'pr', 'numeric'), 5), (('sino', 'dt', 'vb', 'cc', 'pr', 'cc', 'nn', 'human'), 1), (('sino', 'dt', 'nn', 'pr', 'nn', 'human'), 2), (('alin', 'cc', 'vb', 'dt', 'vb', 'nn', 'human'), 1), (('alin', 'cc', 'nn', 'dt', 'jj', 'pr', 'human'), 1), (('alin', 'dt', 'vb', 'pr', 'vb', 'entity'), 4), (('saan', 'pr', 'nn', 'nn', 'nn', 'location'), 2), (('saan', 'pr', 'vb', 'pr', 'nn', 'location'), 1), (('saan', 'pr', 'vb', 'cc', 'nn', 'location'), 3), (('ano', 'dt', 'jj', 'jj', 'nn', 'dt', 'nn', 'entity'), 1), (('bakit', 'rb', 'vb', 'vb', 'cc', 'dt', 'nn', 'jj', 'pr', 'description'), 1), (('bakit', 'rb', 'pr', 'vb', 'rb', 'dt', 'vb', 'pr', 'cc', 'nn', 'cc', 'nn', 'human'), 1), (('bakit', 'pr', 'rb', 'vb', 'nn', 'pr', 'description'), 1), (('paano', 'pr', 'rb', 'rb', 'dt', 'nn', 'pr', 'cc', 'nn', 'vb', 'pr', 'rb', 'vb', 'human'), 1), (('paano', 'rb', 'rb', 'pr', 'vb', 'cc', 'vb', 'description'), 1), (('paano', 'pr', 'rb', 'nn', 'dt', 'pr', 'cc', 'nn', 'cc', 'vb', 'pr', 'human'), 1), (('kailan', 'rb', 'vb', 'rb', 'dt', 'nn', 'description'), 1), (('kailan', 'vb', 'dt', 'nn', 'cc', 'nn', 'cc', 'pr', 'vb', 'numeric'), 1), (('kailan', 'pr', 'rb', 'pr', 'jj', 'cc', 'nn', 'pr', 'numeric'), 1), (('sino', 'rb', 'cc', 'pr', 'dt', 'vb', 'vb', 'nn', 'human'), 1), (('sino', 'pr', 'rb', 'rb', 'human'), 1), (('alin', 'rb', 'cc', 'cd', 'nn', 'dt', 'vb', 'pr', 'human'), 1), (('alin', 'nn', 'dt', 'nn', 'jj', 'cc', 'nn', 'cc', 'nn', 'entity'), 1), (('alin', 'rb', 'pr', 'dt', 'dt', 'nn', 'pr', 'entity'), 1), (('saan', 'rb', 'vb', 'dt', 'nn', 'vb', 'numeric'), 1), (('saan', 'pr', 'vb', 'rb', 'location'), 1), (('bakit', 'pr', 'nn', 'location'), 2), (('bakit', 'pr', 'vb', 'location'), 1), (('paano', 'pr', 'cc', 'nn', 'pr', 'entity'), 1), (('paano', 'pr', 'cc', 'vb', 'pr', 'entity'), 1), (('paano', 'pr', 'cc', 'jj', 'pr', 'entity'), 1), (('kailan', 'pr', 'nn', 'numeric'), 10), (('sino', 'pr', 'entity'), 4), (('alin', 'dt', 'rb', 'entity'), 2), (('ano', 'dt', 'vb', 'pr', 'rb', 'vb', 'pr', 'dt', 'nn', 'nn', 'pr', 'human'), 1), (('anong', 'rb', 'rb', 'dt', 'vb', 'pr', 'entity'), 1), (('ano', 'cc', 'nn', 'pr', 'dt', 'vb', 'cc', 'dt', 'nn', 'nn', 'human'), 1), (('bakit', 'pr', 'vb', 'entity'), 1), (('bakit', 'jj', 'pr', 'vb', 'dt', 'nn', 'nn', 'entity'), 1), (('paano', 'pr', 'vb', 'dt', 'nn', 'cc', 'pr', 'description'), 1), (('paano', 'rb', 'vb', 'human'), 1), (('paano', 'pr', 'vb', 'vb', 'pr', 'dt', 'pr', 'nn', 'human'), 1), (('kailan', 'pr', 'vb', 'cc', 'nn', 'human'), 1), (('kailan', 'pr', 'rb', 'vb', 'nn', 'pr', 'numeric'), 1), (('sino', 'dt', 'vb', 'nn', 'human'), 2), (('sino', 'pr', 'cc', 'vb', 'pr', 'rb', 'human'), 1), (('alin', 'cc', 'cd', 'dt', 'nn', 'pr', 'entity'), 1), (('alin', 'cc', 'nn', 'dt', 'rb', 'pr', 'rb', 'human'), 1), (('alin', 'cc', 'dt', 'nn', 'cc', 'pr', 'dt', 'vb', 'entity'), 3), (('saan', 'rb', 'rb', 'rb', 'dt', 'pr', 'cc', 'pr', 'location'), 1), (('saan', 'pr', 'vb', 'rb', 'jj', 'pr', 'cc', 'cc', 'nn', 'location'), 1), (('saan', 'pr', 'vb', 'dt', 'nn', 'pr', 'location'), 2), (('ano', 'dt', 'nn', 'pr', 'nn', 'entity'), 7), (('ano', 'dt', 'nn', 'cc', 'pr', 'vb', 'description'), 1), (('bakit', 'pr', 'vb', 'vb', 'cc', 'nn', 'cc', 'vb', 'nn', 'human'), 1), (('bakit', 'pr', 'pr', 'vb', 'cc', 'pr', 'vb', 'nn', 'human'), 1), (('paano', 'rb', 'dt', 'nn', 'pr', 'cc', 'nn', 'human'), 1), (('kailan', 'pr', 'vb', 'cc', 'nn', 'numeric'), 7), (('sino', 'pr', 'vb', 'pr', 'human'), 1), (('alin', 'dt', 'pr', 'vb', 'nn', 'entity'), 1), (('alin', 'dt', 'vb', 'cc', 'dt', 'vb', 'pr', 'entity'), 1), (('saan', 'dt', 'vb', 'cc', 'nn', 'pr', 'human'), 1), (('saan', 'dt', 'nn', 'cc', 'nn', 'location'), 2), (('ano', 'dt', 'vb', 'pr', 'description'), 13), (('bakit', 'pr', 'vb', 'pr', 'description'), 2), (('bakit', 'rb', 'jj', 'pr', 'description'), 3), (('paano', 'pr', 'vb', 'pr', 'description'), 4), (('paano', 'pr', 'pr', 'vb', 'description'), 9), (('paano', 'pr', 'vb', 'dt', 'nn', 'human'), 1), (('alin', 'rb', 'dt', 'nn', 'pr', 'entity'), 1), (('bakit', 'rb', 'cc', 'nn', 'cc', 'pr', 'nn', 'human'), 1), (('paano', 'rb', 'pr', 'vb', 'cc', 'pr', 'lm', 'jj', 'cc', 'pr', 'lm', 'jj', 'description'), 1), (('sino', 'dt', 'vb', 'cc', 'nn', 'cc', 'pr', 'human'), 1), (('alin', 'pr', 'cc', 'cd', 'cc', 'nn', 'dt', 'vb', 'pr', 'entity'), 1), (('saan', 'rb', 'pr', 'vb', 'rb', 'nn', 'location'), 1), (('ano', 'dt', 'vb', 'nn', 'entity'), 1), (('ano', 'dt', 'vb', 'pr', 'rb', 'vb', 'dt', 'dt', 'vb', 'pr', 'description'), 1), (('bakit', 'pr', 'rb', 'human'), 1), (('bakit', 'nn', 'vb', 'nn', 'human'), 1), (('bakit', 'pr', 'vb', 'human'), 1), (('paano', 'rb', 'pr', 'cc', 'pr', 'lm', 'vb', 'description'), 1), (('paanong', 'rb', 'pr', 'rb', 'vb', 'description'), 1), (('paano', 'pr', 'nn', 'dt', 'rb', 'pr', 'vb', 'description'), 1), (('kailan', 'pr', 'vb', 'dt', 'pr', 'nn', 'numeric'), 2), (('sino', 'dt', 'nn', 'vb', 'pr', 'vb', 'cc', 'vb', 'nn', 'human'), 1), (('sino', 'dt', 'jj', 'human'), 1), (('alin', 'dt', 'jj', 'jj', 'nn', 'nn', 'nn', 'nn', 'entity'), 1), (('alin', 'dt', 'vb', 'pr', 'vb', 'vb', 'entity'), 1), (('saan', 'rb', 'pr', 'vb', 'numeric'), 1), (('saan', 'pr', 'rb', 'vb', 'rb', 'vb', 'pr', 'cc', 'nn', 'cc', 'vb', 'location'), 1), (('saan', 'vb', 'dt', 'dt', 'nn', 'cc', 'nn', 'human'), 1), (('ano', 'rb', 'dt', 'vb', 'pr', 'cc', 'nn', 'description'), 1), (('ano', 'dt', 'nn', 'pr', 'pr', 'description'), 1), (('ano', 'dt', 'nn', 'cc', 'nn', 'cc', 'vb', 'pr', 'rb', 'description'), 1), (('bakit', 'jj', 'dt', 'nn', 'description'), 12), (('bakit', 'rb', 'vb', 'dt', 'nn', 'jj', 'description'), 1), (('bakit', 'jj', 'dt', 'dt', 'nn', 'cc', 'nn', 'numeric'), 1), (('paano', 'pr', 'vb', 'dt', 'vb', 'pr', 'cc', 'nn', 'jj', 'pr', 'description'), 1), (('paano', 'rb', 'cc', 'nn', 'vb', 'human'), 1), (('kailan', 'rb', 'vb', 'dt', 'nn', 'cc', 'nn', 'numeric'), 1), (('sino', 'dt', 'nn', 'cc', 'pr', 'human'), 1), (('sino', 'dt', 'jj', 'vb', 'vb', 'dt', 'nn', 'nn', 'human'), 1), (('sino', 'dt', 'vb', 'pr', 'nn', 'entity'), 1), (('alin', 'dt', 'vb', 'pr', 'nn', 'nn', 'entity'), 1), (('saan', 'rb', 'rb', 'dt', 'nn', 'pr', 'location'), 1), (('saan', 'rb', 'dt', 'cd', 'nn', 'pr', 'description'), 1), (('saan', 'jj', 'dt', 'nn', 'nn', 'location'), 1), (('ano', 'dt', 'nn', 'cc', 'nn', 'nn', 'pr', 'description'), 1), (('ano', 'dt', 'vb', 'pr', 'cc', 'nn', 'description'), 2), (('bakit', 'rb', 'pr', 'cc', 'nn', 'pr', 'description'), 1), (('bakit', 'vb', 'nn', 'cc', 'nn', 'description'), 2), (('paano', 'pr', 'nn', 'cc', 'nn', 'cc', 'nn', 'cc', 'nn', 'location'), 1), (('paano', 'pr', 'vb', 'dt', 'nn', 'vb', 'description'), 3), (('kailan', 'pr', 'nn', 'cc', 'vb', 'vb', 'nn', 'numeric'), 1), (('kailan', 'pr', 'vb', 'vb', 'numeric'), 10), (('sino', 'pr', 'rb', 'cc', 'nn', 'pr', 'human'), 1), (('sino', 'dt', 'jj', 'cc', 'nn', 'human'), 3), (('alin', 'dt', 'jj', 'jj', 'dt', 'vb', 'pr', 'description'), 1), (('alin', 'cc', 'pr', 'cc', 'vb', 'cc', 'nn', 'dt', 'nn', 'pr', 'numeric'), 1), (('alin', 'cc', 'dt', 'nn', 'pr', 'dt', 'jj', 'jj', 'pr', 'entity'), 1), (('saan', 'rb', 'pr', 'vb', 'vb', 'cc', 'nn', 'jj', 'cc', 'pr', 'location'), 1), (('saan', 'pr', 'vb', 'dt', 'nn', 'nn', 'location'), 4), (('saan', 'cc', 'dt', 'nn', 'pr', 'location'), 1), (('ano', 'dt', 'nn', 'pr', 'vb', 'numeric'), 1), (('bakit', 'rb', 'rb', 'rb', 'rb', 'rb', 'rb', 'description'), 1), (('bakit', 'rb', 'rb', 'rb', 'rb', 'pr', 'cc', 'jj', 'pr', 'description'), 1), (('bakit', 'dt', 'nn', 'cc', 'vb', 'nn', 'lm', 'nn', 'cc', 'vb', 'rb', 'rb', 'vb', 'nn', 'cc', 'nn', 'description'), 1), (('paano', 'rb', 'rb', 'rb', 'pr', 'vb', 'vb', 'human'), 1), (('paano', 'pr', 'vb', 'nn', 'pr', 'entity'), 1), (('paano', 'pr', 'vb', 'dt', 'nn', 'nn', 'pr', 'entity'), 1), (('sino', 'dt', 'nn', 'cc', 'nn', 'nn', 'human'), 5), (('saan', 'cc', 'rb', 'rb', 'dt', 'nn', 'location'), 1), (('ano', 'rb', 'dt', 'nn', 'cc', 'nn', 'pr', 'location'), 1), (('ano', 'rb', 'dt', 'jj', 'cc', 'nn', 'cc', 'rb', 'pr', 'description'), 1), (('ano', 'dt', 'nn', 'cc', 'nn', 'nn', 'vb', 'cc', 'pr', 'description'), 1), (('ano', 'dt', 'nn', 'vb', 'dt', 'nn', 'cc', 'nn', 'vb', 'description'), 1), (('ano', 'cc', 'nn', 'pr', 'dt', 'nn', 'nn', 'dt', 'nn', 'description'), 1), (('anong', 'nn', 'rb', 'vb', 'dt', 'nn', 'numeric'), 1), (('bakit', 'pr', 'pr', 'vb', 'rb', 'rb', 'cc', 'nn', 'description'), 1), (('bakit', 'pr', 'vb', 'cc', 'vb', 'description'), 1), (('bakit', 'rb', 'pr', 'rb', 'cc', 'nn', 'pr', 'description'), 1), (('bakit', 'rb', 'pr', 'vb', 'cc', 'dt', 'nn', 'jj', 'nn', 'description'), 1), (('bakit', 'jj', 'rb', 'cc', 'pr', 'dt', 'vb', 'cc', 'nn', 'description'), 1), (('paano', 'rb', 'vb', 'dt', 'vb', 'nn', 'description'), 1), (('paano', 'rb', 'dt', 'nn', 'cc', 'pr', 'nn', 'description'), 1), (('paano', 'pr', 'vb', 'dt', 'pr', 'nn', 'cc', 'rb', 'pr', 'rb', 'vb', 'description'), 1), (('paano', 'rb', 'dt', 'nn', 'cc', 'vb', 'vb', 'description'), 1), (('kailan', 'rb', 'dt', 'nn', 'jj', 'cc', 'pr', 'lm', 'vb', 'vb', 'numeric'), 1), (('kailan', 'rb', 'dt', 'nn', 'dt', 'nn', 'numeric'), 1), (('kailan', 'pr', 'rb', 'vb', 'dt', 'vb', 'nn', 'cc', 'nn', 'numeric'), 1), (('kailan', 'pr', 'rb', 'pr', 'vb', 'dt', 'vb', 'nn', 'numeric'), 1), (('sino', 'dt', 'vb', 'cc', 'pr', 'cc', 'nn', 'dt', 'vb', 'pr', 'human'), 1), (('sino', 'dt', 'vb', 'jj', 'cc', 'vb', 'nn', 'human'), 1), (('sino', 'pr', 'dt', 'nn', 'vb', 'cc', 'nn', 'human'), 1), (('sino', 'cc', 'nn', 'dt', 'vb', 'pr', 'human'), 3), (('alin', 'cc', 'cd', 'pr', 'dt', 'jj', 'jj', 'nn', 'description'), 1), (('alin', 'pr', 'dt', 'nn', 'vb', 'vb', 'nn', 'description'), 1), (('alin', 'rb', 'dt', 'nn', 'dt', 'nn', 'description'), 1), (('alin', 'cc', 'dt', 'nn', 'pr', 'dt', 'rb', 'description'), 1), (('alin', 'pr', 'pr', 'cc', 'dt', 'nn', 'rb', 'rb', 'description'), 1), (('saan', 'nn', 'dt', 'pr', 'cc', 'dt', 'nn', 'pr', 'description'), 1), (('saan', 'pr', 'rb', 'rb', 'dt', 'dt', 'nn', 'cc', 'pr', 'location'), 1), (('ano', 'dt', 'vb', 'cc', 'vb', 'cc', 'nn', 'pr', 'description'), 1), (('ano', 'dt', 'vb', 'nn', 'cc', 'vb', 'pr', 'description'), 1), (('ano', 'dt', 'vb', 'vb', 'cc', 'nn', 'jj', 'description'), 1), (('bakit', 'jj', 'pr', 'vb', 'cc', 'pr', 'description'), 1), (('bakit', 'vb', 'pr', 'vb', 'cc', 'jj', 'rb', 'pr', 'description'), 1), (('bakit', 'vb', 'nn', 'dt', 'nn', 'pr', 'cc', 'nn', 'cc', 'nn', 'pr', 'description'), 1), (('bakit', 'vb', 'pr', 'jj', 'vb', 'description'), 1), (('bakit', 'vb', 'dt', 'nn', 'description'), 3), (('paano', 'rb', 'rb', 'pr', 'description'), 3), (('paano', 'cc', 'dt', 'dt', 'nn', 'vb', 'description'), 3), (('paano', 'rb', 'vb', 'dt', 'nn', 'jj', 'pr', 'description'), 1), (('sino', 'dt', 'nn', 'cc', 'dt', 'nn', 'cc', 'pr', 'human'), 1), (('sino', 'rb', 'dt', 'vb', 'human'), 1), (('sino', 'rb', 'dt', 'jj', 'vb', 'cc', 'pr', 'human'), 1), (('alin', 'cc', 'dt', 'vb', 'dt', 'nn', 'description'), 1), (('alin', 'cc', 'cd', 'dt', 'nn', 'vb', 'pr', 'description'), 1), (('alin', 'dt', 'jj', 'vb', 'description'), 1), (('alin', 'dt', 'jj', 'jj', 'pr', 'description'), 1), (('alin', 'dt', 'jj', 'jj', 'cc', 'nn', 'pr', 'description'), 1), (('saan', 'pr', 'cd', 'vb', 'location'), 2), (('saan', 'pr', 'cc', 'rb', 'location'), 2), (('bakit', 'dt', 'nn', 'pr', 'rb', 'description'), 3), (('bakit', 'vb', 'pr', 'cc', 'nn', 'description'), 1), (('bakit', 'vb', 'pr', 'vb', 'cc', 'nn', 'description'), 4), (('paano', 'pr', 'vb', 'cc', 'vb', 'cc', 'vb', 'nn', 'description'), 1), (('paano', 'pr', 'nn', 'cc', 'nn', 'cc', 'nn', 'description'), 1), (('kailan', 'pr', 'vb', 'nn', 'numeric'), 2), (('kailan', 'pr', 'jj', 'cc', 'nn', 'numeric'), 1), (('sino', 'dt', 'jj', 'vb', 'pr', 'human'), 1), (('sino', 'dt', 'nn', 'vb', 'cc', 'nn', 'dt', 'nn', 'human'), 1), (('alin', 'dt', 'nn', 'description'), 2), (('alin', 'dt', 'jj', 'jj', 'nn', 'description'), 1), (('alin', 'dt', 'vb', 'vb', 'description'), 1), (('saan', 'pr', 'pr', 'vb', 'dt', 'nn', 'nn', 'location'), 1), (('ano', 'rb', 'rb', 'dt', 'nn', 'nn', 'dt', 'nn', 'cc', 'nn', 'description'), 1), (('ano', 'dt', 'jj', 'cc', 'nn', 'pr', 'description'), 1), (('ano', 'dt', 'vb', 'cc', 'nn', 'dt', 'nn', 'description'), 1), (('bakit', 'vb', 'pr', 'description'), 3), (('bakit', 'rb', 'vb', 'nn', 'cc', 'pr', 'dt', 'nn', 'description'), 1), (('bakit', 'nn', 'dt', 'nn', 'description'), 1), (('bakit', 'nn', 'cc', 'pr', 'nn', 'description'), 1), (('paano', 'rb', 'dt', 'nn', 'pr', 'description'), 4), (('paano', 'pr', 'nn', 'description'), 8), (('kailan', 'rb', 'dt', 'nn', 'numeric'), 3), (('kailan', 'rb', 'dt', 'nn', 'jj', 'numeric'), 3), (('sino', 'dt', 'nn', 'nn', 'cc', 'vb', 'cc', 'pr', 'description'), 1), (('sino', 'rb', 'rb', 'pr', 'cc', 'nn', 'pr', 'description'), 4), (('sino', 'dt', 'nn', 'jj', 'cc', 'nn', 'pr', 'human'), 1), (('sino', 'dt', 'vb', 'vb', 'cc', 'nn', 'cc', 'jj', 'human'), 1), (('alin', 'cc', 'cd', 'dt', 'nn', 'pr', 'description'), 1), (('alin', 'cc', 'dt', 'pr', 'dt', 'vb', 'description'), 1), (('alin', 'cc', 'dt', 'nn', 'pr', 'dt', 'jj', 'cc', 'nn', 'pr', 'description'), 1), (('alin', 'cc', 'dt', 'vb', 'pr', 'dt', 'nn', 'description'), 1), (('alin', 'pr', 'dt', 'nn', 'location'), 1), (('saan', 'rb', 'dt', 'nn', 'cc', 'pr', 'location'), 1), (('nasaan', 'rb', 'dt', 'nn', 'jj', 'cc', 'vb', 'nn', 'location'), 1), (('ano', 'dt', 'pr', 'nn', 'cc', 'pr', 'nn', 'description'), 1), (('ano', 'dt', 'nn', 'cc', 'pr', 'vb', 'cc', 'nn', 'human'), 1), (('ano', 'dt', 'vb', 'cc', 'nn', 'description'), 1), (('bakit', 'nn', 'pr', 'dt', 'nn', 'nn', 'nn', 'description'), 1), (('bakit', 'rb', 'pr', 'vb', 'description'), 11), (('bakit', 'pr', 'rb', 'dt', 'nn', 'pr', 'description'), 1), (('paano', 'rb', 'rb', 'rb', 'vb', 'jj', 'cc', 'nn', 'description'), 1), (('sino', 'dt', 'nn', 'cc', 'nn', 'human'), 1), (('sino', 'dt', 'nn', 'nn', 'human'), 1), (('alin', 'cc', 'nn', 'jj', 'nn', 'dt', 'vb', 'human'), 1), (('alin', 'cc', 'vb', 'nn', 'dt', 'nn', 'pr', 'description'), 1), (('alin', 'cc', 'dt', 'nn', 'pr', 'dt', 'vb', 'human'), 1), (('saan', 'pr', 'location'), 1), (('ano', 'dt', 'vb', 'dt', 'nn', 'cc', 'nn', 'description'), 1), (('paano', 'pr', 'pr', 'vb', 'rb', 'description'), 1), (('kailan', 'pr', 'rb', 'vb', 'dt', 'rb', 'numeric'), 1), (('sino', 'rb', 'rb', 'vb', 'pr', 'human'), 2), (('alin', 'dt', 'vb', 'pr', 'description'), 1), (('ano', 'dt', 'nn', 'vb', 'pr', 'cc', 'nn', 'description'), 1), (('ano', 'dt', 'jj', 'nn', 'description'), 1), (('ano', 'dt', 'jj', 'jj', 'pr', 'description'), 1), (('bakit', 'pr', 'rb', 'rb', 'vb', 'description'), 1), (('bakit', 'vb', 'pr', 'pr', 'vb', 'description'), 1), (('bakit', 'jj', 'vb', 'pr', 'jj', 'rb', 'pr', 'rb', 'rb', 'description'), 1), (('paano', 'pr', 'vb', 'dt', 'nn', 'pr', 'cc', 'nn', 'description'), 3), (('kailan', 'rb', 'vb', 'rb', 'dt', 'vb', 'numeric'), 1), (('kailan', 'pr', 'rb', 'pr', 'vb', 'vb', 'numeric'), 1), (('kailan', 'pr', 'rb', 'vb', 'vb', 'pr', 'pr', 'vb', 'description'), 1), (('sino', 'rb', 'dt', 'vb', 'pr', 'human'), 1), (('sino', 'rb', 'dt', 'nn', 'cc', 'nn', 'pr', 'human'), 1), (('alin', 'dt', 'jj', 'jj', 'cc', 'pr', 'description'), 1), (('alin', 'pr', 'dt', 'vb', 'pr', 'description'), 1), (('alin', 'pr', 'dt', 'nn', 'pr', 'description'), 1), (('nasaan', 'pr', 'rb', 'rb', 'location'), 1), (('saan', 'rb', 'rb', 'dt', 'nn', 'pr', 'cc', 'pr', 'description'), 1), (('ano', 'rb', 'pr', 'nn', 'description'), 1), (('ano', 'rb', 'dt', 'nn', 'pr', 'description'), 2), (('ano', 'rb', 'rb', 'dt', 'jj', 'vb', 'pr', 'pr', 'description'), 1), (('bakit', 'rb', 'pr', 'description'), 1), (('bakit', 'rb', 'pr', 'dt', 'nn', 'description'), 1), (('bakit', 'rb', 'vb', 'cc', 'jj', 'description'), 1), (('paano', 'pr', 'rb', 'vb', 'dt', 'vb', 'pr', 'description'), 1), (('paano', 'rb', 'rb', 'cc', 'pr', 'vb', 'pr', 'description'), 1), (('kailan', 'pr', 'rb', 'pr', 'vb', 'pr', 'numeric'), 1), (('kailang', 'rb', 'dt', 'nn', 'nn', 'numeric'), 1), (('sino', 'rb', 'vb', 'pr', 'cc', 'nn', 'human'), 1), (('sino', 'rb', 'rb', 'nn', 'vb', 'pr', 'human'), 1), (('sino', 'dt', 'vb', 'pr', 'nn', 'human'), 4), (('alin', 'rb', 'cc', 'cd', 'pr', 'dt', 'vb', 'pr', 'description'), 1), (('alin', 'cc', 'dt', 'vb', 'pr', 'dt', 'nn', 'nn', 'description'), 1), (('alin', 'rb', 'dt', 'vb', 'pr', 'pr', 'description'), 1), (('saan', 'rb', 'pr', 'vb', 'vb', 'location'), 1), (('saan', 'rb', 'rb', 'pr', 'vb', 'location'), 1), (('saan', 'rb', 'pr', 'cc', 'nn', 'dt', 'nn', 'nn', 'location'), 1), (('ano', 'dt', 'nn', 'pr', 'cc', 'nn', 'pr', 'description'), 1), (('ano', 'dt', 'nn', 'pr', 'cc', 'rb', 'pr', 'description'), 1), (('bakit', 'vb', 'pr', 'pr', 'description'), 6), (('bakit', 'pr', 'dt', 'vb', 'pr', 'description'), 5), (('bakit', 'dt', 'nn', 'pr', 'nn', 'description'), 1), (('paano', 'rb', 'dt', 'jj', 'description'), 1), (('alin', 'dt', 'jj', 'vb', 'entity'), 1), (('alin', 'dt', 'jj', 'jj', 'pr', 'entity'), 1), (('aling', 'nn', 'dt', 'nn', 'pr', 'entity'), 1), (('ano', 'dt', 'pr', 'nn', 'description'), 1), (('bakit', 'nn', 'jj', 'nn', 'pr', 'vb', 'description'), 1), (('bakit', 'vb', 'vb', 'description'), 3), (('alin', 'cc', 'cd', 'dt', 'jj', 'jj', 'pr', 'entity'), 1), (('saan', 'pr', 'vb', 'vb', 'location'), 7), (('ano', 'dt', 'vb', 'cc', 'nn', 'pr', 'description'), 1), (('inaano', 'pr', 'rb', 'pr', 'description'), 1), (('ano', 'rb', 'description'), 1), (('bakit', 'rb', 'vb', 'pr', 'rb', 'dt', 'nn', 'pr', 'cc', 'pr', 'description'), 1), (('bakit', 'rb', 'pr', 'vb', 'cc', 'nn', 'cc', 'nn', 'cc', 'rb', 'vb', 'pr', 'vb', 'description'), 1), (('paano', 'rb', 'pr', 'nn', 'cc', 'nn', 'nn', 'dt', 'nn', 'nn', 'description'), 1), (('paano', 'rb', 'pr', 'nn', 'pr', 'description'), 1), (('paano', 'rb', 'vb', 'dt', 'nn', 'nn', 'description'), 2), (('kailan', 'pr', 'rb', 'vb', 'dt', 'vb', 'nn', 'description'), 2), (('kailan', 'vb', 'dt', 'nn', 'vb', 'cc', 'vb', 'description'), 2), (('kailan', 'rb', 'nn', 'dt', 'nn', 'nn', 'numeric'), 1), (('sino', 'dt', 'jj', 'cc', 'nn', 'dt', 'nn', 'nn', 'human'), 1), (('sino', 'dt', 'vb', 'pr', 'pr', 'rb', 'cc', 'nn', 'pr', 'human'), 1), (('sino', 'dt', 'nn', 'jj', 'cc', 'nn', 'dt', 'nn', 'nn', 'human'), 1), (('alin', 'cc', 'nn', 'vb', 'pr', 'pr', 'description'), 1), (('alin', 'dt', 'rb', 'rb', 'rb', 'rb', 'rb', 'entity'), 1), (('alin', 'dt', 'nn', 'pr', 'vb', 'rb', 'vb', 'description'), 1), (('saan', 'vb', 'dt', 'nn', 'dt', 'nn', 'nn', 'location'), 1), (('saan', 'vb', 'cc', 'nn', 'cc', 'nn', 'dt', 'nn', 'location'), 1), (('ano', 'dt', 'nn', 'cc', 'pr', 'entity'), 1), (('bakit', 'pr', 'rb', 'pr', 'vb', 'description'), 2), (('sino', 'dt', 'cd', 'pr', 'vb', 'human'), 1), (('alin', 'dt', 'cc', 'pr', 'entity'), 1), (('ano', 'rb', 'rb', 'dt', 'nn', 'nn', 'description'), 1), (('bakit', 'vb', 'pr', 'vb', 'dt', 'nn', 'pr', 'cc', 'nn', 'description'), 1), (('paano', 'pr', 'vb', 'vb', 'description'), 1), (('paano', 'rb', 'vb', 'dt', 'nn', 'description'), 3), (('kailan', 'rb', 'pr', 'pr', 'vb', 'numeric'), 1), (('kailan', 'pr', 'jj', 'cc', 'rb', 'pr', 'rb', 'vb', 'numeric'), 1), (('kailan', 'pr', 'vb', 'cc', 'nn', 'cc', 'nn', 'numeric'), 1), (('sino', 'dt', 'vb', 'nn', 'dt', 'vb', 'entity'), 1), (('sino', 'dt', 'nn', 'cc', 'nn', 'dt', 'nn', 'nn', 'description'), 1), (('sino', 'dt', 'vb', 'nn', 'rb', 'vb', 'pr', 'rb', 'pr', 'nn', 'pr', 'description'), 1), (('alin', 'dt', 'jj', 'jj', 'dt', 'jj', 'cc', 'jj', 'entity'), 1), (('alin', 'rb', 'cc', 'dt', 'pr', 'dt', 'vb', 'pr', 'entity'), 1), (('alin', 'nn', 'dt', 'rb', 'pr', 'entity'), 1), (('saan', 'rb', 'vb', 'dt', 'dt', 'nn', 'cc', 'nn', 'location'), 1), (('nasaan', 'pr', 'rb', 'nn', 'pr', 'location'), 1), (('ano', 'rb', 'cc', 'vb', 'pr', 'nn', 'description'), 1), (('ano', 'rb', 'vb', 'pr', 'description'), 4), (('anong', 'nn', 'cc', 'nn', 'pr', 'jj', 'nn', 'cc', 'nn', 'human'), 1), (('bakit', 'rb', 'rb', 'pr', 'vb', 'description'), 1), (('bakit', 'rb', 'jj', 'rb', 'vb', 'dt', 'dt', 'nn', 'nn', 'description'), 1), (('bakit', 'rb', 'vb', 'vb', 'rb', 'rb', 'pr', 'cc', 'dt', 'nn', 'nn', 'description'), 1), (('paano', 'rb', 'rb', 'rb', 'rb', 'rb', 'pr', 'vb', 'description'), 1), (('paano', 'pr', 'rb', 'vb', 'cc', 'nn', 'cc', 'vb', 'pr', 'pr', 'description'), 1), (('paano', 'rb', 'vb', 'nn', 'cc', 'pr', 'cc', 'nn', 'pr', 'description'), 1), (('kailan', 'pr', 'rb', 'rb', 'nn', 'dt', 'nn', 'vb', 'pr', 'nn', 'description'), 1), (('kailan', 'pr', 'vb', 'pr', 'numeric'), 2), (('sino', 'rb', 'cc', 'vb', 'cd', 'human'), 1), (('sino', 'vb', 'pr', 'vb', 'human'), 1), (('sino', 'vb', 'pr', 'rb', 'rb', 'cc', 'vb', 'nn', 'human'), 1), (('alin', 'vb', 'pr', 'vb', 'cc', 'cd', 'pr', 'entity'), 1), (('aling', 'nn', 'dt', 'nn', 'cc', 'pr', 'entity'), 1), (('alin', 'rb', 'cc', 'nn', 'cc', 'pr', 'dt', 'nn', 'cc', 'nn', 'nn', 'entity'), 1), (('saan', 'rb', 'vb', 'pr', 'rb', 'rb', 'rb', 'entity'), 1), (('saan', 'rb', 'vb', 'nn', 'location'), 1), (('saan', 'vb', 'pr', 'vb', 'vb', 'location'), 1), (('ano', 'dt', 'nn', 'cc', 'nn', 'jj', 'cc', 'nn', 'entity'), 1), (('ano', 'rb', 'dt', 'vb', 'vb', 'pr', 'cc', 'nn', 'cc', 'vb', 'pr', 'pr', 'description'), 1), (('ano', 'dt', 'nn', 'cc', 'nn', 'nn', 'description'), 1), (('bakit', 'rb', 'vb', 'dt', 'nn', 'description'), 2), (('paano', 'pr', 'rb', 'vb', 'dt', 'vb', 'vb', 'description'), 1), (('paano', 'rb', 'pr', 'rb', 'pr', 'lm', 'vb', 'pr', 'description'), 1), (('paano', 'pr', 'jj', 'cc', 'jj', 'pr', 'pr', 'description'), 1), (('kailan', 'pr', 'rb', 'pr', 'vb', 'numeric'), 1), (('kailan', 'pr', 'rb', 'vb', 'rb', 'rb', 'nn', 'cc', 'jj', 'pr', 'pr', 'description'), 1), (('kailan', 'rb', 'pr', 'rb', 'rb', 'description'), 1), (('sino', 'rb', 'rb', 'dt', 'nn', 'pr', 'cc', 'vb', 'cd', 'human'), 1), (('sino', 'dt', 'jj', 'cc', 'nn', 'pr', 'human'), 1), (('sino', 'rb', 'rb', 'pr', 'cc', 'nn', 'pr', 'cc', 'description'), 1), (('alin', 'cc', 'dt', 'vb', 'dt', 'vb', 'pr', 'entity'), 1), (('alin', 'dt', 'vb', 'cc', 'cd', 'nn', 'entity'), 1), (('saan', 'pr', 'vb', 'cc', 'nn', 'pr', 'description'), 1), (('saan', 'pr', 'vb', 'dt', 'nn', 'jj', 'cc', 'pr', 'description'), 1), (('ano', 'dt', 'vb', 'vb', 'cc', 'nn', 'nn', 'description'), 1), (('ano', 'dt', 'vb', 'pr', 'jj', 'nn', 'entity'), 1), (('bakit', 'rb', 'pr', 'vb', 'cc', 'nn', 'description'), 1), (('bakit', 'vb', 'pr', 'vb', 'cc', 'nn', 'cc', 'pr', 'vb', 'dt', 'nn', 'pr', 'cc', 'nn', 'description'), 1), (('bakit', 'pr', 'pr', 'vb', 'cc', 'nn', 'description'), 1), (('paano', 'rb', 'vb', 'pr', 'pr', 'cc', 'nn', 'description'), 1), (('paano', 'pr', 'rb', 'vb', 'dt', 'nn', 'description'), 1), (('paano', 'pr', 'pr', 'vb', 'cc', 'nn', 'description'), 1), (('sino', 'dt', 'jj', 'cc', 'nn', 'cc', 'nn', 'cc', 'jj', 'pr', 'human'), 1), (('sino', 'dt', 'jj', 'vb', 'dt', 'nn', 'human'), 1), (('sino', 'dt', 'vb', 'cc', 'nn', 'cc', 'nn', 'cc', 'nn', 'human'), 1), (('alin', 'pr', 'dt', 'vb', 'vb', 'entity'), 3), (('alin', 'cc', 'dt', 'nn', 'cc', 'pr', 'dt', 'nn', 'dt', 'nn', 'entity'), 1), (('alin', 'cc', 'dt', 'pr', 'dt', 'vb', 'dt', 'nn', 'entity'), 1), (('saan', 'rb', 'dt', 'nn', 'cc', 'nn', 'location'), 1), (('saan', 'rb', 'dt', 'nn', 'dt', 'nn', 'nn', 'location'), 1), (('saan', 'jj', 'dt', 'nn', 'location'), 2), (('ano', 'dt', 'vb', 'vb', 'pr', 'vb', 'dt', 'nn', 'nn', 'description'), 1), (('bakit', 'dt', 'nn', 'dt', 'nn', 'nn', 'description'), 1), (('paano', 'pr', 'jj', 'dt', 'pr', 'nn', 'dt', 'nn', 'nn', 'description'), 1), (('kailan', 'pr', 'vb', 'dt', 'pr', 'vb', 'numeric'), 1), (('sino', 'dt', 'pr', 'nn', 'human'), 1), (('alin', 'dt', 'vb', 'pr', 'entity'), 4), (('ano', 'dt', 'nn', 'cc', 'nn', 'cc', 'rb', 'pr', 'description'), 1), (('ano', 'dt', 'nn', 'description'), 1), (('ano', 'rb', 'dt', 'vb', 'pr', 'vb', 'description'), 2), (('bakit', 'cc', 'vb', 'cc', 'nn', 'cc', 'nn', 'pr', 'rb', 'description'), 1), (('bakit', 'rb', 'vb', 'pr', 'description'), 1), (('paano', 'cc', 'pr', 'description'), 2), (('paano', 'cc', 'dt', 'dt', 'nn', 'vb', 'vb', 'description'), 1), (('paano', 'rb', 'dt', 'vb', 'pr', 'description'), 1), (('kailan', 'pr', 'nn', 'cc', 'vb', 'numeric'), 3), (('kailan', 'pr', 'vb', 'cc', 'nn', 'rb', 'rb', 'pr', 'numeric'), 1), (('sino', 'pr', 'description'), 2), (('sino', 'cc', 'pr', 'dt', 'vb', 'nn', 'description'), 1), (('sino', 'cc', 'vb', 'cd', 'dt', 'vb', 'pr', 'description'), 1), (('alin', 'pr', 'dt', 'vb', 'pr', 'jj', 'entity'), 1), (('alin', 'cc', 'dt', 'vb', 'pr', 'dt', 'nn', 'entity'), 1), (('alin', 'cc', 'dt', 'vb', 'pr', 'dt', 'vb', 'pr', 'vb', 'entity'), 1), (('saan', 'rb', 'pr', 'vb', 'description'), 1), (('saan', 'rb', 'pr', 'vb', 'vb', 'description'), 2), (('ano', 'dt', 'nn', 'cc', 'pr', 'nn', 'entity'), 1), (('ano', 'dt', 'vb', 'vb', 'cc', 'nn', 'description'), 7), (('ano', 'dt', 'rb', 'rb', 'cc', 'pr', 'entity'), 1), (('bakit', 'nn', 'dt', 'dt', 'nn', 'cc', 'nn', 'description'), 1), (('bakit', 'jj', 'dt', 'nn', 'dt', 'nn', 'description'), 1), (('bakit', 'vb', 'dt', 'nn', 'cc', 'vb', 'description'), 1), (('paano', 'rb', 'description'), 6), (('paano', 'pr', 'rb', 'dt', 'nn', 'rb', 'vb', 'nn', 'description'), 1), (('kailan', 'vb', 'dt', 'nn', 'pr', 'nn', 'description'), 1), (('kailan', 'dt', 'nn', 'nn', 'description'), 1), (('sino', 'dt', 'nn', 'description'), 3), (('sino', 'dt', 'nn', 'pr', 'vb', 'nn', 'human'), 1), (('sino', 'dt', 'nn', 'rb', 'rb', 'cc', 'pr', 'nn', 'human'), 1), (('alin', 'dt', 'jj', 'jj', 'nn', 'cc', 'nn', 'entity'), 3), (('alin', 'dt', 'dt', 'nn', 'pr', 'vb', 'entity'), 1), (('alin', 'cc', 'pr', 'dt', 'nn', 'nn', 'entity'), 1), (('saan', 'pr', 'jj', 'cc', 'nn', 'location'), 1), (('bakit', 'rb', 'pr', 'rb', 'vb', 'description'), 3), (('sino', 'dt', 'nn', 'cc', 'nn', 'nn', 'nn', 'description'), 1), (('alin', 'dt', 'rb', 'rb', 'entity'), 1), (('saan', 'jj', 'dt', 'nn', 'pr', 'location'), 2), (('ano', 'dt', 'pr', 'vb', 'entity'), 1), (('ano', 'dt', 'vb', 'pr', 'rb', 'description'), 1), (('ano', 'nn', 'vb', 'vb', 'cc', 'pr', 'vb', 'description'), 1), (('bakit', 'vb', 'pr', 'vb', 'description'), 3), (('paano', 'pr', 'vb', 'vb', 'dt', 'dt', 'nn', 'pr', 'description'), 1), (('paano', 'pr', 'vb', 'dt', 'pr', 'dt', 'nn', 'description'), 1), (('kailan', 'pr', 'vb', 'cc', 'vb', 'nn', 'numeric'), 1), (('kailan', 'rb', 'numeric'), 3), (('sino', 'dt', 'nn', 'pr', 'vb', 'cc', 'pr', 'nn', 'human'), 1), (('sino', 'dt', 'jj', 'nn', 'cc', 'nn', 'pr', 'human'), 1), (('sino', 'dt', 'pr', 'rb', 'rb', 'pr', 'dt', 'nn', 'nn', 'human'), 1), (('alin', 'cc', 'cd', 'nn', 'dt', 'jj', 'jj', 'pr', 'entity'), 1), (('alin', 'dt', 'vb', 'vb', 'entity'), 1), (('alin', 'dt', 'jj', 'jj', 'entity'), 6), (('saan', 'rb', 'rb', 'rb', 'location'), 2), (('ano', 'dt', 'vb', 'cc', 'nn', 'vb', 'description'), 1), (('ano', 'dt', 'jj', 'jj', 'rb', 'rb', 'nn', 'nn', 'pr', 'description'), 1), (('anu-ano', 'dt', 'dt', 'nn', 'pr', 'vb', 'cc', 'nn', 'description'), 1), (('bakit', 'jj', 'vb', 'pr', 'description'), 1), (('bakit', 'rb', 'jj', 'dt', 'nn', 'description'), 1), (('bakit', 'vb', 'vb', 'rb', 'description'), 1), (('paano', 'rb', 'vb', 'cc', 'nn', 'rb', 'rb', 'description'), 1), (('paano', 'pr', 'vb', 'jj', 'pr', 'rb', 'description'), 1), (('kailan', 'pr', 'rb', 'vb', 'pr', 'numeric'), 3), (('kailan', 'rb', 'dt', 'nn', 'pr', 'numeric'), 1), (('sino', 'dt', 'vb', 'jj', 'pr', 'human'), 1), (('sinu-sino', 'dt', 'dt', 'nn', 'pr', 'human'), 1), (('sino', 'dt', 'cd', 'nn', 'cc', 'pr', 'nn', 'human'), 1), (('alin', 'dt', 'jj', 'jj', 'pr', 'nn', 'entity'), 1), (('alin', 'cc', 'dt', 'nn', 'pr', 'dt', 'pr', 'nn', 'entity'), 1), (('ano', 'dt', 'vb', 'pr', 'jj', 'description'), 1), (('ano', 'rb', 'dt', 'nn', 'cc', 'nn', 'description'), 1), (('kailan', 'dt', 'vb', 'nn', 'lm', 'jj', 'cc', 'nn', 'description'), 1), (('bakit', 'rb', 'rb', 'rb', 'rb', 'rb', 'pr', 'lm', 'rb', 'rb', 'rb', 'description'), 1), (('paano', 'pr', 'pr', 'vb', 'pr', 'vb', 'description'), 1), (('paano', 'rb', 'pr', 'nn', 'cc', 'nn', 'pr', 'cc', 'nn', 'vb', 'dt', 'nn', 'nn', 'description'), 1), (('kailan', 'rb', 'rb', 'pr', 'vb', 'pr', 'description'), 1), (('kailan', 'pr', 'rb', 'vb', 'cc', 'dt', 'nn', 'pr', 'lm', 'vb', 'nn', 'cc', 'pr', 'description'), 1), (('sino', 'dt', 'vb', 'vb', 'cc', 'nn', 'cc', 'nn', 'human'), 1), (('sino', 'dt', 'vb', 'pr', 'cc', 'pr', 'human'), 3), (('alin', 'dt', 'nn', 'nn', 'nn', 'entity'), 4), (('saan', 'pr', 'vb', 'vb', 'description'), 1), (('saan', 'pr', 'nn', 'dt', 'nn', 'pr', 'location'), 1), (('ano', 'dt', 'vb', 'cc', 'nn', 'pr', 'entity'), 1), (('bakit', 'pr', 'pr', 'vb', 'nn', 'description'), 1), (('bakit', 'vb', 'pr', 'cc', 'nn', 'cc', 'vb', 'description'), 1), (('bakit', 'pr', 'dt', 'nn', 'pr', 'description'), 3), (('kailan', 'pr', 'pr', 'vb', 'cc', 'nn', 'numeric'), 1), (('sino', 'rb', 'nn', 'cc', 'nn', 'nn', 'dt', 'nn', 'pr', 'human'), 1), (('alin', 'cc', 'cd', 'nn', 'dt', 'vb', 'pr', 'entity'), 1), (('alin', 'cc', 'cd', 'nn', 'nn', 'vb', 'pr', 'entity'), 1), (('saan', 'rb', 'nn', 'cc', 'nn', 'pr', 'dt', 'nn', 'pr', 'location'), 1), (('ano', 'dt', 'nn', 'pr', 'entity'), 14), (('paano', 'pr', 'nn', 'dt', 'dt', 'nn', 'vb', 'cd', 'description'), 3), (('paano', 'pr', 'vb', 'nn', 'cc', 'jj', 'cc', 'description'), 3), (('paano', 'pr', 'nn', 'dt', 'vb', 'vb', 'cc', 'nn', 'vb', 'pr', 'description'), 3), (('kailan', 'pr', 'vb', 'dt', 'nn', 'rb', 'cc', 'pr', 'numeric'), 2), (('kailan', 'pr', 'vb', 'dt', 'nn', 'pr', 'cc', 'nn', 'pr', 'numeric'), 2), (('sino', 'pr', 'nn', 'pr', 'entity'), 1), (('sino', 'dt', 'vb', 'pr', 'cc', 'pr', 'entity'), 1), (('sino', 'dt', 'vb', 'pr', 'vb', 'pr', 'entity'), 1), (('alin', 'dt', 'nn', 'nn', 'nn', 'nn', 'entity'), 3), (('alin', 'dt', 'nn', 'cc', 'vb', 'nn', 'nn', 'entity'), 3), (('alin', 'rb', 'cc', 'cd', 'vb', 'pr', 'rb', 'rb', 'rb', 'entity'), 3), (('saan', 'pr', 'vb', 'abbreviation'), 2), (('saan', 'nn', 'pr', 'location'), 4), (('ano', 'rb', 'rb', 'dt', 'nn', 'pr', 'cc', 'pr', 'entity'), 4), (('bakit', 'pr', 'pr', 'vb', 'cc', 'pr', 'description'), 2), (('alin', 'cc', 'pr', 'dt', 'vb', 'pr', 'entity'), 1), (('saan', 'pr', 'rb', 'pr', 'nn', 'pr', 'location'), 2), (('ano', 'dt', 'vb', 'pr', 'vb', 'entity'), 3), (('ano', 'dt', 'nn', 'cc', 'vb', 'vb', 'description'), 1), (('ano', 'dt', 'nn', 'vb', 'pr', 'vb', 'description'), 1), (('bakit', 'rb', 'pr', 'vb', 'pr', 'description'), 2), (('bakit', 'rb', 'vb', 'pr', 'rb', 'pr', 'vb', 'description'), 2), (('paano', 'cc', 'dt', 'dt', 'nn', 'pr', 'rb', 'vb', 'description'), 2), (('paano', 'rb', 'dt', 'nn', 'rb', 'rb', 'pr', 'rb', 'description'), 2), (('kailan', 'rb', 'rb', 'vb', 'dt', 'nn', 'nn', 'numeric'), 2), (('kailan', 'pr', 'rb', 'vb', 'dt', 'vb', 'pr', 'numeric'), 1), (('kailan', 'rb', 'rb', 'rb', 'pr', 'jj', 'numeric'), 2), (('kailan', 'rb', 'dt', 'nn', 'cc', 'cd', 'nn', 'numeric'), 2), (('sino', 'rb', 'dt', 'vb', 'cc', 'vb', 'cd', 'human'), 2), (('sino', 'rb', 'dt', 'cd', 'vb', 'human'), 2), (('sino', 'rb', 'dt', 'vb', 'cc', 'pr', 'human'), 2), (('sino', 'rb', 'dt', 'vb', 'cc', 'rb', 'human'), 2), (('alin', 'rb', 'cc', 'cd', 'description'), 1), (('alin', 'cc', 'dt', 'pr', 'description'), 1), (('alin', 'pr', 'description'), 1), (('saan', 'rb', 'rb', 'vb', 'description'), 2), (('saan', 'rb', 'vb', 'nn', 'description'), 2), (('saan', 'rb', 'vb', 'vb', 'location'), 3), (('sino', 'pr', 'nn', 'pr', 'human'), 2), (('sino', 'dt', 'vb', 'pr', 'vb', 'pr', 'human'), 3), (('ano', 'dt', 'nn', 'cc', 'nn', 'cc', 'rb', 'pr', 'entity'), 2), (('ano', 'dt', 'vb', 'pr', 'vb', 'pr', 'lm', 'vb', 'description'), 1), (('bakit', 'pr', 'vb', 'cc', 'description'), 2), (('bakit', 'vb', 'pr', 'vb', 'pr', 'jj', 'nn', 'description'), 2), (('paano', 'pr', 'vb', 'cc', 'pr', 'cc', 'rb', 'dt', 'description'), 2), (('paano', 'pr', 'vb', 'entity'), 1), (('kailan', 'pr', 'vb', 'description'), 8), (('sino', 'pr', 'cc', 'nn', 'human'), 2), (('sino', 'dt', 'vb', 'pr', 'cc', 'vb', 'cd', 'human'), 2), (('alin', 'dt', 'jj', 'jj', 'cc', 'vb', 'cd', 'entity'), 1), (('alin', 'cc', 'nn', 'dt', 'jj', 'vb', 'entity'), 1), (('saan', 'cc', 'pr', 'vb', 'location'), 1), (('ano', 'dt', 'vb', 'pr', 'entity'), 5), (('ano', 'dt', 'nn', 'cc', 'nn', 'pr', 'human'), 1), (('kailan', 'pr', 'rb', 'numeric'), 4), (('alin', 'dt', 'nn', 'pr', 'entity'), 5), (('saan', 'dt', 'nn', 'location'), 3), (('ano', 'vb', 'rb', 'dt', 'vb', 'pr', 'entity'), 2), (('anong', 'nn', 'dt', 'vb', 'pr', 'vb', 'entity'), 2), (('anong', 'nn', 'dt', 'nn', 'cc', 'nn', 'pr', 'entity'), 2), (('bakit', 'rb', 'pr', 'vb', 'cc', 'vb', 'description'), 2), (('bakit', 'jj', 'pr', 'description'), 3), (('paano', 'rb', 'dt', 'dt', 'nn', 'description'), 3), (('sino', 'cc', 'cd', 'dt', 'nn', 'vb', 'nn', 'dt', 'nn', 'nn', 'human'), 2), (('sino', 'rb', 'pr', 'vb', 'pr', 'vb', 'human'), 2), (('sino', 'cc', 'pr', 'dt', 'vb', 'cc', 'nn', 'pr', 'human'), 2), (('alin', 'cc', 'nn', 'dt', 'nn', 'pr', 'description'), 1), (('saan', 'pr', 'rb', 'vb', 'dt', 'nn', 'cc', 'pr', 'location'), 2), (('saan', 'pr', 'vb', 'rb', 'vb', 'location'), 2), (('saan', 'rb', 'pr', 'location'), 2), (('ano', 'rb', 'dt', 'nn', 'pr', 'cc', 'rb', 'pr', 'entity'), 1), (('ano', 'dt', 'vb', 'vb', 'cc', 'vb', 'cc', 'nn', 'entity'), 2), (('ano', 'dt', 'nn', 'vb', 'cc', 'nn', 'pr', 'vb', 'nn', 'entity'), 1), (('bakit', 'cc', 'vb', 'pr', 'vb', 'cd', 'vb', 'description'), 2), (('bakit', 'dt', 'nn', 'vb', 'rb', 'vb', 'nn', 'pr', 'pr', 'description'), 2), (('bakit', 'vb', 'pr', 'vb', 'cc', 'pr', 'vb', 'pr', 'nn', 'cc', 'cd', 'pr', 'rb', 'description'), 2), (('paano', 'pr', 'vb', 'pr', 'nn', 'pr', 'cc', 'pr', 'description'), 2), (('paano', 'pr', 'vb', 'dt', 'nn', 'cc', 'nn', 'pr', 'description'), 2), (('kailan', 'rb', 'vb', 'dt', 'nn', 'dt', 'vb', 'nn', 'numeric'), 1), (('kailang', 'rb', 'pr', 'vb', 'cc', 'jj', 'nn', 'cc', 'jj', 'cc', 'nn', 'numeric'), 1), (('kailan', 'vb', 'dt', 'nn', 'cc', 'nn', 'numeric'), 2), (('sino', 'dt', 'jj', 'jj', 'cc', 'nn', 'dt', 'nn', 'human'), 2), (('sino', 'rb', 'rb', 'rb', 'dt', 'jj', 'rb', 'jj', 'dt', 'jj', 'nn', 'cc', 'jj', 'nn', 'entity'), 1), (('sino', 'rb', 'dt', 'vb', 'cc', 'nn', 'nn', 'cc', 'nn', 'human'), 2), (('alin', 'rb', 'cc', 'dt', 'nn', 'dt', 'nn', 'cc', 'nn', 'entity'), 1), (('alin', 'cc', 'dt', 'nn', 'dt', 'jj', 'cc', 'rb', 'rb', 'human'), 2), (('alin', 'cc', 'dt', 'nn', 'dt', 'vb', 'cc', 'nn', 'cc', 'nn', 'entity'), 2), (('saan', 'pr', 'nn', 'cc', 'vb', 'nn', 'location'), 2), (('saan', 'rb', 'jj', 'dt', 'cd', 'nn', 'cc', 'nn', 'location'), 2), (('ano', 'dt', 'nn', 'cc', 'nn', 'entity'), 6), (('ano', 'dt', 'vb', 'vb', 'cc', 'vb', 'description'), 2), (('bakit', 'nn', 'pr', 'nn', 'rb', 'dt', 'vb', 'nn', 'description'), 2), (('bakit', 'cc', 'vb', 'cd', 'vb', 'pr', 'vb', 'description'), 2), (('bakit', 'cc', 'vb', 'nn', 'cc', 'nn', 'nn', 'pr', 'rb', 'description'), 2), (('paano', 'rb', 'rb', 'dt', 'jj', 'description'), 2), (('paano', 'rb', 'rb', 'cc', 'nn', 'description'), 5), (('kailan', 'rb', 'vb', 'pr', 'numeric'), 1), (('kailan', 'pr', 'rb', 'pr', 'vb', 'entity'), 1), (('kailan', 'pr', 'rb', 'pr', 'vb', 'cc', 'nn', 'description'), 2), (('sino', 'dt', 'vb', 'pr', 'entity'), 1), (('alin', 'cc', 'dt', 'nn', 'cc', 'nn', 'nn', 'dt', 'vb', 'pr', 'entity'), 2), (('alin', 'cc', 'dt', 'nn', 'cc', 'nn', 'dt', 'vb', 'location'), 2), (('alin', 'cc', 'dt', 'nn', 'dt', 'jj', 'entity'), 2), (('saan', 'rb', 'jj', 'dt', 'dt', 'nn', 'dt', 'nn', 'nn', 'location'), 2), (('saan', 'pr', 'rb', 'jj', 'pr', 'description'), 2), (('bakit', 'pr', 'vb', 'pr', 'cc', 'vb', 'pr', 'vb', 'description'), 2), (('bakit', 'vb', 'pr', 'vb', 'cc', 'nn', 'cc', 'nn', 'numeric'), 1), (('bakit', 'vb', 'pr', 'nn', 'nn', 'cc', 'nn', 'numeric'), 1), (('paano', 'pr', 'vb', 'dt', 'dt', 'nn', 'cc', 'pr', 'abbreviation'), 1), (('paano', 'pr', 'vb', 'dt', 'dt', 'nn', 'pr', 'cc', 'nn', 'description'), 2), (('paano', 'pr', 'pr', 'vb', 'cc', 'vb', 'pr', 'cc', 'nn', 'description'), 2), (('kailan', 'pr', 'rb', 'vb', 'cc', 'nn', 'nn', 'cc', 'vb', 'pr', 'numeric'), 1), (('sino', 'dt', 'jj', 'pr', 'jj', 'cc', 'nn', 'pr', 'human'), 2), (('sino', 'dt', 'vb', 'nn', 'cc', 'nn', 'nn', 'cc', 'nn', 'nn', 'human'), 2), (('saan', 'pr', 'rb', 'nn', 'cc', 'nn', 'location'), 1), (('saan', 'pr', 'rb', 'rb', 'rb', 'pr', 'description'), 2), (('saan', 'pr', 'vb', 'cc', 'nn', 'cc', 'rb', 'nn', 'cc', 'nn', 'cc', 'nn', 'cc', 'nn', 'human'), 2), (('ano', 'dt', 'nn', 'pr', 'rb', 'nn', 'entity'), 2), (('ano', 'rb', 'dt', 'nn', 'cc', 'nn', 'dt', 'nn', 'entity'), 2), (('bakit', 'rb', 'nn', 'description'), 3), (('bakit', 'rb', 'nn', 'dt', 'nn', 'description'), 2), (('bakit', 'pr', 'dt', 'vb', 'cc', 'nn', 'description'), 2), (('paano', 'rb', 'vb', 'cc', 'nn', 'nn', 'description'), 2), (('kailan', 'rb', 'nn', 'numeric'), 2), (('sino', 'dt', 'nn', 'pr', 'rb', 'vb', 'vb', 'human'), 2), (('sino', 'dt', 'dt', 'nn', 'dt', 'nn', 'nn', 'human'), 2), (('alin', 'cc', 'dt', 'pr', 'dt', 'rb', 'cc', 'nn', 'pr', 'entity'), 2), (('alin', 'pr', 'dt', 'vb', 'pr', 'vb', 'pr', 'description'), 1), (('alin', 'cc', 'dt', 'nn', 'cc', 'vb', 'pr', 'jj', 'dt', 'nn', 'location'), 1), (('saan', 'rb', 'jj', 'dt', 'nn', 'nn', 'location'), 2), (('saan', 'rb', 'rb', 'pr', 'jj', 'cc', 'nn', 'rb', 'description'), 1), (('ano', 'dt', 'nn', 'cc', 'nn', 'cc', 'vb', 'cc', 'vb', 'nn', 'entity'), 2), (('ano', 'dt', 'vb', 'pr', 'cc', 'nn', 'dt', 'nn', 'cc', 'vb', 'cc', 'vb', 'pr', 'nn', 'description'), 2), (('ano', 'dt', 'vb', 'vb', 'dt', 'vb', 'vb', 'cc', 'pr', 'nn', 'description'), 2), (('bakit', 'vb', 'vb', 'cc', 'dt', 'nn', 'dt', 'nn', 'dt', 'nn', 'nn', 'description'), 2), (('bakit', 'vb', 'dt', 'nn', 'rb', 'rb', 'vb', 'cc', 'nn', 'description'), 2), (('bakit', 'rb', 'vb', 'cc', 'nn', 'vb', 'dt', 'dt', 'nn', 'nn', 'description'), 2), (('paano', 'rb', 'rb', 'dt', 'dt', 'nn', 'cc', 'nn', 'dt', 'nn', 'description'), 2), (('paano', 'vb', 'dt', 'nn', 'description'), 2), (('paano', 'rb', 'dt', 'nn', 'cc', 'dt', 'nn', 'description'), 2), (('kailan', 'rb', 'rb', 'rb', 'rb', 'numeric'), 1), (('kailan', 'rb', 'vb', 'dt', 'vb', 'cc', 'nn', 'numeric'), 1), (('kailan', 'rb', 'pr', 'vb', 'dt', 'nn', 'numeric'), 2), (('sino', 'dt', 'nn', 'cc', 'vb', 'nn', 'cc', 'nn', 'nn', 'human'), 2), (('sino', 'rb', 'rb', 'human'), 3), (('alin', 'cc', 'dt', 'nn', 'cc', 'nn', 'dt', 'vb', 'vb', 'cc', 'vb', 'dt', 'nn', 'entity'), 2), (('alin', 'pr', 'dt', 'nn', 'dt', 'vb', 'cc', 'rb', 'entity'), 1), (('alin', 'cc', 'dt', 'nn', 'pr', 'dt', 'nn', 'pr', 'human'), 2), (('saan', 'vb', 'cd', 'vb', 'dt', 'dt', 'nn', 'human'), 2), (('saan', 'vb', 'dt', 'nn', 'entity'), 1), (('saan', 'vb', 'dt', 'dt', 'nn', 'location'), 2), (('ano', 'dt', 'vb', 'pr', 'jj', 'cc', 'nn', 'entity'), 2), (('ano', 'rb', 'rb', 'nn', 'pr', 'cc', 'rb', 'pr', 'entity'), 1), (('paano', 'pr', 'rb', 'dt', 'pr', 'nn', 'description'), 1), (('paano', 'pr', 'rb', 'rb', 'vb', 'dt', 'pr', 'cc', 'pr', 'description'), 2), (('kailan', 'rb', 'rb', 'pr', 'vb', 'jj', 'numeric'), 1), (('sinong', 'nn', 'pr', 'nn', 'human'), 2), (('sino', 'dt', 'jj', 'nn', 'human'), 2), (('sino', 'rb', 'rb', 'pr', 'cc', 'nn', 'pr', 'entity'), 2), (('saan', 'rb', 'rb', 'pr', 'vb', 'rb', 'location'), 2), (('ano', 'dt', 'pr', 'nn', 'entity'), 4), (('ano', 'rb', 'rb', 'entity'), 2), (('kailan', 'pr', 'vb', 'dt', 'jj', 'pr', 'nn', 'numeric'), 1), (('saan', 'rb', 'vb', 'dt', 'nn', 'nn', 'location'), 1), (('bakit', 'vb', 'vb', 'pr', 'pr', 'description'), 2), (('bakit', 'nn', 'description'), 3), (('kailan', 'rb', 'rb', 'numeric'), 2), (('sino', 'dt', 'jj', 'nn', 'pr', 'human'), 1), (('alin', 'cc', 'cd', 'entity'), 2), (('ano', 'dt', 'nn', 'nn', 'entity'), 4), (('ano', 'dt', 'entity'), 1), (('kailan', 'pr', 'rb', 'vb', 'cc', 'rb', 'numeric'), 1), (('sino', 'dt', 'nn', 'jj', 'pr', 'human'), 2), (('alin', 'cc', 'dt', 'nn', 'cc', 'jj', 'pr', 'dt', 'pr', 'vb', 'entity'), 2), (('ano', 'rb', 'nn', 'cc', 'nn', 'entity'), 1), (('anong', 'nn', 'cc', 'nn', 'cc', 'rb', 'pr', 'entity'), 1), (('anong', 'rb', 'cc', 'vb', 'vb', 'entity'), 2), (('bakit', 'rb', 'pr', 'pr', 'vb', 'description'), 2), (('bakit', 'rb', 'vb', 'vb', 'rb', 'cc', 'rb', 'vb', 'pr', 'rb', 'rb', 'vb', 'description'), 2), (('paano', 'pr', 'vb', 'vb', 'nn', 'description'), 2), (('paano', 'pr', 'jj', 'cc', 'nn', 'description'), 2), (('sino', 'pr', 'cc', 'vb', 'pr', 'nn', 'human'), 1), (('alin', 'cc', 'dt', 'nn', 'pr', 'dt', 'rb', 'pr', 'rb', 'entity'), 2), (('alin', 'cc', 'dt', 'nn', 'nn', 'dt', 'vb', 'pr', 'rb', 'entity'), 2), (('alin', 'cc', 'dt', 'nn', 'nn', 'dt', 'rb', 'cc', 'nn', 'entity'), 1), (('saan', 'pr', 'description'), 2), (('saan', 'pr', 'cc', 'nn', 'cc', 'rb', 'pr', 'description'), 1), (('anu-ano', 'dt', 'dt', 'rb', 'pr', 'cc', 'nn', 'cc', 'nn', 'description'), 1), (('bakit', 'vb', 'pr', 'pr', 'jj', 'vb', 'pr', 'cc', 'vb', 'vb', 'pr', 'pr', 'description'), 2), (('bakit', 'rb', 'rb', 'dt', 'nn', 'vb', 'cc', 'lm', 'rb', 'nn', 'description'), 2), (('bakit', 'rb', 'rb', 'rb', 'description'), 2), (('paano', 'pr', 'vb', 'cc', 'nn', 'cc', 'rb', 'description'), 2), (('paano', 'rb', 'rb', 'dt', 'nn', 'nn', 'cc', 'nn', 'description'), 2), (('kailan', 'pr', 'vb', 'cc', 'nn', 'description'), 2), (('kailan', 'vb', 'dt', 'nn', 'cc', 'pr', 'vb', 'dt', 'jj', 'cc', 'nn', 'pr', 'numeric'), 1), (('sino', 'cc', 'rb', 'rb', 'pr', 'cc', 'nn', 'nn', 'human'), 2), (('sino', 'cc', 'pr', 'dt', 'jj', 'jj', 'human'), 2), (('saan', 'rb', 'dt', 'nn', 'vb', 'description'), 1), (('saan', 'vb', 'dt', 'dt', 'vb', 'pr', 'description'), 2), (('ano', 'rb', 'dt', 'vb', 'pr', 'description'), 2), (('anong', 'jj', 'pr', 'nn', 'entity'), 2), (('bakit', 'jj', 'pr', 'pr', 'description'), 2), (('bakit', 'jj', 'pr', 'vb', 'rb', 'description'), 2), (('kailan', 'rb', 'pr', 'rb', 'cc', 'nn', 'numeric'), 1), (('kailan', 'rb', 'dt', 'nn', 'vb', 'description'), 1), (('kailan', 'pr', 'vb', 'dt', 'nn', 'pr', 'cc', 'pr', 'description'), 2), (('sino', 'rb', 'dt', 'nn', 'pr', 'human'), 3), (('sino', 'rb', 'dt', 'nn', 'cc', 'pr', 'nn', 'human'), 2), (('alin', 'cc', 'cd', 'dt', 'vb', 'pr', 'human'), 1), (('alin', 'nn', 'dt', 'nn', 'nn', 'entity'), 2), (('saan', 'dt', 'cd', 'pr', 'nn', 'numeric'), 1), (('ano', 'rb', 'dt', 'rb', 'pr', 'cc', 'nn', 'nn', 'entity'), 1), (('ano', 'dt', 'vb', 'pr', 'cc', 'nn', 'pr', 'rb', 'description'), 1), (('ano', 'dt', 'vb', 'pr', 'cc', 'nn', 'cc', 'nn', 'dt', 'vb', 'pr', 'description'), 1), (('ano', 'rb', 'rb', 'pr', 'nn', 'description'), 2), (('bakit', 'jj', 'pr', 'nn', 'description'), 2), (('bakit', 'vb', 'pr', 'rb', 'description'), 2), (('paano', 'rb', 'pr', 'nn', 'cc', 'pr', 'description'), 2), (('paano', 'rb', 'rb', 'vb', 'dt', 'dt', 'nn', 'description'), 2), (('paano', 'rb', 'pr', 'nn', 'vb', 'description'), 2), (('paano', 'pr', 'description'), 2), (('paano', 'pr', 'vb', 'jj', 'description'), 2), (('kailan', 'rb', 'pr', 'vb', 'nn', 'numeric'), 1), (('kailan', 'rb', 'pr', 'vb', 'rb', 'description'), 2), (('kailan', 'rb', 'pr', 'jj', 'rb', 'description'), 2), (('bakit', 'vb', 'nn', 'pr', 'vb', 'human'), 1), (('sino', 'dt', 'vb', 'pr', 'jj', 'pr', 'human'), 5), (('sino', 'dt', 'jj', 'dt', 'nn', 'human'), 2), (('alin', 'dt', 'jj', 'jj', 'nn', 'dt', 'nn', 'human'), 3), (('alin', 'dt', 'jj', 'jj', 'dt', 'nn', 'entity'), 1), (('alin', 'dt', 'jj', 'jj', 'nn', 'nn', 'entity'), 3), (('saan', 'rb', 'rb', 'rb', 'pr', 'location'), 2), (('saan', 'rb', 'rb', 'pr', 'rb', 'location'), 3), (('saan', 'rb', 'pr', 'nn', 'vb', 'location'), 2), (('ano', 'rb', 'dt', 'nn', 'pr', 'cc', 'dt', 'vb', 'pr', 'description'), 1), (('anong', 'dt', 'nn', 'dt', 'jj', 'pr', 'vb', 'description'), 1), (('bakit', 'pr', 'rb', 'vb', 'description'), 2), (('paano', 'pr', 'vb', 'dt', 'nn', 'cc', 'nn', 'description'), 2), (('paano', 'rb', 'pr', 'nn', 'cc', 'nn', 'pr', 'nn', 'description'), 2), (('kailan', 'pr', 'vb', 'vb', 'nn', 'numeric'), 2), (('kailan', 'rb', 'dt', 'nn', 'nn', 'numeric'), 3), (('kailan', 'pr', 'rb', 'vb', 'dt', 'dt', 'nn', 'pr', 'numeric'), 2), (('sino', 'rb', 'jj', 'jj', 'nn', 'human'), 2), (('sinu-sino', 'rb', 'dt', 'nn', 'human'), 2), (('sino', 'cc', 'nn', 'pr', 'human'), 2), (('alin', 'rb', 'cc', 'cd', 'nn', 'cc', 'pr', 'dt', 'jj', 'vb', 'entity'), 2), (('alin', 'nn', 'dt', 'vb', 'pr', 'cc', 'nn', 'entity'), 2), (('saan', 'vb', 'dt', 'nn', 'pr', 'location'), 2), (('saan', 'pr', 'vb', 'cc', 'rb', 'pr', 'rb', 'vb', 'location'), 2), (('saan', 'pr', 'vb', 'dt', 'nn', 'cc', 'nn', 'location'), 2), (('ano', 'nn', 'pr', 'human'), 1), (('bakit', 'pr', 'nn', 'description'), 2), (('bakit', 'cc', 'nn', 'nn', 'cc', 'nn', 'pr', 'rb', 'description'), 2), (('kailan', 'pr', 'rb', 'vb', 'pr', 'description'), 2), (('kailan', 'rb', 'vb', 'dt', 'pr', 'description'), 2), (('sino', 'dt', 'vb', 'vb', 'human'), 2), (('sino', 'dt', 'vb', 'pr', 'vb', 'human'), 2), (('alin', 'pr', 'dt', 'nn', 'pr', 'entity'), 2), (('alin', 'rb', 'pr', 'dt', 'vb', 'dt', 'nn', 'entity'), 2), (('saan', 'rb', 'dt', 'nn', 'location'), 2), (('ano', 'dt', 'vb', 'nn', 'dt', 'vb', 'pr', 'description'), 1), (('ano', 'dt', 'jj', 'jj', 'entity'), 2), (('ano', 'dt', 'vb', 'vb', 'cc', 'cd', 'vb', 'pr', 'cc', 'cd', 'nn', 'cc', 'nn', 'description'), 2), (('bakit', 'rb', 'vb', 'vb', 'cc', 'pr', 'nn', 'description'), 2), (('bakit', 'dt', 'nn', 'vb', 'cc', 'dt', 'nn', 'cc', 'nn', 'description'), 2), (('bakit', 'rb', 'nn', 'lm', 'vb', 'rb', 'rb', 'pr', 'cc', 'dt', 'nn', 'cc', 'rb', 'vb', 'nn', 'description'), 2), (('paano', 'pr', 'vb', 'dt', 'nn', 'rb', 'vb', 'nn', 'cc', 'jj', 'nn', 'cc', 'nn', 'pr', 'description'), 2), (('paano', 'pr', 'rb', 'dt', 'nn', 'cc', 'nn', 'description'), 2), (('paano', 'rb', 'rb', 'cc', 'jj', 'description'), 2), (('kailan', 'pr', 'rb', 'jj', 'dt', 'rb', 'cc', 'nn', 'description'), 2), (('kailan', 'rb', 'pr', 'vb', 'cc', 'nn', 'description'), 1), (('sino', 'dt', 'nn', 'nn', 'nn', 'nn', 'description'), 2), (('sino', 'dt', 'nn', 'vb', 'nn', 'human'), 2), (('alin', 'cc', 'cd', 'dt', 'jj', 'jj', 'nn', 'cc', 'nn', 'entity'), 2), (('saan', 'vb', 'cc', 'nn', 'cc', 'nn', 'cc', 'nn', 'location'), 2), (('saan', 'jj', 'dt', 'nn', 'nn', 'nn', 'nn', 'location'), 2), (('bakit', 'vb', 'dt', 'nn', 'vb', 'cc', 'pr', 'nn', 'description'), 2), (('paano', 'rb', 'cc', 'nn', 'rb', 'pr', 'description'), 2), (('kailan', 'rb', 'pr', 'vb', 'description'), 2), (('kailan', 'vb', 'dt', 'nn', 'description'), 2), (('kailan', 'vb', 'pr', 'dt', 'nn', 'description'), 2), (('sino', 'dt', 'nn', 'nn', 'cc', 'nn', 'human'), 2), (('alin', 'cc', 'dt', 'nn', 'cc', 'pr', 'dt', 'nn', 'pr', 'entity'), 2), (('alin', 'cc', 'dt', 'nn', 'dt', 'nn', 'entity'), 2), (('saan', 'rb', 'rb', 'dt', 'nn', 'location'), 2), (('saan', 'vb', 'dt', 'nn', 'location'), 2), (('saan', 'pr', 'vb', 'dt', 'vb', 'cc', 'nn', 'cc', 'nn', 'location'), 2), (('ano', 'dt', 'vb', 'vb', 'entity'), 2), (('ano', 'dt', 'vb', 'nn', 'cc', 'nn', 'pr', 'description'), 1), (('bakit', 'pr', 'pr', 'nn', 'description'), 2), (('paano', 'pr', 'jj', 'dt', 'nn', 'vb', 'description'), 2), (('paano', 'pr', 'pr', 'vb', 'nn', 'description'), 2), (('kailan', 'pr', 'vb', 'pr', 'description'), 1), (('kailan', 'pr', 'rb', 'jj', 'description'), 2), (('sino', 'dt', 'vb', 'nn', 'cc', 'nn', 'pr', 'human'), 3), (('alin', 'dt', 'vb', 'entity'), 5), (('saan', 'pr', 'nn', 'location'), 4), (('ano', 'dt', 'vb', 'nn', 'cc', 'nn', 'entity'), 4), (('ano', 'dt', 'vb', 'vb', 'cc', 'nn', 'cc', 'nn', 'description'), 2), (('bakit', 'vb', 'dt', 'nn', 'rb', 'rb', 'description'), 2), (('bakit', 'vb', 'nn', 'dt', 'jj', 'dt', 'nn', 'description'), 2), (('paano', 'rb', 'dt', 'vb', 'cc', 'nn', 'description'), 2), (('kailan', 'rb', 'vb', 'vb', 'dt', 'nn', 'description'), 1), (('kailan', 'vb', 'dt', 'vb', 'nn', 'numeric'), 2), (('kailan', 'rb', 'vb', 'dt', 'nn', 'description'), 3), (('alin', 'dt', 'rb', 'rb', 'rb', 'rb', 'entity'), 2), (('saan', 'dt', 'nn', 'cc', 'nn', 'nn', 'description'), 2), (('ano', 'cc', 'nn', 'dt', 'nn', 'vb', 'description'), 1), (('ano', 'dt', 'vb', 'vb', 'cc', 'jj', 'description'), 2), (('bakit', 'pr', 'vb', 'cc', 'nn', 'description'), 2), (('bakit', 'vb', 'dt', 'dt', 'vb', 'description'), 2), (('paano', 'rb', 'dt', 'pr', 'nn', 'description'), 2), (('paano', 'rb', 'cc', 'jj', 'cc', 'jj', 'description'), 2), (('kailan', 'pr', 'cd', 'nn', 'numeric'), 2), (('kailan', 'pr', 'cd', 'vb', 'vb', 'numeric'), 2), (('sino', 'dt', 'nn', 'vb', 'pr', 'human'), 2), (('sino', 'dt', 'cd', 'pr', 'nn', 'cc', 'nn', 'human'), 2), (('alin', 'cc', 'pr', 'dt', 'vb', 'pr', 'human'), 1), (('ano', 'dt', 'nn', 'cc', 'vb', 'vb', 'entity'), 1), (('ano', 'dt', 'nn', 'vb', 'pr', 'vb', 'entity'), 1), (('kailan', 'pr', 'rb', 'vb', 'dt', 'vb', 'pr', 'entity'), 1), (('alin', 'rb', 'cc', 'cd', 'entity'), 1), (('alin', 'cc', 'dt', 'pr', 'entity'), 1), (('alin', 'pr', 'entity'), 1), (('saan', 'rb', 'vb', 'vb', 'description'), 1), (('kailan', 'pr', 'vb', 'dt', 'nn', 'rb', 'cc', 'pr', 'description'), 1), (('kailan', 'pr', 'vb', 'dt', 'nn', 'pr', 'cc', 'nn', 'pr', 'description'), 1), (('ano', 'dt', 'vb', 'pr', 'vb', 'pr', 'lm', 'vb', 'entity'), 1), (('alin', 'dt', 'jj', 'jj', 'cc', 'vb', 'cd', 'human'), 1), (('alin', 'cc', 'nn', 'dt', 'jj', 'vb', 'human'), 1), (('saan', 'cc', 'pr', 'vb', 'description'), 1), (('sino', 'pr', 'rb', 'description'), 1), (('alin', 'cc', 'nn', 'dt', 'nn', 'pr', 'entity'), 1), (('ano', 'dt', 'nn', 'vb', 'cc', 'nn', 'pr', 'vb', 'nn', 'abbreviation'), 1), (('kailan', 'rb', 'vb', 'dt', 'nn', 'dt', 'vb', 'nn', 'description'), 1), (('kailang', 'rb', 'pr', 'vb', 'cc', 'jj', 'nn', 'cc', 'jj', 'cc', 'nn', 'description'), 1), (('sino', 'rb', 'rb', 'rb', 'dt', 'jj', 'rb', 'jj', 'dt', 'jj', 'nn', 'cc', 'jj', 'nn', 'human'), 1), (('alin', 'rb', 'cc', 'dt', 'nn', 'dt', 'nn', 'cc', 'nn', 'human'), 1), (('kailan', 'rb', 'vb', 'pr', 'description'), 1), (('kailan', 'pr', 'rb', 'pr', 'vb', 'description'), 2), (('saan', 'pr', 'rb', 'jj', 'pr', 'location'), 2), (('bakit', 'vb', 'pr', 'vb', 'cc', 'nn', 'cc', 'nn', 'description'), 1), (('bakit', 'vb', 'pr', 'nn', 'nn', 'cc', 'nn', 'description'), 1), (('paano', 'pr', 'vb', 'dt', 'dt', 'nn', 'cc', 'pr', 'description'), 1), (('kailan', 'pr', 'rb', 'vb', 'cc', 'nn', 'nn', 'cc', 'vb', 'pr', 'description'), 1), (('saan', 'pr', 'rb', 'nn', 'cc', 'nn', 'abbreviation'), 1), (('sino', 'rb', 'pr', 'description'), 1), (('alin', 'pr', 'dt', 'vb', 'pr', 'vb', 'pr', 'entity'), 1), (('alin', 'cc', 'dt', 'nn', 'cc', 'vb', 'pr', 'jj', 'dt', 'nn', 'entity'), 1), (('saan', 'rb', 'rb', 'pr', 'jj', 'cc', 'nn', 'rb', 'location'), 1), (('kailan', 'rb', 'rb', 'rb', 'rb', 'description'), 1), (('kailan', 'rb', 'vb', 'dt', 'vb', 'cc', 'nn', 'description'), 1), (('alin', 'pr', 'dt', 'nn', 'dt', 'vb', 'cc', 'rb', 'human'), 1), (('saan', 'vb', 'dt', 'nn', 'human'), 1), (('ano', 'rb', 'rb', 'nn', 'pr', 'cc', 'rb', 'pr', 'description'), 1), (('paano', 'pr', 'rb', 'dt', 'pr', 'nn', 'numeric'), 1), (('kailan', 'rb', 'rb', 'pr', 'vb', 'jj', 'description'), 1), (('kailan', 'pr', 'vb', 'dt', 'jj', 'pr', 'nn', 'description'), 1), (('saan', 'rb', 'vb', 'dt', 'nn', 'nn', 'description'), 1), (('sino', 'dt', 'jj', 'pr', 'entity'), 1), (('ano', 'dt', 'description'), 1), (('kailan', 'pr', 'rb', 'vb', 'cc', 'rb', 'description'), 1), (('ano', 'rb', 'nn', 'cc', 'nn', 'description'), 1), (('anong', 'nn', 'cc', 'nn', 'cc', 'rb', 'pr', 'description'), 1), (('sino', 'pr', 'cc', 'vb', 'pr', 'nn', 'description'), 1), (('alin', 'cc', 'dt', 'nn', 'nn', 'dt', 'rb', 'cc', 'nn', 'description'), 1), (('saan', 'pr', 'cc', 'nn', 'cc', 'rb', 'pr', 'location'), 1), (('anu-ano', 'dt', 'dt', 'rb', 'pr', 'cc', 'nn', 'cc', 'nn', 'numeric'), 1), (('kailan', 'vb', 'dt', 'nn', 'cc', 'pr', 'vb', 'dt', 'jj', 'cc', 'nn', 'pr', 'description'), 1), (('saan', 'rb', 'dt', 'nn', 'vb', 'numeric'), 1), (('kailan', 'rb', 'pr', 'rb', 'cc', 'nn', 'description'), 1), (('kailan', 'rb', 'dt', 'nn', 'vb', 'numeric'), 1), (('saan', 'dt', 'cd', 'pr', 'nn', 'location'), 1), (('ano', 'rb', 'dt', 'rb', 'pr', 'cc', 'nn', 'nn', 'numeric'), 1), (('ano', 'dt', 'vb', 'pr', 'cc', 'nn', 'pr', 'rb', 'numeric'), 1), (('ano', 'dt', 'vb', 'pr', 'cc', 'nn', 'cc', 'nn', 'dt', 'vb', 'pr', 'entity'), 1), (('kailan', 'rb', 'pr', 'vb', 'nn', 'description'), 1), (('bakit', 'vb', 'nn', 'pr', 'vb', 'description'), 1), (('alin', 'dt', 'jj', 'jj', 'nn', 'dt', 'nn', 'entity'), 2), (('alin', 'dt', 'jj', 'jj', 'dt', 'nn', 'human'), 1), (('ano', 'rb', 'dt', 'nn', 'pr', 'cc', 'dt', 'vb', 'pr', 'entity'), 1), (('anong', 'dt', 'nn', 'dt', 'jj', 'pr', 'vb', 'entity'), 1), (('ano', 'nn', 'pr', 'entity'), 1), (('ano', 'rb', 'vb', 'pr', 'entity'), 1), (('ano', 'dt', 'vb', 'nn', 'dt', 'vb', 'pr', 'entity'), 1), (('ano', 'dt', 'nn', 'pr', 'vb', 'entity'), 1), (('ano', 'dt', 'vb', 'nn', 'cc', 'nn', 'pr', 'entity'), 1), (('kailan', 'rb', 'vb', 'vb', 'dt', 'nn', 'numeric'), 1), (('ano', 'cc', 'nn', 'dt', 'nn', 'vb', 'entity'), 1), (('saan', 'pr', 'cd', 'vb', 'abbreviation'), 1), (('anong', 'nn', 'dt', 'vb', 'pr', 'jj', 'nn', 'entity'), 1), (('anu-ano', 'dt', 'dt', 'nn', 'cc', 'vb', 'cc', 'pr', 'nn', 'cc', 'vb', 'pr', 'vb', 'entity'), 1), (('anong', 'vb', 'dt', 'rb', 'pr', 'entity'), 1), (('bakit', 'rb', 'rb', 'vb', 'pr', 'rb', 'rb', 'description'), 1), (('bakit', 'cc', 'pr', 'description'), 1), (('paano', 'rb', 'rb', 'cc', 'pr', 'description'), 1), (('paano', 'rb', 'jj', 'cc', 'pr', 'pr', 'description'), 1), (('kailan', 'pr', 'vb', 'cc', 'rb', 'cc', 'pr', 'description'), 1), (('kailan', 'pr', 'vb', 'cc', 'pr', 'numeric'), 1), (('sinong', 'nn', 'dt', 'jj', 'cc', 'pr', 'human'), 1), (('sinu-sino', 'dt', 'vb', 'rb', 'rb', 'cc', 'pr', 'human'), 1), (('alin', 'dt', 'jj', 'vb', 'dt', 'vb', 'cc', 'nn', 'entity'), 1), (('alin', 'dt', 'jj', 'jj', 'nn', 'dt', 'nn', 'pr', 'entity'), 1), (('alin', 'dt', 'jj', 'jj', 'cc', 'nn', 'cc', 'vb', 'nn', 'pr', 'cc', 'nn', 'pr', 'entity'), 1), (('saang', 'nn', 'pr', 'rb', 'vb', 'location'), 1), (('saang', 'nn', 'vb', 'pr', 'pr', 'vb', 'location'), 1), (('saang', 'nn', 'dt', 'vb', 'pr', 'nn', 'vb', 'location'), 1), (('ano', 'dt', 'vb', 'pr', 'rb', 'entity'), 1), (('ano', 'dt', 'vb', 'cc', 'vb', 'dt', 'nn', 'entity'), 1), (('anu-ano', 'dt', 'dt', 'nn', 'entity'), 1), (('ano', 'rb', 'vb', 'pr', 'nn', 'description'), 1), (('bakit', 'rb', 'rb', 'cc', 'vb', 'dt', 'nn', 'nn', 'pr', 'description'), 1), (('bakit', 'dt', 'nn', 'cc', 'nn', 'pr', 'description'), 1), (('paano', 'pr', 'vb', 'vb', 'dt', 'nn', 'nn', 'description'), 1), (('kailan', 'rb', 'rb', 'vb', 'dt', 'vb', 'nn', 'description'), 1), (('kailan', 'rb', 'vb', 'dt', 'nn', 'vb', 'cc', 'vb', 'description'), 1), (('kailan', 'rb', 'rb', 'dt', 'nn', 'numeric'), 2), (('sinu-sino', 'dt', 'vb', 'human'), 1), (('alin-alin', 'pr', 'dt', 'nn', 'entity'), 2), (('alin', 'pr', 'dt', 'cc', 'nn', 'entity'), 1), (('saan', 'pr', 'nn', 'dt', 'nn', 'cc', 'nn', 'location'), 1), (('ano', 'dt', 'jj', 'cc', 'nn', 'entity'), 1), (('ano', 'vb', 'vb', 'cc', 'nn', 'description'), 1), (('ano', 'dt', 'nn', 'pr', 'vb', 'cc', 'nn', 'description'), 1), (('bakit', 'nn', 'vb', 'nn', 'rb', 'vb', 'description'), 1), (('sino', 'rb', 'rb', 'pr', 'pr', 'rb', 'vb', 'nn', 'nn', 'description'), 1), (('paano', 'rb', 'nn', 'cc', 'vb', 'description'), 1), (('paano', 'rb', 'dt', 'nn', 'cc', 'nn', 'cc', 'vb', 'description'), 1), (('kailan', 'dt', 'nn', 'cc', 'nn', 'numeric'), 1), (('kailan', 'pr', 'rb', 'rb', 'numeric'), 1), (('sino', 'rb', 'dt', 'nn', 'description'), 1), (('sino', 'dt', 'nn', 'nn', 'pr', 'human'), 1), (('alin', 'dt', 'vb', 'pr', 'nn', 'cc', 'nn', 'location'), 1), (('saan', 'vb', 'dt', 'nn', 'nn', 'location'), 2), (('saan', 'vb', 'dt', 'nn', 'vb', 'location'), 1), (('saan', 'rb', 'rb', 'rb', 'vb', 'location'), 1), (('ano', 'dt', 'vb', 'vb', 'dt', 'nn', 'entity'), 1), (('ano', 'dt', 'jj', 'pr', 'cc', 'rb', 'pr', 'numeric'), 1), (('bakit', 'pr', 'nn', 'vb', 'cc', 'pr', 'description'), 1), (('bakit', 'cc', 'vb', 'nn', 'pr', 'rb', 'description'), 1), (('paano', 'vb', 'pr', 'lm', 'jj', 'description'), 1), (('paano', 'rb', 'pr', 'cc', 'pr', 'lm', 'nn', 'rb', 'description'), 1), (('sino', 'dt', 'jj', 'jj', 'cc', 'vb', 'cd', 'human'), 1), (('sino', 'dt', 'pr', 'cd', 'vb', 'human'), 1), (('saan', 'pr', 'pr', 'cd', 'vb', 'location'), 1), (('ano', 'dt', 'vb', 'cc', 'pr', 'description'), 1), (('bakit', 'dt', 'vb', 'vb', 'dt', 'nn', 'nn', 'description'), 1), (('paano', 'rb', 'cc', 'vb', 'vb', 'description'), 1), (('kailan', 'pr', 'vb', 'jj', 'description'), 2), (('kailan', 'pr', 'vb', 'cc', 'vb', 'description'), 1), (('kailan', 'rb', 'pr', 'rb', 'rb', 'rb', 'numeric'), 1), (('sino', 'dt', 'nn', 'nn', 'description'), 2), (('sino', 'dt', 'vb', 'dt', 'nn', 'human'), 1), (('alin', 'dt', 'pr', 'vb', 'entity'), 1), (('saan', 'vb', 'dt', 'nn', 'description'), 1), (('bakit', 'rb', 'rb', 'pr', 'rb', 'description'), 1), (('alin', 'pr', 'dt', 'jj', 'entity'), 1), (('saan', 'rb', 'pr', 'vb', 'entity'), 1), (('anong', 'vb', 'nn', 'entity'), 1), (('ano', 'rb', 'rb', 'dt', 'nn', 'rb', 'description'), 1), (('bakit', 'rb', 'rb', 'rb', 'vb', 'description'), 1), (('bakit', 'jj', 'description'), 2), (('paano', 'rb', 'vb', 'pr', 'pr', 'description'), 1), (('paanong', 'rb', 'pr', 'description'), 1), (('kailan', 'dt', 'nn', 'description'), 1), (('sino', 'dt', 'rb', 'cc', 'nn', 'pr', 'human'), 1), (('sino', 'cc', 'vb', 'cd', 'dt', 'vb', 'pr', 'human'), 1), (('alin', 'dt', 'vb', 'cc', 'pr', 'entity'), 1), (('alin', 'cc', 'nn', 'dt', 'vb', 'pr', 'entity'), 1), (('saan', 'pr', 'dt', 'nn', 'pr', 'location'), 1), (('bakit', 'pr', 'dt', 'nn', 'description'), 1), (('alin', 'dt', 'vb', 'cc', 'cd', 'entity'), 1), (('ano', 'dt', 'vb', 'vb', 'cc', 'nn', 'abbreviation'), 1), (('ano', 'rb', 'cc', 'nn', 'dt', 'nn', 'nn', 'nn', 'entity'), 1), (('ano', 'dt', 'nn', 'cc', 'nn', 'dt', 'nn', 'nn', 'nn', 'entity'), 1), (('bakit', 'jj', 'jj', 'dt', 'vb', 'description'), 1), (('bakit', 'jj', 'cc', 'nn', 'nn', 'pr', 'dt', 'nn', 'description'), 1), (('kailan', 'nn', 'dt', 'nn', 'description'), 1), (('kailan', 'vb', 'dt', 'dt', 'jj', 'description'), 1), (('sino', 'dt', 'nn', 'cc', 'pr', 'nn', 'human'), 1), (('sino', 'dt', 'vb', 'pr', 'cc', 'pr', 'nn', 'human'), 1), (('sino', 'pr', 'cc', 'nn', 'description'), 1), (('alin', 'dt', 'jj', 'jj', 'dt', 'vb', 'human'), 1), (('alin', 'dt', 'vb', 'pr', 'pr', 'human'), 1), (('alin', 'dt', 'jj', 'jj', 'pr', 'vb', 'entity'), 1), (('saan', 'dt', 'vb', 'vb', 'pr', 'nn', 'location'), 1), (('saan', 'dt', 'nn', 'pr', 'vb', 'location'), 1), (('anong', 'nn', 'pr', 'entity'), 1), (('bakit', 'pr', 'rb', 'rb', 'pr', 'vb', 'description'), 1), (('alin', 'dt', 'nn', 'pr', 'rb', 'rb', 'rb', 'rb', 'human'), 1), (('saan', 'jj', 'nn', 'pr', 'location'), 1), (('ano', 'dt', 'jj', 'cc', 'nn', 'cc', 'nn', 'cc', 'nn', 'entity'), 1), (('bakit', 'rb', 'jj', 'dt', 'nn', 'rb', 'description'), 1), (('bakit', 'rb', 'vb', 'dt', 'nn', 'vb', 'description'), 1), (('paano', 'rb', 'vb', 'cc', 'jj', 'description'), 3), (('kailan', 'rb', 'vb', 'dt', 'nn', 'nn', 'numeric'), 1), (('kailan', 'rb', 'dt', 'nn', 'cc', 'nn', 'nn', 'numeric'), 1), (('kailan', 'rb', 'vb', 'vb', 'cc', 'nn', 'numeric'), 1), (('sino', 'dt', 'nn', 'nn', 'cc', 'vb', 'human'), 1), (('sino', 'dt', 'nn', 'cc', 'nn', 'cc', 'nn', 'human'), 1), (('alin', 'dt', 'jj', 'vb', 'vb', 'entity'), 1), (('saan', 'rb', 'nn', 'cc', 'nn', 'nn', 'location'), 1), (('saan', 'vb', 'cc', 'jj', 'cc', 'nn', 'location'), 1), (('ano', 'dt', 'nn', 'dt', 'nn', 'nn', 'cc', 'rb', 'pr', 'numeric'), 1), (('ano', 'dt', 'vb', 'pr', 'rb', 'vb', 'description'), 2), (('bakit', 'rb', 'pr', 'nn', 'cc', 'nn', 'pr', 'description'), 1), (('kailan', 'rb', 'vb', 'dt', 'nn', 'pr', 'numeric'), 1), (('sino', 'dt', 'vb', 'nn', 'cc', 'vb', 'pr', 'cc', 'pr', 'cc', 'vb', 'cc', 'dt', 'nn', 'cc', 'nn', 'human'), 1), (('alin', 'dt', 'vb', 'pr', 'vb', 'rb', 'nn', 'entity'), 1), (('alin', 'dt', 'jj', 'jj', 'vb', 'description'), 1), (('nasaan', 'pr', 'nn', 'location'), 1), (('saan', 'pr', 'vb', 'dt', 'nn', 'nn', 'nn', 'location'), 1), (('ano', 'dt', 'jj', 'jj', 'nn', 'dt', 'nn', 'nn', 'nn', 'dt', 'nn', 'entity'), 1), (('ano', 'dt', 'nn', 'nn', 'nn', 'entity'), 1), (('bakit', 'nn', 'cc', 'vb', 'cc', 'nn', 'description'), 1), (('bakit', 'dt', 'nn', 'cc', 'nn', 'nn', 'nn', 'cc', 'nn', 'vb', 'vb', 'description'), 1), (('bakit', 'rb', 'rb', 'rb', 'rb', 'rb', 'rb', 'dt', 'nn', 'cc', 'pr', 'lm', 'vb', 'description'), 1), (('paano', 'rb', 'cc', 'nn', 'dt', 'nn', 'description'), 1), (('paano', 'rb', 'pr', 'cc', 'nn', 'dt', 'dt', 'nn', 'description'), 1), (('kailan', 'rb', 'dt', 'vb', 'cc', 'nn', 'nn', 'numeric'), 1), (('kailan', 'vb', 'dt', 'nn', 'cc', 'nn', 'cc', 'vb', 'numeric'), 1), (('sino', 'dt', 'nn', 'rb', 'rb', 'rb', 'dt', 'nn', 'human'), 1), (('sino', 'dt', 'vb', 'cd', 'nn', 'cc', 'nn', 'nn', 'dt', 'vb', 'cc', 'nn', 'human'), 1), (('sino', 'dt', 'nn', 'dt', 'nn', 'nn', 'human'), 1), (('alin', 'dt', 'jj', 'jj', 'nn', 'vb', 'dt', 'vb', 'pr', 'entity'), 1), (('alin', 'dt', 'jj', 'jj', 'dt', 'nn', 'rb', 'rb', 'nn', 'entity'), 1), (('alin', 'jj', 'jj', 'cc', 'vb', 'dt', 'dt', 'nn', 'nn', 'entity'), 1), (('saan', 'pr', 'rb', 'rb', 'rb', 'cc', 'dt', 'nn', 'nn', 'location'), 1), (('saan', 'rb', 'dt', 'dt', 'nn', 'vb', 'nn', 'cc', 'vb', 'cc', 'vb', 'dt', 'nn', 'vb', 'location'), 1), (('saan', 'vb', 'pr', 'location'), 1), (('ano', 'dt', 'nn', 'cc', 'nn', 'vb', 'description'), 1), (('ano', 'dt', 'nn', 'nn', 'cc', 'vb', 'entity'), 1), (('ano', 'dt', 'vb', 'nn', 'cc', 'pr', 'nn', 'entity'), 1), (('bakit', 'dt', 'nn', 'dt', 'vb', 'nn', 'cc', 'nn', 'description'), 1), (('paano', 'rb', 'dt', 'nn', 'cc', 'nn', 'description'), 1), (('paano', 'rb', 'cc', 'nn', 'cc', 'vb', 'nn', 'description'), 1), (('kailan', 'jj', 'dt', 'nn', 'cc', 'vb', 'numeric'), 1), (('kailan', 'rb', 'cc', 'nn', 'nn', 'numeric'), 1), (('sino', 'dt', 'nn', 'cc', 'vb', 'human'), 1), (('sinu-sino', 'dt', 'dt', 'vb', 'vb', 'cc', 'vb', 'human'), 1), (('sino', 'rb', 'dt', 'nn', 'cc', 'vb', 'rb', 'cc', 'vb', 'dt', 'nn', 'human'), 1), (('alin', 'dt', 'jj', 'jj', 'nn', 'human'), 1), (('aling', 'nn', 'cc', 'nn', 'dt', 'vb', 'pr', 'cd', 'nn', 'location'), 1), (('aling', 'rb', 'dt', 'jj', 'jj', 'nn', 'vb', 'entity'), 1), (('saan', 'vb', 'cc', 'vb', 'dt', 'nn', 'location'), 1), (('saan', 'vb', 'dt', 'cd', 'cc', 'vb', 'location'), 1), (('ano', 'rb', 'pr', 'cc', 'nn', 'pr', 'description'), 2), (('bakit', 'rb', 'dt', 'nn', 'pr', 'description'), 1), (('kailan', 'pr', 'description'), 1), (('sino', 'rb', 'pr', 'cc', 'nn', 'pr', 'description'), 1), (('alin', 'cc', 'vb', 'cd', 'dt', 'nn', 'pr', 'vb', 'nn', 'human'), 1), (('saan', 'pr', 'rb', 'rb', 'jj', 'location'), 1), (('sino', 'rb', 'nn', 'cc', 'nn', 'dt', 'nn', 'human'), 1), (('sino', 'dt', 'vb', 'cc', 'nn', 'pr', 'cc', 'nn', 'human'), 1), (('alin', 'nn', 'entity'), 1), (('alin', 'nn', 'dt', 'vb', 'cc', 'nn', 'dt', 'nn', 'human'), 1), (('saan', 'pr', 'vb', 'dt', 'nn', 'description'), 1), (('saan', 'jj', 'dt', 'vb', 'nn', 'location'), 1), (('ano', 'pr', 'entity'), 1), (('kailan', 'dt', 'nn', 'nn', 'numeric'), 2), (('sino', 'dt', 'vb', 'human'), 3), (('sino', 'pr', 'nn', 'human'), 1), (('alin', 'dt', 'vb', 'nn', 'entity'), 1), (('ano', 'dt', 'nn', 'rb', 'rb', 'rb', 'description'), 1), (('ano', 'rb', 'dt', 'vb', 'vb', 'cc', 'nn', 'description'), 1), (('bakit', 'nn', 'rb', 'pr', 'vb', 'description'), 1), (('bakit', 'pr', 'cc', 'vb', 'vb', 'pr', 'description'), 1), (('paano', 'pr', 'rb', 'rb', 'cc', 'nn', 'pr', 'description'), 1), (('paano', 'pr', 'vb', 'cc', 'jj', 'cc', 'pr', 'cc', 'pr', 'description'), 1), (('paano', 'pr', 'vb', 'cc', 'nn', 'cc', 'nn', 'cc', 'pr', 'description'), 1), (('kailan', 'vb', 'vb', 'dt', 'nn', 'numeric'), 1), (('sino', 'rb', 'pr', 'vb', 'human'), 1), (('alin', 'cc', 'dt', 'pr', 'dt', 'vb', 'entity'), 1), (('alin', 'cc', 'dt', 'nn', 'pr', 'dt', 'vb', 'nn', 'human'), 1), (('alin', 'cc', 'dt', 'nn', 'cc', 'pr', 'dt', 'vb', 'nn', 'entity'), 1), (('saan', 'pr', 'nn', 'cc', 'nn', 'cc', 'nn', 'location'), 1), (('saan', 'dt', 'nn', 'cc', 'vb', 'location'), 1), (('paano', 'pr', 'rb', 'pr', 'vb', 'cc', 'nn', 'pr', 'vb', 'description'), 1), (('sino', 'dt', 'nn', 'pr', 'cc', 'nn', 'human'), 1), (('saan', 'rb', 'vb', 'dt', 'nn', 'nn', 'pr', 'entity'), 1), (('ano', 'rb', 'rb', 'dt', 'vb', 'pr', 'cc', 'nn', 'entity'), 1), (('ano', 'rb', 'rb', 'dt', 'nn', 'nn', 'pr', 'human'), 1), (('ano', 'rb', 'dt', 'vb', 'cc', 'nn', 'nn', 'description'), 1), (('bakit', 'rb', 'vb', 'pr', 'vb', 'cc', 'nn', 'description'), 1), (('paano', 'rb', 'nn', 'description'), 2), (('paano', 'vb', 'pr', 'description'), 1), (('kailan', 'rb', 'rb', 'rb', 'rb', 'rb', 'rb', 'cc', 'nn', 'numeric'), 1), (('kailan', 'rb', 'pr', 'vb', 'jj', 'description'), 1), (('sino', 'dt', 'jj', 'cc', 'vb', 'nn', 'human'), 1), (('sino', 'rb', 'dt', 'nn', 'cc', 'pr', 'rb', 'human'), 1), (('alin', 'vb', 'nn', 'nn', 'human'), 1), (('alin', 'pr', 'rb', 'cc', 'nn', 'pr', 'entity'), 1), (('alin', 'dt', 'nn', 'pr', 'cc', 'nn', 'nn', 'nn', 'entity'), 1), (('saan', 'rb', 'vb', 'dt', 'nn', 'description'), 1), (('aling', 'nn', 'location'), 1), (('saan', 'rb', 'rb', 'pr', 'vb', 'rb', 'nn', 'location'), 1), (('ano', 'pr', 'cc', 'nn', 'entity'), 1), (('ano', 'dt', 'vb', 'pr', 'jj', 'entity'), 1), (('bakit', 'pr', 'vb', 'rb', 'description'), 1), (('bakit', 'rb', 'pr', 'nn', 'description'), 1), (('bakit', 'pr', 'nn', 'vb', 'description'), 1), (('paano', 'cc', 'description'), 1), (('kailan', 'pr', 'rb', 'nn', 'numeric'), 1), (('sino', 'pr', 'cc', 'vb', 'vb', 'dt', 'dt', 'nn', 'human'), 1), (('sino', 'dt', 'nn', 'pr', 'rb', 'human'), 1), (('alin', 'dt', 'nn', 'pr', 'nn', 'entity'), 1), (('saan', 'dt', 'vb', 'pr', 'nn', 'location'), 1), (('ano', 'dt', 'nn', 'pr', 'cc', 'pr', 'entity'), 1), (('ano', 'rb', 'dt', 'nn', 'vb', 'nn', 'cc', 'vb', 'cc', 'pr', 'entity'), 1), (('ano', 'rb', 'dt', 'vb', 'pr', 'cc', 'nn', 'pr', 'description'), 1), (('bakit', 'jj', 'dt', 'nn', 'vb', 'description'), 1), (('bakit', 'dt', 'vb', 'pr', 'lm', 'vb', 'jj', 'cc', 'pr', 'description'), 1), (('paano', 'pr', 'vb', 'cc', 'vb', 'description'), 1), (('paano', 'pr', 'vb', 'dt', 'vb', 'nn', 'description'), 1), (('kailan', 'pr', 'rb', 'pr', 'vb', 'rb', 'numeric'), 1), (('sino', 'dt', 'vb', 'pr', 'vb', 'cc', 'nn', 'human'), 1), (('alin', 'pr', 'dt', 'vb', 'entity'), 2), (('alin', 'dt', 'nn', 'jj', 'cc', 'vb', 'entity'), 1), (('saan', 'nn', 'rb', 'dt', 'nn', 'vb', 'location'), 1), (('nasaan', 'dt', 'nn', 'location'), 1), (('saan', 'rb', 'pr', 'nn', 'location'), 1), (('ano', 'dt', 'pr', 'nn', 'vb', 'entity'), 1), (('ano', 'pr', 'cc', 'nn', 'pr', 'description'), 1), (('bakit', 'rb', 'pr', 'vb', 'cc', 'vb', 'nn', 'description'), 1), (('kailan', 'pr', 'pr', 'vb', 'description'), 1)])\n",
      "\n",
      "1363\n"
     ]
    }
   ],
   "source": [
    "initSet = createInitSet(training)\n",
    "print initSet\n",
    "print '\\n', len(initSet)"
   ]
  },
  {
   "cell_type": "code",
   "execution_count": 52,
   "metadata": {
    "collapsed": false,
    "deletable": true,
    "editable": true
   },
   "outputs": [],
   "source": [
    "#The FP-tree\n",
    "myFPtree, myHeaderTab = createTree(initSet)\n",
    "# print myHeaderTab\n",
    "# myFPtree.disp()"
   ]
  },
  {
   "cell_type": "markdown",
   "metadata": {},
   "source": [
    "## -----------------------"
   ]
  },
  {
   "cell_type": "markdown",
   "metadata": {
    "deletable": true,
    "editable": true
   },
   "source": [
    "### Mine rules from the FP-tree and Training"
   ]
  },
  {
   "cell_type": "code",
   "execution_count": 53,
   "metadata": {
    "collapsed": true,
    "deletable": true,
    "editable": true
   },
   "outputs": [],
   "source": [
    "def ascendTreeV2(leafNode, prefixPath):\n",
    "    \"\"\" Ascends from leaf node to root, collecting the names of \n",
    "    items it encounters\"\"\"\n",
    "\n",
    "    if leafNode.parent != None:\n",
    "        prefixPath.append((leafNode.name, leafNode.count,))\n",
    "        ascendTreeV2(leafNode.parent, prefixPath)"
   ]
  },
  {
   "cell_type": "code",
   "execution_count": 54,
   "metadata": {
    "collapsed": false,
    "deletable": true,
    "editable": true
   },
   "outputs": [],
   "source": [
    "#treeNode comes from header table\n",
    "def findPrefixPathV2(basePat, treeNode):\n",
    "    \"\"\"This function iterates through the linked list until it hits \n",
    "    the end. For each item it encounters, it calls ascendTree().\n",
    "    This list is returned and added to the conditional category base \n",
    "    dictionary called condPats.\"\"\"\n",
    "\n",
    "    condPats = [] #list of all the paths with each category has\n",
    "    \n",
    "    while treeNode != None:\n",
    "        prefixPath = []\n",
    "        ascendTreeV2(treeNode, prefixPath)\n",
    "#         print \"prefixPath: \",  prefixPath\n",
    "        condPats.append(list(reversed(list(prefixPath[1:]))))\n",
    "            \n",
    "        treeNode = treeNode.nodeLink\n",
    "        \n",
    "    return condPats"
   ]
  },
  {
   "cell_type": "code",
   "execution_count": 55,
   "metadata": {
    "collapsed": true,
    "deletable": true,
    "editable": true
   },
   "outputs": [],
   "source": [
    "def mineTreeV2(myFPtree, headerTable, minSup):\n",
    "    \n",
    "    suffixes = ['entity', 'abbreviation', 'description', 'human', \n",
    "                'location', 'numeric']\n",
    "    minedRules = []\n",
    "    \n",
    "    for i in range(0, len(suffixes)):\n",
    "        condPattBases = findPrefixPathV2(suffixes[i], \n",
    "                                         headerTable[suffixes[i]])\n",
    "        \n",
    "#         print 'Conditional category Bases for: ' ,suffixes[i],\n",
    "#         len(condPattBases), '\\n', condPattBases\n",
    "        \n",
    "        condFpTree = []\n",
    "        \n",
    "        for p in range(0, len(condPattBases)):\n",
    "            counts = [v[1] for v in condPattBases[p]]\n",
    "            \n",
    "            for q in range(0, len(counts)):\n",
    "                if counts[q] < minSup:\n",
    "                    break\n",
    "                elif q == len(counts)-1:\n",
    "                    condFpTree.append(condPattBases[p])\n",
    "#                     element = tuple(t[0] for t in condPattBases[p])\n",
    "#                     minedRules.append((element, suffixes[i],))\n",
    "                    \n",
    "        print 'Conditional Fp-Tree for: ' ,suffixes[i], \n",
    "        len(condFpTree), '\\n', condFpTree\n",
    "        \n",
    "        # holds the frequent pattern of each suffix as array of tuples\n",
    "        value = []\n",
    "        \n",
    "        for category in condFpTree:\n",
    "            element = tuple(t[0] for t in category)\n",
    "            value.append(element)\n",
    "            \n",
    "        minedRules.append([suffixes[i], value])\n",
    "        \n",
    "    return minedRules"
   ]
  },
  {
   "cell_type": "code",
   "execution_count": 56,
   "metadata": {
    "collapsed": false,
    "deletable": true,
    "editable": true
   },
   "outputs": [
    {
     "name": "stdout",
     "output_type": "stream",
     "text": [
      "Conditional Fp-Tree for:  entity Conditional Fp-Tree for:  abbreviation Conditional Fp-Tree for:  description Conditional Fp-Tree for:  human Conditional Fp-Tree for:  location Conditional Fp-Tree for:  numeric\n"
     ]
    }
   ],
   "source": [
    "rules = mineTreeV2(myFPtree, myHeaderTab, 80)"
   ]
  },
  {
   "cell_type": "markdown",
   "metadata": {},
   "source": [
    "## -------------------------"
   ]
  },
  {
   "cell_type": "markdown",
   "metadata": {},
   "source": [
    "### Conflict Resolution Schemes"
   ]
  },
  {
   "cell_type": "code",
   "execution_count": 57,
   "metadata": {
    "collapsed": true,
    "deletable": true,
    "editable": true
   },
   "outputs": [],
   "source": [
    "def is_subset(rule, patt):\n",
    "    r = list(rule)\n",
    "    p = list(patt)\n",
    "    \n",
    "    if len(r) > len(p):\n",
    "        return False\n",
    "    else:\n",
    "        l = p[:len(r)]\n",
    "        if r == l:\n",
    "            return True\n",
    "        else:\n",
    "            return False"
   ]
  },
  {
   "cell_type": "code",
   "execution_count": 58,
   "metadata": {
    "collapsed": false,
    "deletable": true,
    "editable": true
   },
   "outputs": [],
   "source": [
    "def getOrderedRuleSet(trainingData, rules):\n",
    "    \"\"\"Rank all of the mined rules according to their accuracy.\n",
    "    Form of both data: ((pattern), category)\n",
    "    Returns the oredered rule set as an array of tuples in the\n",
    "    form (((pattern), category), accuracy).\n",
    "    \"\"\"\n",
    "    \n",
    "#     trainingData = []\n",
    "    \n",
    "#     for data in trainingData: # converts training data to tuples\n",
    "#         pat = tuple(data[:len(data)-1])\n",
    "#         cat = data[len(data)-1]\n",
    "#         trainingData.append((pat, cat,))\n",
    "    \n",
    "#     print \"Local Training Data: \", \"\\n\", trainingData\n",
    "    \n",
    "    antCounts = {} # number of occurances of the antecedent\n",
    "    antConseqCounts = {}\n",
    "    \n",
    "    for r in rules: # populate dictionaries\n",
    "        for pattern in r[1]:\n",
    "            antCounts[pattern] = 0\n",
    "            antConseqCounts[(pattern, r[0])] = 0\n",
    "    \n",
    "    # count number of antecedent in training data\n",
    "    for data in trainingData: \n",
    "        if data[0] in antCounts:\n",
    "            antCounts[data[0]] += 1\n",
    "            \n",
    "#     print \"Antecedent Count Dictionary:\\n\", antCounts\n",
    "    \n",
    "    for data in trainingData:\n",
    "        if data in antConseqCounts:\n",
    "            antConseqCounts[data] += 1\n",
    "            \n",
    "#     print \"Antecendent Consequence:\\n\", antConseqCounts\n",
    "    \n",
    "    orderedRuleSet = []\n",
    "    for rule in antConseqCounts:\n",
    "        accuracy = (float(antConseqCounts[rule])/\n",
    "                    float(antCounts[rule[0]]))*100\n",
    "        accuracy = int(accuracy)\n",
    "        orderedRuleSet.append((rule, accuracy,))\n",
    "        \n",
    "    orderedRuleSet = sorted(orderedRuleSet, key=lambda rule: rule[1], \n",
    "                            reverse=True)\n",
    "#     print \"Ordered Rule Set:\\n\", orderedRuleSet\n",
    "    \n",
    "    return orderedRuleSet"
   ]
  },
  {
   "cell_type": "code",
   "execution_count": 59,
   "metadata": {
    "collapsed": false,
    "deletable": true,
    "editable": true
   },
   "outputs": [],
   "source": [
    "def getDefaultClass(testData):\n",
    "    \"\"\"Data form: ((pattern), category)\"\"\"\n",
    "    \n",
    "    questWord = {'alin': 'entity', 'saan':'location', 'ano':'entity', \n",
    "                 'kailan':'numeric', 'paano':'description', \n",
    "                 'sino':'human', 'bakit':'description'}\n",
    "    \n",
    "    for key in questWord:\n",
    "        if key in testData[0]:\n",
    "            return questWord[key]\n",
    "        \n",
    "    return None"
   ]
  },
  {
   "cell_type": "markdown",
   "metadata": {},
   "source": [
    "## -------------------------------"
   ]
  },
  {
   "cell_type": "markdown",
   "metadata": {
    "deletable": true,
    "editable": true
   },
   "source": [
    "### Classification and Testing"
   ]
  },
  {
   "cell_type": "code",
   "execution_count": 60,
   "metadata": {
    "collapsed": false,
    "deletable": true,
    "editable": true
   },
   "outputs": [],
   "source": [
    "def classify(testingData, rules, decisionList):\n",
    "    \"\"\"testingData form: ((pattern), category)\n",
    "    rules form: [['category', [(pattern1), (pattern2)]]]\n",
    "    decisionList form: [(((pattern), 'category'), accuracy)]\"\"\"\n",
    "\n",
    "    \n",
    "    table = []\n",
    "    \n",
    "    for data in testingData: # populate table\n",
    "        row = []\n",
    "        row.append(data[0])\n",
    "        \n",
    "        cat = []\n",
    "        for r in rules: # question classification\n",
    "            for category in r[1]:\n",
    "                if data[0] == category:\n",
    "                    cat.append(r[0])\n",
    "        \n",
    "        # Conflict Resolution\n",
    "        # if sentence structure did not trigger any category\n",
    "        if len(cat) == 0: \n",
    "            for i in range(0, len(rules)): # for each category\n",
    "                # for each pattern in that category\n",
    "                for j in range(0, len(rules[i][1])): \n",
    "                    # check if any rule is a subset of a sentence\n",
    "                    if is_subset(rules[i][1][j], data[0]) == True:\n",
    "                        cat.append(rules[i][0])\n",
    "                        break\n",
    "                    # if testing still didn't trigger any rule\n",
    "                    # assign default class according to its question word\n",
    "                    elif j == len(rules)-1 and is_subset(rules[i][1][j], \n",
    "                                                         data[0])==False:\n",
    "                        default = getDefaultClass(data[0])\n",
    "                        if default != None:\n",
    "#                             print \"Helloooooooo\"\n",
    "                            cat.append(default)\n",
    "                            break\n",
    "            if len(cat)>1: # more than one category was triggered\n",
    "                default = getDefaultClass(data[0])\n",
    "                if default != None:\n",
    "                    cat = []\n",
    "                    cat.append(default)\n",
    "\n",
    "#   For debugging purpose:                  \n",
    "            if len(cat) > 1:\n",
    "                print \"cat=0: \", data[0], cat\n",
    "        elif len(cat) > 1:\n",
    "            ranks = []\n",
    "            # for each category triggered by data\n",
    "            for i in range(0, len(cat)): \n",
    "                # combine data pattern with category as tuples\n",
    "                tmpD = (data[0], cat[i],) \n",
    "                \n",
    "                # for each rule in decisionList\n",
    "                for rule in decisionList:\n",
    "                    # if combined pattern and category match rule[i]\n",
    "                    if tmpD == rule[0]: \n",
    "                        print rule[0], tmpD\n",
    "                        # get the index\n",
    "                        ranks.append(decisionList.index(rule))\n",
    "#                         print ranks\n",
    "            \n",
    "            newCat = []\n",
    "            newCat.append(cat[ranks.index(max(ranks))])\n",
    "            cat = newCat\n",
    "            \n",
    "#           For debugging purpose:                  \n",
    "#             if len(cat):\n",
    "#                 print \"cat=1: \", data[0], cat\n",
    "            \n",
    "        row.append(cat)\n",
    "        table.append(row)\n",
    "    \n",
    "    return table"
   ]
  },
  {
   "cell_type": "code",
   "execution_count": 61,
   "metadata": {
    "collapsed": false,
    "deletable": true,
    "editable": true
   },
   "outputs": [],
   "source": [
    "def initTestingSet(testingSet):\n",
    "    retSet = []\n",
    "    \n",
    "    for data in testingSet:\n",
    "        key = tuple(data[:len(data)-2])\n",
    "        value = data[len(data)-1]\n",
    "        retSet.append((key,value,))\n",
    "    \n",
    "    return retSet"
   ]
  },
  {
   "cell_type": "code",
   "execution_count": 62,
   "metadata": {
    "collapsed": true,
    "deletable": true,
    "editable": true
   },
   "outputs": [],
   "source": [
    "def initTrainingData(trainingSet):\n",
    "    \"\"\"trainingSet form: ['anong', 'jj', 'pr', 'vb', 'cc', \n",
    "    'vb', 'pr', 'cc', 'pr', 'dt', 'vb', 'pr', 'description']\n",
    "    Returns retSet in the form: ((pattern), category)\"\"\"\n",
    "    \n",
    "    retSet = []\n",
    "    \n",
    "    for data in trainingSet:\n",
    "        lst = list(data)\n",
    "        pattern = tuple(lst[:len(lst)-1])\n",
    "        category = lst[len(lst)-1]\n",
    "        retSet.append((pattern, category,))\n",
    "            \n",
    "    return retSet"
   ]
  },
  {
   "cell_type": "code",
   "execution_count": 63,
   "metadata": {
    "collapsed": false,
    "deletable": true,
    "editable": true
   },
   "outputs": [
    {
     "name": "stdout",
     "output_type": "stream",
     "text": [
      "616\n",
      "616\n",
      "2462\n",
      "2462\n"
     ]
    }
   ],
   "source": [
    "testingData = initTestingSet(testing)\n",
    "print len(testingData)\n",
    "print len(testing)\n",
    "\n",
    "trainingData = initTrainingData(training)\n",
    "print len(trainingData)\n",
    "print len(training)"
   ]
  },
  {
   "cell_type": "code",
   "execution_count": 64,
   "metadata": {
    "collapsed": false,
    "deletable": true,
    "editable": true
   },
   "outputs": [
    {
     "name": "stdout",
     "output_type": "stream",
     "text": [
      "(('saan', 'pr'), 'description') (('saan', 'pr'), 'description')\n",
      "(('saan', 'pr'), 'location') (('saan', 'pr'), 'location')\n",
      "(('kailan', 'pr', 'vb'), 'description') (('kailan', 'pr', 'vb'), 'description')\n",
      "(('kailan', 'pr', 'vb'), 'numeric') (('kailan', 'pr', 'vb'), 'numeric')\n",
      "(('saan', 'pr'), 'description') (('saan', 'pr'), 'description')\n",
      "(('saan', 'pr'), 'location') (('saan', 'pr'), 'location')\n",
      "(('paano', 'pr', 'vb'), 'entity') (('paano', 'pr', 'vb'), 'entity')\n",
      "(('paano', 'pr', 'vb'), 'description') (('paano', 'pr', 'vb'), 'description')\n",
      "(('paano', 'pr', 'vb'), 'human') (('paano', 'pr', 'vb'), 'human')\n",
      "(('saan', 'pr'), 'description') (('saan', 'pr'), 'description')\n",
      "(('saan', 'pr'), 'location') (('saan', 'pr'), 'location')\n",
      "(('saan', 'pr'), 'description') (('saan', 'pr'), 'description')\n",
      "(('saan', 'pr'), 'location') (('saan', 'pr'), 'location')\n",
      "(('saan', 'pr'), 'description') (('saan', 'pr'), 'description')\n",
      "(('saan', 'pr'), 'location') (('saan', 'pr'), 'location')\n",
      "(('saan', 'pr'), 'description') (('saan', 'pr'), 'description')\n",
      "(('saan', 'pr'), 'location') (('saan', 'pr'), 'location')\n",
      "(('saan', 'pr'), 'description') (('saan', 'pr'), 'description')\n",
      "(('saan', 'pr'), 'location') (('saan', 'pr'), 'location')\n",
      "(('saan', 'pr'), 'description') (('saan', 'pr'), 'description')\n",
      "(('saan', 'pr'), 'location') (('saan', 'pr'), 'location')\n",
      "(('saan', 'pr'), 'description') (('saan', 'pr'), 'description')\n",
      "(('saan', 'pr'), 'location') (('saan', 'pr'), 'location')\n",
      "(('saan', 'pr'), 'description') (('saan', 'pr'), 'description')\n",
      "(('saan', 'pr'), 'location') (('saan', 'pr'), 'location')\n",
      "(('saan', 'pr'), 'description') (('saan', 'pr'), 'description')\n",
      "(('saan', 'pr'), 'location') (('saan', 'pr'), 'location')\n",
      "(('saan', 'pr'), 'description') (('saan', 'pr'), 'description')\n",
      "(('saan', 'pr'), 'location') (('saan', 'pr'), 'location')\n",
      "(('saan', 'pr'), 'description') (('saan', 'pr'), 'description')\n",
      "(('saan', 'pr'), 'location') (('saan', 'pr'), 'location')\n",
      "(('paano', 'pr', 'vb'), 'entity') (('paano', 'pr', 'vb'), 'entity')\n",
      "(('paano', 'pr', 'vb'), 'description') (('paano', 'pr', 'vb'), 'description')\n",
      "(('paano', 'pr', 'vb'), 'human') (('paano', 'pr', 'vb'), 'human')\n",
      "(('saan', 'pr'), 'description') (('saan', 'pr'), 'description')\n",
      "(('saan', 'pr'), 'location') (('saan', 'pr'), 'location')\n",
      "(('saan', 'pr'), 'description') (('saan', 'pr'), 'description')\n",
      "(('saan', 'pr'), 'location') (('saan', 'pr'), 'location')\n",
      "(('saan', 'pr'), 'description') (('saan', 'pr'), 'description')\n",
      "(('saan', 'pr'), 'location') (('saan', 'pr'), 'location')\n",
      "(('kailan', 'pr', 'vb'), 'description') (('kailan', 'pr', 'vb'), 'description')\n",
      "(('kailan', 'pr', 'vb'), 'numeric') (('kailan', 'pr', 'vb'), 'numeric')\n",
      "(('saan', 'pr'), 'description') (('saan', 'pr'), 'description')\n",
      "(('saan', 'pr'), 'location') (('saan', 'pr'), 'location')\n",
      "(('saan', 'pr'), 'description') (('saan', 'pr'), 'description')\n",
      "(('saan', 'pr'), 'location') (('saan', 'pr'), 'location')\n",
      "(('saan', 'pr'), 'description') (('saan', 'pr'), 'description')\n",
      "(('saan', 'pr'), 'location') (('saan', 'pr'), 'location')\n",
      "(('saan', 'pr'), 'description') (('saan', 'pr'), 'description')\n",
      "(('saan', 'pr'), 'location') (('saan', 'pr'), 'location')\n",
      "(('saan', 'pr'), 'description') (('saan', 'pr'), 'description')\n",
      "(('saan', 'pr'), 'location') (('saan', 'pr'), 'location')\n",
      "(('saan', 'pr'), 'description') (('saan', 'pr'), 'description')\n",
      "(('saan', 'pr'), 'location') (('saan', 'pr'), 'location')\n",
      "(('kailan', 'pr', 'vb'), 'description') (('kailan', 'pr', 'vb'), 'description')\n",
      "(('kailan', 'pr', 'vb'), 'numeric') (('kailan', 'pr', 'vb'), 'numeric')\n",
      "(('saan', 'pr'), 'description') (('saan', 'pr'), 'description')\n",
      "(('saan', 'pr'), 'location') (('saan', 'pr'), 'location')\n",
      "(('kailan', 'pr', 'vb'), 'description') (('kailan', 'pr', 'vb'), 'description')\n",
      "(('kailan', 'pr', 'vb'), 'numeric') (('kailan', 'pr', 'vb'), 'numeric')\n",
      "(('saan', 'pr'), 'description') (('saan', 'pr'), 'description')\n",
      "(('saan', 'pr'), 'location') (('saan', 'pr'), 'location')\n",
      "(('saan', 'pr'), 'description') (('saan', 'pr'), 'description')\n",
      "(('saan', 'pr'), 'location') (('saan', 'pr'), 'location')\n",
      "(('saan', 'pr'), 'description') (('saan', 'pr'), 'description')\n",
      "(('saan', 'pr'), 'location') (('saan', 'pr'), 'location')\n",
      "(('saan', 'pr'), 'description') (('saan', 'pr'), 'description')\n",
      "(('saan', 'pr'), 'location') (('saan', 'pr'), 'location')\n",
      "(('saan', 'pr', 'vb'), 'abbreviation') (('saan', 'pr', 'vb'), 'abbreviation')\n",
      "(('saan', 'pr', 'vb'), 'description') (('saan', 'pr', 'vb'), 'description')\n",
      "(('saan', 'pr', 'vb'), 'location') (('saan', 'pr', 'vb'), 'location')\n",
      "(('saan', 'pr', 'vb'), 'numeric') (('saan', 'pr', 'vb'), 'numeric')\n",
      "(('paano', 'pr', 'vb'), 'entity') (('paano', 'pr', 'vb'), 'entity')\n",
      "(('paano', 'pr', 'vb'), 'description') (('paano', 'pr', 'vb'), 'description')\n",
      "(('paano', 'pr', 'vb'), 'human') (('paano', 'pr', 'vb'), 'human')\n",
      "(('saan', 'pr'), 'description') (('saan', 'pr'), 'description')\n",
      "(('saan', 'pr'), 'location') (('saan', 'pr'), 'location')\n",
      "(('saan', 'pr'), 'description') (('saan', 'pr'), 'description')\n",
      "(('saan', 'pr'), 'location') (('saan', 'pr'), 'location')\n",
      "(('saan', 'pr'), 'description') (('saan', 'pr'), 'description')\n",
      "(('saan', 'pr'), 'location') (('saan', 'pr'), 'location')\n",
      "(('saan', 'pr'), 'description') (('saan', 'pr'), 'description')\n",
      "(('saan', 'pr'), 'location') (('saan', 'pr'), 'location')\n"
     ]
    }
   ],
   "source": [
    "decisionList = getOrderedRuleSet(trainingData, rules)\n",
    "table = classify(testingData, rules, decisionList)\n",
    "# print testingData\n",
    "# print \"\\n\\nTable: \", table"
   ]
  },
  {
   "cell_type": "markdown",
   "metadata": {},
   "source": [
    "## ---------------------------"
   ]
  },
  {
   "cell_type": "markdown",
   "metadata": {
    "deletable": true,
    "editable": true
   },
   "source": [
    "### Performance Evaluation"
   ]
  },
  {
   "cell_type": "code",
   "execution_count": 65,
   "metadata": {
    "collapsed": true,
    "deletable": true,
    "editable": true
   },
   "outputs": [],
   "source": [
    "from sklearn.metrics import precision_recall_fscore_support\n",
    "from sklearn.metrics import f1_score"
   ]
  },
  {
   "cell_type": "code",
   "execution_count": 66,
   "metadata": {
    "collapsed": false,
    "deletable": true,
    "editable": true
   },
   "outputs": [],
   "source": [
    "def measure_perf(testingData, table):\n",
    "    perfTable = []\n",
    "    \n",
    "    for i in range(0, len(testingData)):\n",
    "        row = []\n",
    "        row.append(testingData[i][1])\n",
    "        row.append(table[i][1])\n",
    "        perfTable.append(row)\n",
    "    \n",
    "#     print perfTable\n",
    "    \n",
    "    correct = 0\n",
    "    misclassified = 0\n",
    "    unclassified = 0\n",
    "    multCat = 0\n",
    "    \n",
    "    for item in perfTable:\n",
    "        if len(item[1]) > 1:\n",
    "            multCat += 1\n",
    "        else:\n",
    "            if item[0] == item[1][0]:\n",
    "                correct += 1\n",
    "            elif len(item[1]) == 0:\n",
    "                unclassified += 1\n",
    "            elif item[0] != item[1][0]:\n",
    "                misclassified += 1\n",
    "            \n",
    "    print \"Total number of testing data: \", len(testingData)\n",
    "    print \"Correctly classified items: \", correct\n",
    "    print \"Misclassified items: \", misclassified\n",
    "    print \"Unclassified items: \", unclassified\n",
    "    print \"Mutiple Classified items: \", multCat\n",
    "    \n",
    "    return perfTable"
   ]
  },
  {
   "cell_type": "code",
   "execution_count": 67,
   "metadata": {
    "collapsed": false,
    "deletable": true,
    "editable": true,
    "scrolled": true
   },
   "outputs": [
    {
     "name": "stdout",
     "output_type": "stream",
     "text": [
      "Total number of testing data:  616\n",
      "Correctly classified items:  485\n",
      "Misclassified items:  131\n",
      "Unclassified items:  0\n",
      "Mutiple Classified items:  0\n"
     ]
    }
   ],
   "source": [
    "assignedPredTab = measure_perf(testingData, table)"
   ]
  },
  {
   "cell_type": "code",
   "execution_count": 70,
   "metadata": {
    "collapsed": false,
    "deletable": true,
    "editable": true,
    "scrolled": true
   },
   "outputs": [
    {
     "name": "stdout",
     "output_type": "stream",
     "text": [
      "[4, 4, 4, 1, 1, 1, 5, 5, 5, 1, 1, 1, 3, 3, 3, 3, 3, 3, 6, 6, 3, 4, 4, 4, 1, 1, 1, 5, 5, 5, 1, 1, 1, 3, 3, 3, 3, 3, 3, 6, 6, 6, 4, 4, 4, 1, 1, 1, 5, 5, 5, 1, 1, 1, 3, 3, 3, 3, 1, 3, 6, 6, 6, 4, 4, 4, 1, 1, 1, 5, 5, 5, 1, 1, 1, 3, 3, 3, 3, 3, 3, 3, 6, 6, 4, 4, 4, 1, 1, 1, 5, 5, 5, 1, 1, 1, 3, 3, 3, 3, 3, 3, 6, 6, 3, 4, 4, 4, 1, 1, 1, 5, 5, 5, 3, 3, 3, 6, 4, 1, 5, 1, 1, 1, 3, 3, 3, 3, 3, 3, 6, 6, 6, 4, 4, 4, 1, 1, 1, 5, 5, 5, 3, 1, 1, 1, 1, 3, 3, 3, 3, 3, 3, 3, 3, 3, 3, 6, 3, 6, 6, 6, 4, 4, 4, 4, 4, 1, 1, 1, 1, 1, 5, 5, 5, 5, 5, 1, 1, 1, 3, 3, 3, 3, 3, 3, 6, 6, 6, 4, 4, 4, 1, 1, 1, 5, 5, 5, 1, 1, 1, 3, 3, 3, 3, 3, 3, 3, 6, 6, 4, 4, 4, 1, 5, 5, 5, 3, 1, 1, 3, 3, 3, 3, 3, 3, 6, 6, 6, 4, 4, 4, 1, 1, 1, 5, 5, 5, 1, 1, 1, 3, 3, 3, 3, 3, 3, 3, 3, 6, 4, 4, 4, 1, 1, 1, 5, 5, 5, 1, 1, 1, 3, 3, 3, 3, 3, 1, 6, 6, 6, 4, 4, 4, 1, 1, 1, 5, 5, 5, 1, 1, 1, 3, 3, 3, 3, 3, 3, 6, 6, 6, 4, 4, 4, 1, 1, 1, 5, 5, 5, 3, 1, 1, 3, 3, 3, 3, 3, 3, 6, 3, 6, 4, 4, 4, 1, 1, 1, 5, 5, 5, 3, 1, 1, 3, 3, 3, 3, 3, 3, 6, 6, 6, 4, 4, 4, 1, 1, 1, 5, 5, 5, 1, 1, 1, 3, 3, 3, 3, 3, 3, 6, 6, 6, 4, 4, 4, 1, 1, 1, 5, 5, 5, 1, 1, 1, 3, 3, 3, 3, 3, 3, 3, 6, 6, 4, 4, 4, 1, 1, 1, 5, 5, 5, 1, 1, 1, 3, 3, 3, 3, 3, 3, 6, 6, 3, 4, 4, 4, 1, 1, 1, 5, 5, 5, 1, 1, 1, 3, 3, 3, 3, 3, 3, 6, 6, 6, 4, 4, 4, 1, 1, 1, 5, 5, 5, 1, 1, 1, 3, 3, 3, 3, 3, 3, 6, 3, 3, 4, 4, 4, 1, 1, 1, 5, 5, 5, 1, 3, 3, 6, 4, 1, 5, 1, 1, 1, 3, 3, 3, 3, 3, 3, 3, 6, 6, 4, 4, 4, 1, 1, 1, 5, 5, 6, 1, 1, 1, 3, 3, 3, 3, 3, 3, 6, 6, 6, 4, 4, 4, 1, 1, 1, 5, 5, 5, 1, 3, 3, 6, 4, 1, 5, 1, 1, 1, 3, 3, 3, 3, 3, 1, 6, 6, 6, 4, 4, 4, 1, 1, 1, 5, 5, 5, 1, 1, 1, 3, 3, 3, 3, 3, 3, 6, 6, 6, 4, 4, 4, 1, 1, 1, 5, 5, 5, 1, 1, 1, 3, 3, 3, 3, 3, 3, 6, 6, 3, 4, 4, 4, 1, 1, 1, 5, 5, 5, 1, 1, 1, 1, 3, 3, 3, 3, 3, 3, 3, 3, 6, 6, 6, 6, 4, 4, 4, 4, 1, 1, 1, 1, 5, 5, 5, 5, 1, 1, 1, 3, 3, 3, 3, 3, 3, 6, 6, 6, 4, 4, 4, 1, 1, 1, 5, 5, 5]\n"
     ]
    }
   ],
   "source": [
    "category = {'entity':1, 'abbreviation':2, 'description':3, 'human':4, \n",
    "            'location':5, 'numeric':6}\n",
    "\n",
    "y_true = []\n",
    "y_pred = []\n",
    "\n",
    "for row in assignedPredTab:\n",
    "    y_true.append(category[row[0]])\n",
    "    y_pred.append(category[row[1][0]])\n",
    "\n",
    "precision_recall_fscore_support(y_true, y_pred, average='macro')\n",
    "\n",
    "print y_pred"
   ]
  },
  {
   "cell_type": "code",
   "execution_count": 71,
   "metadata": {
    "collapsed": false,
    "deletable": true,
    "editable": true
   },
   "outputs": [
    {
     "data": {
      "text/plain": [
       "array([ 0.69172932,  0.        ,  0.77161863,  0.82608696,  0.95505618,\n",
       "        0.80555556])"
      ]
     },
     "execution_count": 71,
     "metadata": {},
     "output_type": "execute_result"
    }
   ],
   "source": [
    "# calculate f-score for each category\n",
    "f1_score(y_true,y_pred, average=None)"
   ]
  },
  {
   "cell_type": "code",
   "execution_count": 72,
   "metadata": {
    "collapsed": false,
    "deletable": true,
    "editable": true
   },
   "outputs": [
    {
     "data": {
      "text/plain": [
       "0.78695511536841034"
      ]
     },
     "execution_count": 72,
     "metadata": {},
     "output_type": "execute_result"
    }
   ],
   "source": [
    "# calculate f-score of the classifier\n",
    "f1_score(y_true,y_pred, average='weighted')"
   ]
  }
 ],
 "metadata": {
  "kernelspec": {
   "display_name": "Python 2",
   "language": "python",
   "name": "python2"
  },
  "language_info": {
   "codemirror_mode": {
    "name": "ipython",
    "version": 2
   },
   "file_extension": ".py",
   "mimetype": "text/x-python",
   "name": "python",
   "nbconvert_exporter": "python",
   "pygments_lexer": "ipython2",
   "version": "2.7.12"
  }
 },
 "nbformat": 4,
 "nbformat_minor": 2
}
