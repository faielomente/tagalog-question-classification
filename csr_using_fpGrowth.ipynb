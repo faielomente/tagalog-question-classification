{
 "cells": [
  {
   "cell_type": "code",
   "execution_count": 4,
   "metadata": {
    "collapsed": false,
    "deletable": true,
    "editable": true
   },
   "outputs": [],
   "source": [
    "from preprocessing import preprocessing_csr\n",
    "import collections"
   ]
  },
  {
   "cell_type": "code",
   "execution_count": 163,
   "metadata": {
    "collapsed": false,
    "deletable": true,
    "editable": true
   },
   "outputs": [],
   "source": [
    "class treeNode:\n",
    "    \"\"\"variables:\n",
    "    name of the node, a count\n",
    "    nodelink used to link similar items\n",
    "    parent vaiable used to refer to the parent of the node in the tree\n",
    "    node contains an empty dictionary for the children in the node\"\"\"\n",
    "    \n",
    "    def __init__(self, nameValue, numOccur, parentNode):\n",
    "        self.name = nameValue\n",
    "        self.count = numOccur\n",
    "        self.nodeLink = None\n",
    "        self.parent = parentNode      #needs to be updated\n",
    "        self.children = []\n",
    "        \n",
    "    def get_child(self, name):\n",
    "        \n",
    "        for c in self.children:\n",
    "            if c.name == name:\n",
    "                return c\n",
    "        \n",
    "        return None\n",
    "        \n",
    "    \n",
    "#increments the count variable with a given amount    \n",
    "    def inc(self, numOccur):\n",
    "        self.count += numOccur\n",
    "#\n",
    "#display tree in text. Useful for debugging        \n",
    "    def disp(self, ind=1):\n",
    "        print ('  '*ind, self.name, ' ', self.count)\n",
    "        for child in self.children:\n",
    "            child.disp(ind+1)"
   ]
  },
  {
   "cell_type": "code",
   "execution_count": 99,
   "metadata": {
    "collapsed": false,
    "deletable": true,
    "editable": true
   },
   "outputs": [
    {
     "name": "stdout",
     "output_type": "stream",
     "text": [
      "('  ', 'pyramid', ' ', 9)\n",
      "('    ', 'eye', ' ', 13)\n"
     ]
    }
   ],
   "source": [
    "# testing the tree\n",
    "rootNode = treeNode('pyramid',9,None)\n",
    "rootNode.children.append(treeNode('eye',13,None))\n",
    "rootNode.disp()"
   ]
  },
  {
   "cell_type": "code",
   "execution_count": 8,
   "metadata": {
    "collapsed": true,
    "deletable": true,
    "editable": true
   },
   "outputs": [],
   "source": [
    "def updateHeader(nodeToTest, targetNode):   #this version does not use recursion\n",
    "    while (nodeToTest.nodeLink != None):    #Do not use recursion to traverse a linked list!\n",
    "        nodeToTest = nodeToTest.nodeLink\n",
    "    nodeToTest.nodeLink = targetNode"
   ]
  },
  {
   "cell_type": "code",
   "execution_count": 9,
   "metadata": {
    "collapsed": true,
    "deletable": true,
    "editable": true
   },
   "outputs": [],
   "source": [
    "def ascendTree(leafNode, prefixPath): #ascends from leaf node to root\n",
    "    \"\"\" which ascends the tree, collecting the names of items it encounters\"\"\"\n",
    "\n",
    "    if leafNode.parent != None:\n",
    "        prefixPath.append(leafNode.name)\n",
    "        ascendTree(leafNode.parent, prefixPath)"
   ]
  },
  {
   "cell_type": "code",
   "execution_count": 44,
   "metadata": {
    "collapsed": true,
    "deletable": true,
    "editable": true
   },
   "outputs": [],
   "source": [
    "def findPrefixPath(basePat, treeNode): #treeNode comes from header table\n",
    "    \"\"\"function iterates through the linked list until it hits the end. \n",
    "    For each item it encounters, it calls ascendTree().This list is \n",
    "    returned and added to the conditional pattern base dictionary \n",
    "    called condPats.\"\"\"\n",
    "\n",
    "    condPats = {}\n",
    "    while treeNode != None:\n",
    "        prefixPath = []\n",
    "        ascendTree(treeNode, prefixPath)\n",
    "        if len(prefixPath) > 1: \n",
    "            condPats[frozenset(prefixPath[1:])] = treeNode.count\n",
    "        treeNode = treeNode.nodeLink\n",
    "    return condPats"
   ]
  },
  {
   "cell_type": "code",
   "execution_count": 108,
   "metadata": {
    "collapsed": false,
    "deletable": true,
    "editable": true
   },
   "outputs": [],
   "source": [
    "def createTree(dataSet, minSup=1): #create FP-tree from dataset but don't mine\n",
    "    \"\"\"takes the dataset and the minimum support as arguments and builds the \n",
    "    FP-tree. This makes two passes through the dataset. The first pass goes \n",
    "    through everything in the dataset and counts the frequency of each term. \n",
    "    These are stored in the header table.\"\"\"\n",
    "    \n",
    "    headerTable = {}\n",
    "\n",
    "    #go over dataSet twice\n",
    "    for trans in dataSet:   #first pass counts frequency of occurance\n",
    "        for item in trans:\n",
    "            headerTable[item] = headerTable.get(item, 0) + dataSet[trans]\n",
    "\n",
    "#     for k in list(headerTable):  #remove items not meeting minSup\n",
    "#         if headerTable[k] < minSup: \n",
    "#             del(headerTable[k])\n",
    "\n",
    "    freqItemSet = list(headerTable.keys())\n",
    "#     print 'freqItemSet: ',freqItemSet\n",
    "\n",
    "    if len(freqItemSet) == 0: \n",
    "        return None, None  #if no items meet min support -->get out\n",
    "    \n",
    "    for k in headerTable:\n",
    "        headerTable[k] = [headerTable[k], None] #reformat headerTable to use Node link \n",
    "    \n",
    "    print 'headerTable: ',headerTable\n",
    "\n",
    "    retTree = treeNode('Null Set', 1, None) #create tree\n",
    "    \n",
    "    # dataSet.items() returns key-value tuple\n",
    "    print dataSet.items()\n",
    "    for tranSet, count in dataSet.items():  #go through dataset 2nd time\n",
    "        localD = collections.OrderedDict()\n",
    "        for item in tranSet:  #put transaction items in order\n",
    "#             print item\n",
    "#             if item in freqItemSet:\n",
    "            localD[item] = headerTable[item][0]\n",
    "#             t = item, headerTable[item][0]\n",
    "#             localD.append(t)\n",
    "        print 'localD: ',localD\n",
    "# SHOULD STUDY THIS PART!\n",
    "        if len(localD) > 0:\n",
    "#             orderedItems = [v[0] for v in sorted(localD.items(), key=lambda p: p[1], reverse=True)]\n",
    "#             print orderedItems\n",
    "            items = list(v[0] for v in localD.items())\n",
    "            print 'items: ', items\n",
    "            updateTree(items, retTree, headerTable, count)   #populate tree with ordered freq itemset\n",
    "            \n",
    "            \n",
    "\n",
    "    return retTree, headerTable #return tree and header table"
   ]
  },
  {
   "cell_type": "code",
   "execution_count": 180,
   "metadata": {
    "collapsed": false,
    "deletable": true,
    "editable": true
   },
   "outputs": [],
   "source": [
    "def updateTree(items, inTree, headerTable, count):\n",
    "    \"\"\"grow the Fp-tree with an itemset\"\"\"\n",
    "\n",
    "    if inTree.get_child(items[0]) != None: #check if orderedItems[0] in retTree.children\n",
    "#         inTree.children[items[0]].inc(count) #incrament count\n",
    "        inTree.get_child(items[0]).inc(count)\n",
    "    else:   #add items[0] to inTree.children\n",
    "        inTree.children.append(treeNode(items[0], count, inTree))\n",
    "        \n",
    "        if headerTable[items[0]][1] == None: #update header table \n",
    "            headerTable[items[0]][1] = inTree.children[len(inTree.children)-1] #W A R N I N G!\n",
    "        else:\n",
    "            updateHeader(headerTable[items[0]][1], inTree.children[len(inTree.children)-1])\n",
    "            \n",
    "    if len(items) > 1: #call updateTree() with remaining ordered items\n",
    "        updateTree(items[1::], inTree.get_child(items[0]), headerTable, count)"
   ]
  },
  {
   "cell_type": "code",
   "execution_count": 181,
   "metadata": {
    "collapsed": false,
    "deletable": true,
    "editable": true
   },
   "outputs": [
    {
     "name": "stdout",
     "output_type": "stream",
     "text": [
      "headerTable:  {'pr': [7, None], 'paano': [1, None], 'nn': [7, None], 'cc': [4, None], 'ano': [2, None], 'vb': [8, None], 'cd': [1, None], 'abbreviation': [7, None], 'saan': [4, None], 'rb': [2, None], 'dt': [4, None]}\n",
      "[(('paano', 'pr', 'vb', 'dt', 'dt', 'nn', 'cc', 'pr', 'abbreviation'), 1), (('ano', 'dt', 'nn', 'vb', 'cc', 'nn', 'pr', 'vb', 'nn', 'abbreviation'), 1), (('saan', 'pr', 'vb', 'abbreviation'), 1), (('saan', 'pr', 'rb', 'vb', 'abbreviation'), 1), (('ano', 'dt', 'vb', 'vb', 'cc', 'nn', 'abbreviation'), 1), (('saan', 'pr', 'rb', 'nn', 'cc', 'nn', 'abbreviation'), 1), (('saan', 'pr', 'cd', 'vb', 'abbreviation'), 1)]\n",
      "localD:  OrderedDict([('paano', 1), ('pr', 7), ('vb', 8), ('dt', 4), ('nn', 7), ('cc', 4), ('abbreviation', 7)])\n",
      "items:  ['paano', 'pr', 'vb', 'dt', 'nn', 'cc', 'abbreviation']\n",
      "localD:  OrderedDict([('ano', 2), ('dt', 4), ('nn', 7), ('vb', 8), ('cc', 4), ('pr', 7), ('abbreviation', 7)])\n",
      "items:  ['ano', 'dt', 'nn', 'vb', 'cc', 'pr', 'abbreviation']\n",
      "localD:  OrderedDict([('saan', 4), ('pr', 7), ('vb', 8), ('abbreviation', 7)])\n",
      "items:  ['saan', 'pr', 'vb', 'abbreviation']\n",
      "localD:  OrderedDict([('saan', 4), ('pr', 7), ('rb', 2), ('vb', 8), ('abbreviation', 7)])\n",
      "items:  ['saan', 'pr', 'rb', 'vb', 'abbreviation']\n",
      "localD:  OrderedDict([('ano', 2), ('dt', 4), ('vb', 8), ('cc', 4), ('nn', 7), ('abbreviation', 7)])\n",
      "items:  ['ano', 'dt', 'vb', 'cc', 'nn', 'abbreviation']\n",
      "localD:  OrderedDict([('saan', 4), ('pr', 7), ('rb', 2), ('nn', 7), ('cc', 4), ('abbreviation', 7)])\n",
      "items:  ['saan', 'pr', 'rb', 'nn', 'cc', 'abbreviation']\n",
      "localD:  OrderedDict([('saan', 4), ('pr', 7), ('cd', 1), ('vb', 8), ('abbreviation', 7)])\n",
      "items:  ['saan', 'pr', 'cd', 'vb', 'abbreviation']\n",
      "('  ', 'Null Set', ' ', 1)\n",
      "('    ', 'paano', ' ', 1)\n",
      "('      ', 'pr', ' ', 1)\n",
      "('        ', 'vb', ' ', 1)\n",
      "('          ', 'dt', ' ', 1)\n",
      "('            ', 'nn', ' ', 1)\n",
      "('              ', 'cc', ' ', 1)\n",
      "('                ', 'abbreviation', ' ', 1)\n",
      "('    ', 'ano', ' ', 2)\n",
      "('      ', 'dt', ' ', 2)\n",
      "('        ', 'nn', ' ', 1)\n",
      "('          ', 'vb', ' ', 1)\n",
      "('            ', 'cc', ' ', 1)\n",
      "('              ', 'pr', ' ', 1)\n",
      "('                ', 'abbreviation', ' ', 1)\n",
      "('        ', 'vb', ' ', 1)\n",
      "('          ', 'cc', ' ', 1)\n",
      "('            ', 'nn', ' ', 1)\n",
      "('              ', 'abbreviation', ' ', 1)\n",
      "('    ', 'saan', ' ', 4)\n",
      "('      ', 'pr', ' ', 4)\n",
      "('        ', 'vb', ' ', 1)\n",
      "('          ', 'abbreviation', ' ', 1)\n",
      "('        ', 'rb', ' ', 2)\n",
      "('          ', 'vb', ' ', 1)\n",
      "('            ', 'abbreviation', ' ', 1)\n",
      "('          ', 'nn', ' ', 1)\n",
      "('            ', 'cc', ' ', 1)\n",
      "('              ', 'abbreviation', ' ', 1)\n",
      "('        ', 'cd', ' ', 1)\n",
      "('          ', 'vb', ' ', 1)\n",
      "('            ', 'abbreviation', ' ', 1)\n"
     ]
    }
   ],
   "source": [
    "#The FP-tree\n",
    "myFPtree, myHeaderTab = createTree(initSet, 3)\n",
    "myFPtree.disp()"
   ]
  },
  {
   "cell_type": "code",
   "execution_count": 12,
   "metadata": {
    "collapsed": true,
    "deletable": true,
    "editable": true
   },
   "outputs": [],
   "source": [
    "def loadSimpDat():\n",
    "    simpDat = preprocessing_csr.format()\n",
    "    return simpDat"
   ]
  },
  {
   "cell_type": "code",
   "execution_count": 13,
   "metadata": {
    "collapsed": true,
    "deletable": true,
    "editable": true
   },
   "outputs": [],
   "source": [
    "def createInitSet(dataSet):\n",
    "    \"\"\"the createTree() function doesnt \n",
    "    take the input data as lists. It expects\n",
    "    a dictionary with the itemsets as the \n",
    "    dictionary keys and the frequency as the\n",
    "    value. A createInitSet() function does this\n",
    "    conversion for you.\"\"\"\n",
    "\n",
    "    retDict = {}\n",
    "\n",
    "    for trans in dataSet:\n",
    "        retDict[tuple(trans)] = 1\n",
    "\n",
    "    return retDict"
   ]
  },
  {
   "cell_type": "code",
   "execution_count": 14,
   "metadata": {
    "collapsed": false,
    "deletable": true,
    "editable": true
   },
   "outputs": [
    {
     "name": "stdout",
     "output_type": "stream",
     "text": [
      "[['saan', 'pr', 'vb', 'abbreviation'], ['paano', 'pr', 'vb', 'dt', 'dt', 'nn', 'cc', 'pr', 'abbreviation'], ['ano', 'dt', 'nn', 'vb', 'cc', 'nn', 'pr', 'vb', 'nn', 'abbreviation'], ['saan', 'pr', 'rb', 'nn', 'cc', 'nn', 'abbreviation'], ['saan', 'pr', 'vb', 'abbreviation'], ['saan', 'pr', 'cd', 'vb', 'abbreviation'], ['ano', 'dt', 'vb', 'vb', 'cc', 'nn', 'abbreviation'], ['saan', 'pr', 'rb', 'vb', 'abbreviation'], ['saan', 'pr', 'vb', 'abbreviation'], ['ano', 'dt', 'vb', 'vb', 'cc', 'nn', 'abbreviation']]\n"
     ]
    }
   ],
   "source": [
    "#testing the sample data\n",
    "simpDat = loadSimpDat()\n",
    "print simpDat"
   ]
  },
  {
   "cell_type": "code",
   "execution_count": 15,
   "metadata": {
    "collapsed": false,
    "deletable": true,
    "editable": true
   },
   "outputs": [
    {
     "name": "stdout",
     "output_type": "stream",
     "text": [
      "{('paano', 'pr', 'vb', 'dt', 'dt', 'nn', 'cc', 'pr', 'abbreviation'): 1, ('ano', 'dt', 'nn', 'vb', 'cc', 'nn', 'pr', 'vb', 'nn', 'abbreviation'): 1, ('saan', 'pr', 'vb', 'abbreviation'): 1, ('saan', 'pr', 'rb', 'vb', 'abbreviation'): 1, ('ano', 'dt', 'vb', 'vb', 'cc', 'nn', 'abbreviation'): 1, ('saan', 'pr', 'rb', 'nn', 'cc', 'nn', 'abbreviation'): 1, ('saan', 'pr', 'cd', 'vb', 'abbreviation'): 1}\n"
     ]
    }
   ],
   "source": [
    "initSet = createInitSet(simpDat)\n",
    "print initSet"
   ]
  }
 ],
 "metadata": {
  "kernelspec": {
   "display_name": "Python 2",
   "language": "python",
   "name": "python2"
  },
  "language_info": {
   "codemirror_mode": {
    "name": "ipython",
    "version": 2
   },
   "file_extension": ".py",
   "mimetype": "text/x-python",
   "name": "python",
   "nbconvert_exporter": "python",
   "pygments_lexer": "ipython2",
   "version": "2.7.12"
  }
 },
 "nbformat": 4,
 "nbformat_minor": 2
}
