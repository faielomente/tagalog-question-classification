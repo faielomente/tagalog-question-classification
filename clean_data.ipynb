{
 "cells": [
  {
   "cell_type": "markdown",
   "metadata": {},
   "source": [
    "## Stemmer\n",
    "Only stem words per line in a file. It cannot stem if the word is still a part of a sentence."
   ]
  },
  {
   "cell_type": "code",
   "execution_count": 88,
   "metadata": {
    "collapsed": true
   },
   "outputs": [],
   "source": [
    "import re\n",
    "import sys\n",
    "import csv\n",
    "\n",
    "infix = ['um', 'in'] ##list of infix\n",
    "prefix = ['makapang','nakapang','nakapan','makapan','nakapam','makapam','nakapag','makapag','nagpati','magpati','nagpaka','magpaka',\n",
    "    'magpapa','nagpapa','nagkaka','magkaka','ipakipa','ikapang','naipag','mangag','nangag','kasing','ipang','pinag','papag','mapag', 'kapag',\n",
    "    'napag','ipaki','magka','magsi','nagka','magma','nagma','magpa','nagpa','maipa','naipa','kasim','pagpa','paka','paki','pang','ipag',\n",
    "    'mang','nang','maka','naka','mapa','napa','ika','pag','isa','ipa','mai','nai','mag','nag','man','nan','mam','nam','ma','na','ka','pa']\n",
    "suffix = ['han', 'hin', 'an','in'] #suffixes\n",
    "vowel = ['a','e','i','o','u']"
   ]
  },
  {
   "cell_type": "code",
   "execution_count": null,
   "metadata": {
    "collapsed": true
   },
   "outputs": [],
   "source": [
    "def strip_infix(word):\n",
    "    dictionary = {'word': \"\", 'infix': \"_\"}\n",
    "\n",
    "    for inf in infix:\n",
    "        if (inf in word):\n",
    "            start_pos = re.search(inf, word).start()\n",
    "            end_pos = re.search(inf, word).end()\n",
    "\n",
    "            #checks the position of infix; removes infix only if in the middle, start position, or word length > 3\n",
    "            if (start_pos >= 0 and end_pos < len(word) and len(word) > 4):\n",
    "                #if word ! in dictionary\n",
    "                word = re.sub(inf,'',word,1)\n",
    "\n",
    "            dictionary['infix'] = inf\n",
    "\n",
    "    dictionary['word'] = word\n",
    "    \n",
    "    return dictionary"
   ]
  },
  {
   "cell_type": "code",
   "execution_count": 89,
   "metadata": {
    "collapsed": true
   },
   "outputs": [],
   "source": [
    "def strip_suffix(word):\n",
    "    d = {'word':\"\", 'suffix': \"_\"}\n",
    "\n",
    "    for suf in suffix:\n",
    "        if (suf in word):\n",
    "            if(word.endswith(suf) and len(word) > 4):\n",
    "                word = re.sub(suf+'$','',word,1)\n",
    "                d['suffix'] = suf\n",
    "\n",
    "    d['word'] = word\n",
    "\n",
    "    return d"
   ]
  },
  {
   "cell_type": "code",
   "execution_count": 90,
   "metadata": {
    "collapsed": true
   },
   "outputs": [],
   "source": [
    "def strip_prefix(word):\n",
    "    # temp_word,prefix_found,the_prefix\n",
    "    d = {'word': \"\", 'prefix': \"_\", 'has_pref': False}\n",
    "\n",
    "    for pre in prefix:\n",
    "        if (pre in word):\n",
    "            if(word.startswith(pre) and len(word) > 5):\n",
    "                word = re.sub(pre,'',word,1)\n",
    "                d['prefix'] = pre\n",
    "            d['has_pref'] = True\n",
    "\n",
    "        if word.startswith(\"-\"):\n",
    "            word = word[1:]\n",
    "\n",
    "        # checks reduplication of vowel prefixes\n",
    "        for char in vowel:\n",
    "            if(word.startswith(char) and len(word) > 1):\n",
    "                if(word[0] == word[1]):\n",
    "                    word = word[1:]\n",
    "\n",
    "        # word = check_reduplication(word)\n",
    "        d['word'] = word\n",
    "\n",
    "    return d"
   ]
  },
  {
   "cell_type": "code",
   "execution_count": 91,
   "metadata": {
    "collapsed": true
   },
   "outputs": [],
   "source": [
    "def check_reduplication(word):\n",
    "    d = {'word': \"\", 'redup': \"_\"}\n",
    "\n",
    "    for i in range(1,3):\n",
    "        if word[:i] == word[i:i+i]:###python substring;\n",
    "            word= word[i:]\n",
    "            d['redup'] = word[:i]\n",
    "            break\n",
    "    \n",
    "    d['word'] = word\n",
    "\n",
    "    return d"
   ]
  },
  {
   "cell_type": "code",
   "execution_count": 86,
   "metadata": {
    "collapsed": true
   },
   "outputs": [],
   "source": [
    "if __name__ == \"__main__\":\n",
    "    \n",
    "#     wordfile = open(sys.argv[1])\n",
    "    wordfile = open(\"files/stem_words_test.txt\", \"r\")\n",
    "    infix_dict = {'word': \"\", 'infix': \"_\"}\n",
    "    pref_dict = {'word': \"\", 'prefix': \"_\", 'has_pref': False}\n",
    "    redup_dict = {'word': \"\", 'redup': \"_\"}\n",
    "    suf_dict = {'word':\"\", 'suffix': \"_\"}\n",
    "\n",
    "    morphology = {'word':\"\", 'root':\"\", 'prefix':\"\", 'infix':\"\", 'suffix':\"\", 'redup':\"\"}\n",
    "\n",
    "    for words in wordfile.readlines():\n",
    "        root = words    \n",
    "        infix_dict = strip_infix(words.lower())    ###remove any infix first\n",
    "        temp_word = infix_dict['word']\n",
    "        prefix_found=False\n",
    "\n",
    "        if len(temp_word.strip()) > 6: #usually root words are 4-5 characters in length\n",
    "        \n",
    "            pref_dict = strip_prefix(temp_word) #try to check prefixes and suffixes\n",
    "            temp_word = pref_dict['word']\n",
    "            redup_dict = check_reduplication(temp_word)\n",
    "            temp_word = redup_dict['word']\n",
    "            suf_dict = strip_suffix(temp_word)\n",
    "            temp_word = suf_dict['word']\n",
    "\n",
    "\n",
    "        while((pref_dict['has_pref'] == True) and (len(temp_word) > 7)):\n",
    "            pref_dict = strip_prefix(temp_word) #try to check prefixes and suffixes\n",
    "            temp_word = pref_dict['word']\n",
    "        \n",
    "        root = check_reduplication(temp_word)\n",
    "\n",
    "        # print (words.strip(), root['word'].strip(), pref_dict['prefix'], infix_dict['infix'], suf_dict['suffix'], redup_dict['redup'])\n",
    "\n",
    "        morphology['word'] = words.strip()\n",
    "        morphology['root'] = root['word'].strip()\n",
    "        morphology['prefix'] = pref_dict['prefix']\n",
    "        morphology['suffix'] = infix_dict['infix']\n",
    "        morphology['redup'] = redup_dict['redup']\n",
    "\n",
    "        print (morphology)"
   ]
  },
  {
   "cell_type": "markdown",
   "metadata": {},
   "source": [
    "### Format the Cleaned data"
   ]
  },
  {
   "cell_type": "code",
   "execution_count": 87,
   "metadata": {
    "collapsed": false
   },
   "outputs": [],
   "source": [
    "import sys\n",
    "import os\n",
    "import csv\n",
    "import my_stemmer\n",
    "\n",
    "def format_data():\n",
    "    input_file = open(os.path.abspath('files/cleaning_output.csv'))\n",
    "    output_file = open(os.path.abspath('files/pos_tags.txt'), 'w+')\n",
    "    csv_f = csv.reader(input_file)\n",
    "    ctr = 1\n",
    "\n",
    "    for row in csv_f:\n",
    "        if ctr == 1:\n",
    "            ctr+=1\n",
    "        else:\n",
    "            for column in range(0, len(row)):\n",
    "                sen = row[column].split(\" \")\n",
    "                for word in sen:\n",
    "                    #separate question mark from the last word\n",
    "                    if '?' in word:\n",
    "                        word = word.replace('?', '')\n",
    "                        output_file.write(word)\n",
    "                        output_file.write(\"\\n\")\n",
    "                        output_file.write(\"?\")\n",
    "                        output_file.write(\"\\n\")\n",
    "                    else:\n",
    "                        output_file.write(word)\n",
    "                        output_file.write(\"\\n\")\n",
    "\n",
    "    input_file.close()\n",
    "    output_file.close()\n",
    "    \n",
    "format_data()"
   ]
  },
  {
   "cell_type": "code",
   "execution_count": null,
   "metadata": {
    "collapsed": true
   },
   "outputs": [],
   "source": []
  }
 ],
 "metadata": {
  "kernelspec": {
   "display_name": "Python 2",
   "language": "python",
   "name": "python2"
  },
  "language_info": {
   "codemirror_mode": {
    "name": "ipython",
    "version": 2
   },
   "file_extension": ".py",
   "mimetype": "text/x-python",
   "name": "python",
   "nbconvert_exporter": "python",
   "pygments_lexer": "ipython2",
   "version": "2.7.12"
  }
 },
 "nbformat": 4,
 "nbformat_minor": 2
}
