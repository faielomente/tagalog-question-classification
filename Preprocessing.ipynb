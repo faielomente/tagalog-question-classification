{
 "cells": [
  {
   "cell_type": "markdown",
   "metadata": {},
   "source": [
    "## Stemmer\n",
    "Only stem words per line in a file. It cannot stem if the word is still a part of a sentence."
   ]
  },
  {
   "cell_type": "code",
   "execution_count": 1,
   "metadata": {
    "collapsed": true
   },
   "outputs": [],
   "source": [
    "import re\n",
    "import csv\n",
    "import os"
   ]
  },
  {
   "cell_type": "code",
   "execution_count": 3,
   "metadata": {
    "collapsed": true
   },
   "outputs": [],
   "source": [
    "infix = ['um', 'in']\n",
    "prefix = [\n",
    "          'makapang', 'nakapang', 'nakapan', 'makapan', 'nakapam',\n",
    "          'makapam', 'nakapag', 'makapag', 'nagpati', 'magpati', 'nagpaka',\n",
    "          'magpaka', 'magpapa', 'nagpapa', 'nagkaka', 'magkaka', 'ipakipa',\n",
    "          'ikapang',  'naipag', 'mangag', 'nangag', 'kasing', 'ipang', 'pinag',\n",
    "          'papag', 'mapag', 'kapag', 'napag', 'ipaki', 'magka', 'magsi',\n",
    "          'nagka', 'magma', 'nagma', 'magpa',  'nagpa', 'maipa', 'naipa',\n",
    "          'kasim', 'pagpa', 'paka', 'paki', 'pang', 'ipag', 'mang', 'nang',\n",
    "          'maka', 'naka', 'mapa', 'napa', 'ika', 'pag', 'isa', 'ipa', 'mai',\n",
    "          'nai', 'mag', 'nag', 'man', 'nan', 'mam', 'nam', 'ma', 'na', 'ka',\n",
    "          'pa'\n",
    "          ]\n",
    "suffix = ['han', 'hin', 'an', 'in', 'ng']\n",
    "vowel = ['a', 'e', 'i', 'o', 'u']"
   ]
  },
  {
   "cell_type": "code",
   "execution_count": null,
   "metadata": {
    "collapsed": true
   },
   "outputs": [],
   "source": [
    "def strip_infix(word):\n",
    "    dictionary = {'word': \"\", 'infix': \"_\"}\n",
    "\n",
    "    for inf in infix:\n",
    "        if (inf in word):\n",
    "            start_pos = re.search(inf, word).start()\n",
    "            end_pos = re.search(inf, word).end()\n",
    "\n",
    "            # checks the position of infix; removes infix only if in the\n",
    "            # middle,start position, or word length > 3\n",
    "            if (start_pos >= 0 and end_pos < len(word) and len(word) > 4):\n",
    "                # if word ! in dictionary\n",
    "                word = re.sub(inf, '', word, 1)\n",
    "\n",
    "            dictionary['infix'] = inf\n",
    "\n",
    "    dictionary['word'] = word\n",
    "\n",
    "    return dictionary"
   ]
  }
 ],
 "metadata": {
  "kernelspec": {
   "display_name": "Python 2",
   "language": "python",
   "name": "python2"
  },
  "language_info": {
   "codemirror_mode": {
    "name": "ipython",
    "version": 2
   },
   "file_extension": ".py",
   "mimetype": "text/x-python",
   "name": "python",
   "nbconvert_exporter": "python",
   "pygments_lexer": "ipython2",
   "version": "2.7.12"
  }
 },
 "nbformat": 4,
 "nbformat_minor": 2
}
